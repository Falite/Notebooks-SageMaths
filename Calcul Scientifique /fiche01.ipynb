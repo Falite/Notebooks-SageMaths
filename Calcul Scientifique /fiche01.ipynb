{
 "cells": [
  {
   "cell_type": "markdown",
   "id": "432141f8-a246-4dff-a5a6-4812607d797a",
   "metadata": {},
   "source": [
    "# Fiche01\n",
    "\n",
    "On prend $A=\\begin{pmatrix}4&1&2\\\\ 1&5&3\\\\ 2&3&6 \\end{pmatrix}$           \n",
    "\n",
    "elle est symétrique définie positive, on veut calculer ses valeurs propres $\\lambda_1,\\lambda_2,\\lambda_3$               \n",
    "puis représenter la fonction $f(\\alpha):\\mathbb R\\longrightarrow \\max([1-\\alpha \\lambda_1|,|1-\\alpha \\lambda_n|)$"
   ]
  },
  {
   "cell_type": "code",
   "execution_count": 3,
   "id": "a02a04ea-fdf5-44cd-a7ee-d3c4942c3ad3",
   "metadata": {},
   "outputs": [],
   "source": [
    "%display latex"
   ]
  },
  {
   "cell_type": "markdown",
   "id": "2fb0e5ac-f0f8-41b4-8d78-fe652be3f82b",
   "metadata": {},
   "source": [
    "### Ecriture de la matrice"
   ]
  },
  {
   "cell_type": "code",
   "execution_count": 4,
   "id": "c85a38eb-1046-45a5-af8d-0213e4af3829",
   "metadata": {},
   "outputs": [],
   "source": [
    "A=matrix([[4,1,2],\n",
    "          [1,5,3],\n",
    "          [2,3,6]])\n"
   ]
  },
  {
   "cell_type": "code",
   "execution_count": 5,
   "id": "3672fd0a-cf39-4563-95b0-d5ac0f590964",
   "metadata": {},
   "outputs": [
    {
     "name": "stdout",
     "output_type": "stream",
     "text": [
      "la matrice est symétrique\n"
     ]
    }
   ],
   "source": [
    "if(A==A.transpose()):\n",
    "    print(\"la matrice est symétrique\")"
   ]
  },
  {
   "cell_type": "markdown",
   "id": "55756536-c281-42d4-a086-a7ae885ae367",
   "metadata": {},
   "source": [
    "### Calcul des valeurs propres"
   ]
  },
  {
   "cell_type": "code",
   "execution_count": 6,
   "id": "2ec0fcc8-c4dc-40c6-9c2b-0c6de595737e",
   "metadata": {},
   "outputs": [
    {
     "name": "stdout",
     "output_type": "stream",
     "text": [
      "les valeurs propres sont positives\n"
     ]
    }
   ],
   "source": [
    "valeurs_propres = A.eigenvalues()\n",
    "\n",
    "if(valeurs_propres>[0,0,0]):\n",
    "    print(\"les valeurs propres sont positives\")"
   ]
  },
  {
   "cell_type": "markdown",
   "id": "1c12d3ba-c990-4fb7-8473-2b6986611790",
   "metadata": {},
   "source": [
    "On en déduit que $A$ est bien définie positive "
   ]
  },
  {
   "cell_type": "markdown",
   "id": "57859eba-3f2a-447a-b069-ae6bf6d5bc1f",
   "metadata": {},
   "source": [
    "## Ecriture de la fonction"
   ]
  },
  {
   "cell_type": "code",
   "execution_count": 7,
   "id": "2e8c8bb3-fcb1-4732-b219-894a4c0c95ed",
   "metadata": {},
   "outputs": [],
   "source": [
    "lambda_1=min(valeurs_propres)\n",
    "lambda_3=max(valeurs_propres)"
   ]
  },
  {
   "cell_type": "code",
   "execution_count": 8,
   "id": "cee0edb8-1d61-4364-afa5-77b5e72a7bf0",
   "metadata": {},
   "outputs": [
    {
     "data": {
      "image/png": "[encoded data removed]",
      "text/plain": [
       "Graphics object consisting of 1 graphics primitive"
      ]
     },
     "execution_count": 8,
     "metadata": {},
     "output_type": "execute_result"
    }
   ],
   "source": [
    "var('alpha')\n",
    "def phi(alpha):\n",
    "    return max(abs(1-alpha*lambda_1),abs(1-alpha*lambda_3))\n",
    "\n",
    "plot(phi,(alpha,-1,1),\n",
    "    ymin=-5,ymax=5)"
   ]
  },
  {
   "cell_type": "markdown",
   "id": "64b41346-62be-41ec-8656-da704a530066",
   "metadata": {},
   "source": [
    "# Méthode du gradient "
   ]
  },
  {
   "cell_type": "markdown",
   "id": "11985f52-0ce2-4917-800e-5358b331ec0b",
   "metadata": {},
   "source": [
    "## Choix d'un second membre, calcul de la solution sur sage \n",
    "\n",
    "\n",
    "On choisit un second membre $b=\\begin{pmatrix} 1\\\\3\\\\2 \\end{pmatrix}$"
   ]
  },
  {
   "cell_type": "code",
   "execution_count": 18,
   "id": "8071ae73-5621-429a-a227-e4aa7b5a0255",
   "metadata": {},
   "outputs": [],
   "source": [
    "b=vector([1,3,2])"
   ]
  },
  {
   "cell_type": "markdown",
   "id": "044c986c-d7dd-4470-9158-842451401657",
   "metadata": {},
   "source": [
    "Ob calcule la solution qu'on va comparer avec la suite de la méthode du gradient "
   ]
  },
  {
   "cell_type": "code",
   "execution_count": 19,
   "id": "becef3f9-ba97-41b1-9602-b41f290e9d23",
   "metadata": {},
   "outputs": [
    {
     "name": "stdout",
     "output_type": "stream",
     "text": [
      "(1/10, 4/7, 1/70)\n"
     ]
    }
   ],
   "source": [
    "x_sol=A.solve_right(b)\n",
    "\n",
    "print(x_sol)"
   ]
  },
  {
   "cell_type": "markdown",
   "id": "6b5ab078-7709-4086-8109-4242e7e7f779",
   "metadata": {},
   "source": [
    "On vérifie, au cas où, la solution : "
   ]
  },
  {
   "cell_type": "code",
   "execution_count": 20,
   "id": "e0754b61-dfc4-46fd-9016-5c874de85da9",
   "metadata": {},
   "outputs": [
    {
     "data": {
      "text/html": [
       "<html>\\(\\displaystyle \\left(0,\\,0,\\,0\\right)\\)</html>"
      ],
      "text/latex": [
       "$\\displaystyle \\left(0,\\,0,\\,0\\right)$"
      ],
      "text/plain": [
       "(0, 0, 0)"
      ]
     },
     "execution_count": 20,
     "metadata": {},
     "output_type": "execute_result"
    }
   ],
   "source": [
    "A*x-b"
   ]
  },
  {
   "cell_type": "markdown",
   "id": "d7051914-d3f4-451f-b5a2-c7e6f0f07296",
   "metadata": {},
   "source": [
    "la solution marche bel et bien."
   ]
  },
  {
   "cell_type": "markdown",
   "id": "6b4ff2c6-1ee8-4e53-9c7f-e86965ef8e69",
   "metadata": {},
   "source": [
    "## Ecriture de la suite\n",
    "\n",
    "choix du pas constant et calcul de la suite\n",
    "on a déterminé que le meilleur choix de pas constant est $\\alpha=\\frac 2{\\lambda_n}$ avec $\\lambda_n $ la valeur propre de $A$ la plus grande"
   ]
  },
  {
   "cell_type": "code",
   "execution_count": 21,
   "id": "2de5c79e-68cd-4572-8833-cc6a4cd07ed7",
   "metadata": {},
   "outputs": [],
   "source": [
    "pas=2/lambda_3"
   ]
  },
  {
   "cell_type": "code",
   "execution_count": 22,
   "id": "2d1eb422-0a4d-4ad0-b089-034f8352a01f",
   "metadata": {},
   "outputs": [],
   "source": [
    "def gradient(A,b,n):\n",
    "    if(n==0):\n",
    "        x=vector([1,1,1])\n",
    "        return x\n",
    "    else:\n",
    "        x=gradient(A,b,n-1)\n",
    "        return x+pas*(b-A*x)"
   ]
  },
  {
   "cell_type": "code",
   "execution_count": 28,
   "id": "2adc9151-00f3-481f-87a7-860000d647dc",
   "metadata": {},
   "outputs": [
    {
     "name": "stdout",
     "output_type": "stream",
     "text": [
      "(-0.486494906?, -0.750294374?, -0.943064339?)\n",
      "(-0.5?, -1.?, -1.?)\n",
      "(0.?e26, 0.?e26, 0.?e26)\n",
      "(0.?e70, 0.?e70, 0.?e70)\n"
     ]
    }
   ],
   "source": [
    "for i in [10,20,50,100]:\n",
    "    print(x_sol-gradient(A,b,i))"
   ]
  },
  {
   "cell_type": "code",
   "execution_count": 34,
   "id": "2c170dfb-84d0-445c-9895-70aa9dc2f9d3",
   "metadata": {},
   "outputs": [
    {
     "data": {
      "image/png": "[encoded data removed]",
      "text/plain": [
       "Graphics object consisting of 1 graphics primitive"
      ]
     },
     "execution_count": 34,
     "metadata": {},
     "output_type": "execute_result"
    }
   ],
   "source": [
    "def erreur_gradient(A,b,n):\n",
    "    erreur=gradient(A,b,n)-x_sol\n",
    "    norme_erreur=erreur.norm()\n",
    "    return norme_erreur\n",
    "\n",
    "points=[]\n",
    "for i in range(1,200):\n",
    "    points.append(erreur_gradient(A,b,i))\n",
    "\n",
    "list_plot(points,plotjoined=False, marker='o', color='blue',\n",
    "         ymin=0,ymax=2)"
   ]
  },
  {
   "cell_type": "markdown",
   "id": "221af5cb-e3c9-4c9d-bf57-6f8414d8ac5c",
   "metadata": {},
   "source": [
    "# Fiche 01 : Plus général\n",
    "\n",
    "On cherche à appliquer la méthode du gradient avec $A$ symétrique définie positive peu importe la dimension.           \n",
    "On commence par une simple fonction pour vérifier que la matrice est bien symétrique définie positive puis on écrira la fonction de la méthode du gradient :"
   ]
  },
  {
   "cell_type": "code",
   "execution_count": 35,
   "id": "8b6b1dc1-a540-4ea1-9fe3-6ef9a1eb78a4",
   "metadata": {},
   "outputs": [],
   "source": [
    "def verif(A):\n",
    "    va_propres=A.eigenvalues()\n",
    "    positif=True\n",
    "    for e in va_propres:\n",
    "        if e<=0:\n",
    "            positif=False\n",
    "    if A==A.transpose() and positif:\n",
    "        return True\n",
    "    else:\n",
    "        return False "
   ]
  },
  {
   "cell_type": "markdown",
   "id": "8e34e726-1f83-4d54-b85d-af825ec52c98",
   "metadata": {},
   "source": [
    "On continue avec une fonction qui fait la méthode du gradient à pas constant "
   ]
  },
  {
   "cell_type": "code",
   "execution_count": 36,
   "id": "740b9b68-8987-48b7-bffe-933615d32686",
   "metadata": {},
   "outputs": [],
   "source": [
    "def Gradient(A,b,n):\n",
    "    va_max = max(A.eigenvalues())\n",
    "    if(n==0):\n",
    "        dim=A.nrows()  #récupérer la dimension de la matrice\n",
    "        x=vector(1 for _ in range(dim))\n",
    "        return x\n",
    "    else:\n",
    "        pas=2/va_max\n",
    "        x=gradient(A,b,n-1)\n",
    "        return x-pas*(b-A*x)"
   ]
  },
  {
   "cell_type": "code",
   "execution_count": null,
   "id": "237c3cc7-e59e-42e3-9ed2-fa5da2287f5e",
   "metadata": {},
   "outputs": [],
   "source": []
  }
 ],
 "metadata": {
  "kernelspec": {
   "display_name": "SageMath 10.4",
   "language": "sage",
   "name": "sagemath-10.4"
  },
  "language_info": {
   "codemirror_mode": {
    "name": "ipython",
    "version": 3
   },
   "file_extension": ".py",
   "mimetype": "text/x-python",
   "name": "python",
   "nbconvert_exporter": "python",
   "pygments_lexer": "ipython3",
   "version": "3.12.4"
  }
 },
 "nbformat": 4,
 "nbformat_minor": 5
}
