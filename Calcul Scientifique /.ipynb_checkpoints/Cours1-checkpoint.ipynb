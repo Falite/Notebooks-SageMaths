{
 "cells": [
  {
   "cell_type": "markdown",
   "id": "a0a21873-54ec-4176-b286-b17c1de6c4d7",
   "metadata": {},
   "source": [
    "# Cours 1 (Morillon)\n",
    "\n",
    "## Exemple :        \n",
    "\n",
    "On cherche à représenter $\\Gamma : \\mathbb R \\longrightarrow \\mathbb R^2 $.           \n",
    "            $~~~~~~~~~~~~~~~~~~~~~~~~~~~~~~~~~~~t :\\longrightarrow \\big( \\frac{t^2}{1+t^2},\\frac{t^3}{1+t^2})$"
   ]
  },
  {
   "cell_type": "code",
   "execution_count": 1,
   "id": "44dda013-da3c-4ddd-bac8-40b19dd44fc9",
   "metadata": {},
   "outputs": [
    {
     "data": {
      "text/plain": [
       "t"
      ]
     },
     "execution_count": 1,
     "metadata": {},
     "output_type": "execute_result"
    }
   ],
   "source": [
    "var('t')"
   ]
  },
  {
   "cell_type": "code",
   "execution_count": 3,
   "id": "9fc1dc48-c01c-43b9-b654-da3862f516ce",
   "metadata": {},
   "outputs": [
    {
     "data": {
      "text/plain": [
       "(t^2/(t^2 + 1), t^3/(t^2 + 1))"
      ]
     },
     "execution_count": 3,
     "metadata": {},
     "output_type": "execute_result"
    }
   ],
   "source": [
    "Gamma = vector([\n",
    "    t^2 / (1+t^2),\n",
    "    t^3/(1+t^2)])\n",
    "Gamma"
   ]
  },
  {
   "cell_type": "code",
   "execution_count": 17,
   "id": "334b6dc8-2403-4360-a884-9099bbee632f",
   "metadata": {},
   "outputs": [
    {
     "data": {
      "image/png": "[encoded data removed]",
      "text/plain": [
       "Graphics object consisting of 1 graphics primitive"
      ]
     },
     "metadata": {},
     "output_type": "display_data"
    }
   ],
   "source": [
    "plot = parametric_plot(Gamma,(t,-10,10))\n",
    "plot.show(xmin=-2, xmax=2, ymin=-5,ymax=5, aspect_ratio=1)"
   ]
  },
  {
   "cell_type": "markdown",
   "id": "69914926-72ca-49f4-9afb-706627aa57af",
   "metadata": {},
   "source": [
    "### méthode de la résultante"
   ]
  },
  {
   "cell_type": "code",
   "execution_count": 18,
   "id": "128c0be3-ee76-4691-beb2-4558d82c21bf",
   "metadata": {},
   "outputs": [],
   "source": [
    "R.<x,y>= PolynomialRing(ZZ)\n",
    "PRT.<T>=PolynomialRing(R)"
   ]
  },
  {
   "cell_type": "code",
   "execution_count": 19,
   "id": "2748c45b-8f7e-490e-bcb5-5e88abbd4c2c",
   "metadata": {},
   "outputs": [
    {
     "data": {
      "text/plain": [
       "(x - 1)*T^2 + x"
      ]
     },
     "execution_count": 19,
     "metadata": {},
     "output_type": "execute_result"
    }
   ],
   "source": [
    "P=(x-1)*T^2 + x\n",
    "P"
   ]
  },
  {
   "cell_type": "code",
   "execution_count": 20,
   "id": "5feaa82b-1c74-4bb1-b1f1-8f06b1a399ea",
   "metadata": {},
   "outputs": [
    {
     "data": {
      "text/plain": [
       "-T^3 + y*T^2 + y"
      ]
     },
     "execution_count": 20,
     "metadata": {},
     "output_type": "execute_result"
    }
   ],
   "source": [
    "Q = - T^3 + y * T^2 + y \n",
    "Q"
   ]
  },
  {
   "cell_type": "code",
   "execution_count": 24,
   "id": "84b871d3-7bf6-4ec9-a06d-ff7ea2aa6dd5",
   "metadata": {},
   "outputs": [
    {
     "data": {
      "text/plain": [
       "[x - 1     0     x     0     0]\n",
       "[    0 x - 1     0     x     0]\n",
       "[    0     0 x - 1     0     x]\n",
       "[   -1     y     0     y     0]\n",
       "[    0    -1     y     0     y]"
      ]
     },
     "execution_count": 24,
     "metadata": {},
     "output_type": "execute_result"
    }
   ],
   "source": [
    "M = P.sylvester_matrix(Q)\n",
    "M"
   ]
  },
  {
   "cell_type": "code",
   "execution_count": 25,
   "id": "d15549ce-1594-40f0-8e9c-17740b184c98",
   "metadata": {},
   "outputs": [
    {
     "data": {
      "text/plain": [
       "x^3 + x*y^2 - y^2"
      ]
     },
     "execution_count": 25,
     "metadata": {},
     "output_type": "execute_result"
    }
   ],
   "source": [
    "detM= det(M)\n",
    "detM"
   ]
  },
  {
   "cell_type": "code",
   "execution_count": null,
   "id": "e3ba684a-1fc0-427b-98f2-295eab40b727",
   "metadata": {},
   "outputs": [],
   "source": []
  }
 ],
 "metadata": {
  "kernelspec": {
   "display_name": "SageMath 10.4",
   "language": "sage",
   "name": "sagemath-10.4"
  },
  "language_info": {
   "codemirror_mode": {
    "name": "ipython",
    "version": 3
   },
   "file_extension": ".py",
   "mimetype": "text/x-python",
   "name": "python",
   "nbconvert_exporter": "python",
   "pygments_lexer": "ipython3",
   "version": "3.12.4"
  }
 },
 "nbformat": 4,
 "nbformat_minor": 5
}
