{
 "cells": [
  {
   "cell_type": "markdown",
   "id": "6e3d3fec-aab7-42be-b109-8e49b53a38cf",
   "metadata": {},
   "source": [
    "# TD 5 exercice 5"
   ]
  },
  {
   "cell_type": "markdown",
   "id": "8ecec9e2-33f0-4044-b919-b770533568d7",
   "metadata": {},
   "source": [
    "Programmons les polynômes de Tchebytchev "
   ]
  },
  {
   "cell_type": "code",
   "execution_count": null,
   "id": "2dd6b913-d2ec-4fad-b591-6a2f77685b55",
   "metadata": {},
   "outputs": [],
   "source": []
  }
 ],
 "metadata": {
  "kernelspec": {
   "display_name": "SageMath 10.4",
   "language": "sage",
   "name": "sagemath-10.4"
  },
  "language_info": {
   "codemirror_mode": {
    "name": "ipython",
    "version": 3
   },
   "file_extension": ".py",
   "mimetype": "text/x-python",
   "name": "python",
   "nbconvert_exporter": "python",
   "pygments_lexer": "ipython3",
   "version": "3.12.4"
  }
 },
 "nbformat": 4,
 "nbformat_minor": 5
}
