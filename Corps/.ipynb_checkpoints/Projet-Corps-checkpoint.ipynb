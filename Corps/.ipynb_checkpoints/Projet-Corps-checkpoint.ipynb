{
 "cells": [
  {
   "cell_type": "markdown",
   "id": "69203868-2e55-467c-b1a1-d629f30ef664",
   "metadata": {},
   "source": [
    "# Projet Corps "
   ]
  },
  {
   "cell_type": "markdown",
   "id": "d78bf061-acf5-4fb8-a880-6240260bed26",
   "metadata": {},
   "source": [
    "On a : \n",
    "\n",
    "$P=X^5- 6X + 3$ un polynôme de $\\mathbb Q[X]$\n",
    "\n",
    "\n",
    "On cherche à montrer qu'il n'est pas résoluble par radicaux."
   ]
  },
  {
   "cell_type": "code",
   "execution_count": 22,
   "id": "691c5fad-981f-4d2c-a4d0-a5c5f9794270",
   "metadata": {},
   "outputs": [],
   "source": [
    "%display latex"
   ]
  },
  {
   "cell_type": "code",
   "execution_count": 23,
   "id": "b269e485-aaf9-4279-8162-2bb2e781fe89",
   "metadata": {},
   "outputs": [],
   "source": [
    "#Définition de l'environnement dans lequel on travaille\n",
    "K = QQ\n",
    "X = polygen(K)"
   ]
  },
  {
   "cell_type": "code",
   "execution_count": 24,
   "id": "97522679-df8c-45c2-82bb-786ddf62f22e",
   "metadata": {},
   "outputs": [],
   "source": [
    "#On rentre le polynôme \n",
    "P = X^5 - 6*X + 3"
   ]
  },
  {
   "cell_type": "code",
   "execution_count": 25,
   "id": "26e75116-b8af-4f8b-beaf-e9194dddec0d",
   "metadata": {},
   "outputs": [
    {
     "data": {
      "text/html": [
       "<html>\\(\\displaystyle \\left[\\right]\\)</html>"
      ],
      "text/latex": [
       "$\\displaystyle \\left[\\right]$"
      ],
      "text/plain": [
       "[]"
      ]
     },
     "execution_count": 25,
     "metadata": {},
     "output_type": "execute_result"
    }
   ],
   "source": [
    "P.roots()"
   ]
  },
  {
   "cell_type": "markdown",
   "id": "7ec5d9dc-8c75-488b-94d4-0506bc46aed0",
   "metadata": {},
   "source": [
    "On a défini P sur K=$\\mathbb Q[X]$ , par la méthode `.roots()`, on voit qu'elle n'a pas de racines dans $K$"
   ]
  },
  {
   "cell_type": "code",
   "execution_count": 26,
   "id": "16ed7030-c136-4c08-9cfa-4089db9cecba",
   "metadata": {},
   "outputs": [
    {
     "data": {
      "text/html": [
       "<html>\\(\\displaystyle (x^{5} - 6 x + 3)\\)</html>"
      ],
      "text/latex": [
       "$\\displaystyle (x^{5} - 6 x + 3)$"
      ],
      "text/plain": [
       "x^5 - 6*x + 3"
      ]
     },
     "execution_count": 26,
     "metadata": {},
     "output_type": "execute_result"
    }
   ],
   "source": [
    "P.factor()"
   ]
  },
  {
   "cell_type": "code",
   "execution_count": 27,
   "id": "8cc39d12-98fd-41e6-b4b9-764fa5c57875",
   "metadata": {},
   "outputs": [
    {
     "data": {
      "text/html": [
       "<html>\\(\\displaystyle \\left[\\left(-1.67093526448087, 1\\right), \\left(0.505501230405525, 1\\right), \\left(1.40164187926531, 1\\right)\\right]\\)</html>"
      ],
      "text/latex": [
       "$\\displaystyle \\left[\\left(-1.67093526448087, 1\\right), \\left(0.505501230405525, 1\\right), \\left(1.40164187926531, 1\\right)\\right]$"
      ],
      "text/plain": [
       "[(-1.67093526448087, 1), (0.505501230405525, 1), (1.40164187926531, 1)]"
      ]
     },
     "execution_count": 27,
     "metadata": {},
     "output_type": "execute_result"
    }
   ],
   "source": [
    "Kr = RR\n",
    "Y = polygen(Kr)\n",
    "\n",
    "Pr = Y^5 - 6*X + 3\n",
    "Pr.roots()"
   ]
  },
  {
   "cell_type": "markdown",
   "id": "017e9493-6234-4126-85aa-c5c429773cc0",
   "metadata": {},
   "source": [
    "#### On veut montrer que ce sont les seules réelles"
   ]
  },
  {
   "cell_type": "code",
   "execution_count": 28,
   "id": "e24d1384-5b97-4727-ac25-4868298a59df",
   "metadata": {},
   "outputs": [],
   "source": [
    "dP = 5*Y^4 - 6"
   ]
  },
  {
   "cell_type": "code",
   "execution_count": 29,
   "id": "85c650e8-0989-4d96-b715-ca7ac94f4adf",
   "metadata": {},
   "outputs": [
    {
     "data": {
      "text/html": [
       "<html>\\(\\displaystyle \\left(-1.04663513939211, 1.04663513939211\\right)\\)</html>"
      ],
      "text/latex": [
       "$\\displaystyle \\left(-1.04663513939211, 1.04663513939211\\right)$"
      ],
      "text/plain": [
       "(-1.04663513939211, 1.04663513939211)"
      ]
     },
     "execution_count": 29,
     "metadata": {},
     "output_type": "execute_result"
    }
   ],
   "source": [
    "r1 = dP.roots()[0][0]\n",
    "r2 = dP.roots()[1][0]\n",
    "\n",
    "(a,b)"
   ]
  },
  {
   "cell_type": "code",
   "execution_count": 30,
   "id": "6c56ed33-549b-4d1c-b1b5-7689d48d8ebc",
   "metadata": {},
   "outputs": [
    {
     "data": {
      "text/html": [
       "<html>\\(\\displaystyle \\left(8.02384866908211, -2.02384866908211\\right)\\)</html>"
      ],
      "text/latex": [
       "$\\displaystyle \\left(8.02384866908211, -2.02384866908211\\right)$"
      ],
      "text/plain": [
       "(8.02384866908211, -2.02384866908211)"
      ]
     },
     "execution_count": 30,
     "metadata": {},
     "output_type": "execute_result"
    }
   ],
   "source": [
    "P(a), P(b)"
   ]
  },
  {
   "cell_type": "markdown",
   "id": "c8fd94c5-36f7-4177-b6a9-9f0dec1535df",
   "metadata": {},
   "source": [
    "# Polynôme résoluble par radicaux\n",
    "\n",
    "On a $P(X)= X^5-5X+12$"
   ]
  },
  {
   "cell_type": "code",
   "execution_count": 31,
   "id": "1ff2bf9a-67ca-47de-b990-b27e5ad22139",
   "metadata": {},
   "outputs": [
    {
     "data": {
      "text/html": [
       "<html>\\(\\displaystyle x^{5} - 5 x + 12\\)</html>"
      ],
      "text/latex": [
       "$\\displaystyle x^{5} - 5 x + 12$"
      ],
      "text/plain": [
       "x^5 - 5*x + 12"
      ]
     },
     "execution_count": 31,
     "metadata": {},
     "output_type": "execute_result"
    }
   ],
   "source": [
    "P = X^5 - 5*X + 12 \n",
    "P"
   ]
  },
  {
   "cell_type": "code",
   "execution_count": 32,
   "id": "238beafb-f75a-4cee-8f24-4a9d8096183c",
   "metadata": {},
   "outputs": [
    {
     "data": {
      "text/html": [
       "<html>\\(\\displaystyle (x^{5} - 5 x + 12)\\)</html>"
      ],
      "text/latex": [
       "$\\displaystyle (x^{5} - 5 x + 12)$"
      ],
      "text/plain": [
       "x^5 - 5*x + 12"
      ]
     },
     "execution_count": 32,
     "metadata": {},
     "output_type": "execute_result"
    }
   ],
   "source": [
    "P.factor()"
   ]
  },
  {
   "cell_type": "code",
   "execution_count": 33,
   "id": "a0622003-a7ff-4f66-acb7-ed0ef05b834b",
   "metadata": {},
   "outputs": [],
   "source": [
    "dP = 5*X^4 - 5\n",
    "(r1,r2) = (dP.roots()[0][0] , dP.roots()[1][0])"
   ]
  },
  {
   "cell_type": "code",
   "execution_count": 34,
   "id": "d56b234b-e98d-4bad-b325-7923693973cb",
   "metadata": {},
   "outputs": [
    {
     "data": {
      "text/html": [
       "<html>\\(\\displaystyle \\left(8, 16\\right)\\)</html>"
      ],
      "text/latex": [
       "$\\displaystyle \\left(8, 16\\right)$"
      ],
      "text/plain": [
       "(8, 16)"
      ]
     },
     "execution_count": 34,
     "metadata": {},
     "output_type": "execute_result"
    }
   ],
   "source": [
    "(P(r1),P(r2))"
   ]
  },
  {
   "cell_type": "code",
   "execution_count": null,
   "id": "ddcf47f6-0d79-40f6-a6e0-3396bb71cb79",
   "metadata": {},
   "outputs": [],
   "source": []
  }
 ],
 "metadata": {
  "kernelspec": {
   "display_name": "SageMath 10.4",
   "language": "sage",
   "name": "sagemath-10.4"
  },
  "language_info": {
   "codemirror_mode": {
    "name": "ipython",
    "version": 3
   },
   "file_extension": ".py",
   "mimetype": "text/x-python",
   "name": "python",
   "nbconvert_exporter": "python",
   "pygments_lexer": "ipython3",
   "version": "3.12.4"
  }
 },
 "nbformat": 4,
 "nbformat_minor": 5
}
