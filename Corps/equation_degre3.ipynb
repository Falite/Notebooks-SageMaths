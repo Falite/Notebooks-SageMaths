{
 "cells": [
  {
   "cell_type": "markdown",
   "id": "81e41bbc-48fc-490c-94f2-3928e8660493",
   "metadata": {},
   "source": [
    "# 1. Méthode de Newton\n",
    "Soit $f:I:=[u,v] \\to R$,  C^2,  s'annulant sur $I$ en $r$ tel que $f'(r) \\neq 0$.\n",
    "\n",
    "Alors, si $v$ est choisi suffisamment près de $r$, alors les formules suivantes définissent une suite récurrente $(r_k)_k$ convergeant  vers $r$:\n",
    "\n",
    "\n",
    "$\\begin{cases}\n",
    "r_0&=v\\\\\n",
    "r_{k+1}&=r_k-\\frac{f(r_k)}{f'(r_k)}\n",
    "\\end{cases}$\n",
    "\n",
    "En particulier, si $a>0$, si $n$ est un entier $\\ge 2$, si $r:=a^{1/n}$ désigne la racine $n$-ième positive de $a$ et si $v$ est suffisamment proche de $r$, alors la suite récurrente ci-dessous converge vers $r$:\n",
    "\n",
    "$\\begin{cases}\n",
    "r_0&=v\\\\\n",
    "r_{k+1}&=\\frac{1}{n} ((n-1)r_k + \\frac{a}{{r_{k}}^{n-1}})\n",
    "\\end{cases}$\n",
    "\n",
    "https://www.imo.universite-paris-saclay.fr/~blanche.buet/teachingFiles/L3MAG373/C2Newton.pdf\n"
   ]
  },
  {
   "cell_type": "code",
   "execution_count": null,
   "id": "3ac5c43b-2956-4dba-9c39-24e30b48204a",
   "metadata": {},
   "outputs": [],
   "source": [
    "def racine_carree(a,k): #a>0; resolution approchée de x^2=a\n",
    "    u=1\n",
    "    for i in range(k):\n",
    "        u=(u+a/u)/2\n",
    "        print (u.numerical_approx(prec=100),u)\n",
    "    return u.numerical_approx(), u #valeurs approchées et exactes de u_k"
   ]
  },
  {
   "cell_type": "code",
   "execution_count": null,
   "id": "67eb6091-d1cd-4b91-ae38-710282bd2404",
   "metadata": {},
   "outputs": [],
   "source": [
    "racine_carree(2,7)"
   ]
  },
  {
   "cell_type": "code",
   "execution_count": null,
   "id": "aeedc20e-f26b-44c0-93b7-24d519f4ede8",
   "metadata": {},
   "outputs": [],
   "source": [
    "def racine_cubique(a,k): #a>0; resolution approchée de x^3=a\n",
    "    u=1\n",
    "    for i in range(k):\n",
    "        u=(2*u+a/u/u)/3\n",
    "        print (u.numerical_approx(prec=100),u)\n",
    "    return u.numerical_approx(), u, u.numerical_approx()^3-a"
   ]
  },
  {
   "cell_type": "code",
   "execution_count": null,
   "id": "9202c048-00f0-46d7-bff6-e7beddeb9909",
   "metadata": {},
   "outputs": [],
   "source": [
    "racine_cubique(2,5)"
   ]
  },
  {
   "cell_type": "code",
   "execution_count": null,
   "id": "308538be-9b64-4478-9ef6-5af7f7b3c3fb",
   "metadata": {},
   "outputs": [],
   "source": [
    "def racine(a,n,k): # la racine n-ième positive de a lorsque a>0\n",
    "    u=1\n",
    "    for i in range(k):\n",
    "        u=((n-1)*u+a/u^(n-1))/n\n",
    "        print (u.numerical_approx(prec=100))\n",
    "    return u.numerical_approx(),  u.numerical_approx()^n-a\n",
    "    "
   ]
  },
  {
   "cell_type": "code",
   "execution_count": null,
   "id": "36172df2-c372-4173-8aff-2734004e2934",
   "metadata": {},
   "outputs": [],
   "source": [
    "racine(2,5,4)"
   ]
  },
  {
   "cell_type": "markdown",
   "id": "8e4262ab-db3c-48a0-9640-87962e5ce579",
   "metadata": {},
   "source": [
    "# 2. La translation de Tschirnhaus \n",
    "\n",
    "Toute équation de degré 3 du type $x^3+ax^2+bx+c=0$ équivaut à une équation du type $y^3+py+q=0$ où  $y=x-a/3$ et où $p,q$ dépendent de $a,b,c$.  Toute équation de degré 3 sur Q se ramène donc à une équation du type $y^3+py+q=0$."
   ]
  },
  {
   "cell_type": "code",
   "execution_count": null,
   "id": "29af858e-22a1-483b-af67-dcf71e62bb67",
   "metadata": {},
   "outputs": [],
   "source": [
    "Rabcu.<a,b,c,u>=PolynomialRing(QQ) #anneau Q[a,b,c,u] des polynômes à 4 variables et à coeff. dans Q\n",
    "Sx.<x>=PolynomialRing(Rabcu)\n",
    "P=x^3+a*x^2+b*x+c\n",
    "print(P(x+u)) # la réponse montre que pour annuler le terme en x^2 il faut a+3u=0 i.e. u=-a/3"
   ]
  },
  {
   "cell_type": "markdown",
   "id": "bb89e21b-7f87-4944-9e80-b9508a3ec672",
   "metadata": {},
   "source": [
    "# 3. Résolution par radicaux de $x^3+px+q=0$ selon Cardan et Tartaglia  \n",
    "\n",
    "\n",
    "\n",
    "On suppose que\n",
    "- $p,q \\in Q$ \n",
    "- $p \\neq 0$.\n",
    "\n",
    "\n",
    "\n",
    "https://remi-lajugie.fr/docs/equationDegre3.pdf"
   ]
  },
  {
   "cell_type": "markdown",
   "id": "01b27656-5283-418d-a48a-45cf9471933f",
   "metadata": {},
   "source": [
    "## 3.1 CNS pour que $x^3+px+q$ ait une racine d'ordre au moins 2.\n",
    "\n",
    "Cette équation admet une racine double ssi $PGCD(P,P')=0$, ce qui équivaut à (voir ci-dessous) $4p^3+27q^2=0$.     "
   ]
  },
  {
   "cell_type": "code",
   "execution_count": null,
   "id": "2a7df53e-837e-4878-9173-c20f89de0a07",
   "metadata": {},
   "outputs": [],
   "source": [
    "K.<p>=FunctionField(QQ) #K=QQ(p):  corps des fractions rationnelles à coeff dans Q, d'indéterminée p\n",
    "K1.<q>=FunctionField(K) #K1=QQ(p)(q) : corps des fractions rationnelles à coeff dans QQ(p),  d'indéterminée q\n",
    "PRK1X.<X>=PolynomialRing(K1) #K1[X]=QQ(p,q)[X] : div euclidienne dans K1[X]pssible puisque Q(p,q)=Q(p)(q) est un corps\n",
    "P=X^3+p*X+q\n",
    "dP=3*X^2+p\n",
    "\n",
    "\n",
    "#algo d'Euclide\n",
    "R2=P%dP; R3=dP%R2\n",
    "print(\"restes successifs d'Euclide:\",\"R2=\",R2,\" R3=\",R3)\n",
    "R3==(4*p^3+27*q^2)/4/p^2"
   ]
  },
  {
   "cell_type": "markdown",
   "id": "c36bdd95-31f1-4e99-b7ad-bee2011d760c",
   "metadata": {},
   "source": [
    "On suppose dans la suite que $P$ est irréductible sur $K$ (et donc en particulier $4p^3+27q^2 \\neq 0$).                                         "
   ]
  },
  {
   "cell_type": "markdown",
   "id": "880c67e7-25ea-4959-ae0d-df34ed9dec31",
   "metadata": {},
   "source": [
    "## 3.2 Recherche des solutions $x$ de $x^3+px+q=0$ sous la forme $x=u+v$.\n",
    "\n",
    "Ici, $u$ et $v$ pourront appartenir à une extension de Q."
   ]
  },
  {
   "cell_type": "code",
   "execution_count": null,
   "id": "0b622e07-a7f3-45b0-9124-d52cfe2965c1",
   "metadata": {},
   "outputs": [],
   "source": [
    "PRK1Xuv.<u,v,X>=PolynomialRing(K1) #K1[u,v,X]\n",
    "P=X^3+p*X+q #ici: P a 3 variables dans cet ordre:u,v, X (même si u et v n'y apparaissent pas)\n",
    "print(P(u,v,u+v)) #on remplace X par u+v dans P"
   ]
  },
  {
   "cell_type": "markdown",
   "id": "d1ef64dd-9a32-4cf1-8e3e-eef0d2e10ad8",
   "metadata": {},
   "source": [
    "L'expression ci-dessus se factorise partiellement en  $u^3+v^3+(u+v)(3uv+p) +q=0$.\n",
    "\n",
    "Ceci invite à choisir $u$ et $v$ tels que $3uv+p=0$ soit $uv=-p/3$ d'où le système suivant à résoudre:.\n",
    "\n",
    "$$\n",
    "\\begin{cases}\n",
    "u^3+v^3&=-q\\\\\n",
    "uv&=-p/3\n",
    "\\end{cases}\n",
    "$$\n",
    "\n",
    "Notons aussi que forcément $u \\neq v$ sinon $2u^3=-q$ et $u^2=-p/3$ d'où $u=3q/2/p$ d'où $x=3q/p$, ce qui contredit le fait que $P$ soit irréductible. \n",
    "\n",
    "Ainsi, $u^3$ et $v^3$ sont les deux racines  de $X^2+qX-p^3/27$. Le discriminant vaut  $q^2+4p^3/27$ et on en tire  les valeurs suivantes:\n",
    "\n",
    "\\begin{cases}\n",
    "u&=(-\\frac{q}{2}+\\sqrt{\\frac{q^2}{4}+\\frac{p^3}{27}})^{1/3}\\\\\n",
    "v&=-p/{(3u)} \n",
    "\\end{cases}\n",
    "où $\\sqrt{\\frac{q^2}{4}+\\frac{p^3}{27}}$ désigne l'une des deux racines de $\\frac{q^2}{4}+\\frac{p^3}{27}$.\n",
    "\n",
    "\n"
   ]
  },
  {
   "cell_type": "markdown",
   "id": "5b39d71e-d277-44a2-96fa-92004b240f0d",
   "metadata": {},
   "source": [
    "## 3.3 Expressions des 3 racines à l'aide de racine carrées et de racines cubiques:\n",
    "\n",
    "Si $(-\\frac{q}{2}+\\sqrt{\\frac{q^2}{4}+\\frac{p^3}{27}})^{1/3}$ désigne une racine cubique quelconque de \n",
    "$-\\frac{q}{2}+\\sqrt{\\frac{q^2}{4}+\\frac{p^3}{27}}$, il y a 3 possibilités pour $u$: \n",
    "- $(-\\frac{q}{2}+\\sqrt{\\frac{q^2}{4}+\\frac{p^3}{27}})^{1/3}$ d'où $v=-p/(3u)=(-\\frac{q}{2}-\\sqrt{\\frac{q^2}{4}+\\frac{p^3}{27}})^{1/3}$\n",
    "- $j(-\\frac{q}{2}+\\sqrt{\\frac{q^2}{4}+\\frac{p^3}{27}})^{1/3}$ d'où $v=-p/(3u)=j^2(-\\frac{q}{2}-\\sqrt{\\frac{q^2}{4}+\\frac{p^3}{27}})^{1/3}$\n",
    "- $j^2(-\\frac{q}{2}+\\sqrt{\\frac{q^2}{4}+\\frac{p^3}{27}})^{1/3}$ d'où $v=-p/(3u)=j(-\\frac{q}{2}-\\sqrt{\\frac{q^2}{4}+\\frac{p^3}{27}})^{1/3}$\n",
    "\n",
    "ce qui fait que les   3 racines de $P$ sont:\n",
    "-  $x_1=(-\\frac{q}{2}+\\sqrt{\\frac{q^2}{4}+\\frac{p^3}{27}})^{1/3} + (-\\frac{q}{2}-\\sqrt{\\frac{q^2}{4}+\\frac{p^3}{27}})^{1/3}$\n",
    "-   $x_2=j(-\\frac{q}{2}+\\sqrt{\\frac{q^2}{4}+\\frac{p^3}{27}})^{1/3} + j^2(-\\frac{q}{2}-\\sqrt{\\frac{q^2}{4}+\\frac{p^3}{27}})^{1/3}$\n",
    "-   $x_3=j^2(-\\frac{q}{2}+\\sqrt{\\frac{q^2}{4}+\\frac{p^3}{27}})^{1/3} + j(-\\frac{q}{2}-\\sqrt{\\frac{q^2}{4}+\\frac{p^3}{27}})^{1/3}$\n",
    "\n"
   ]
  },
  {
   "cell_type": "markdown",
   "id": "28d2286c-4ef7-4e2f-8fc2-544136be38a9",
   "metadata": {},
   "source": [
    "# 4. Une CNS pour que toutes les racines de $x^3+px+q=0$ soient réelles.\n",
    "\n",
    "**Théorème.**  *Les trois racines $x_1$, $x_2$ et $x_3$ de $x^3+px+q=0$ vérifient:*\n",
    "$$((x_1-x_2)(x_1-x_3)(x_2-x_3))^2 = -(4p^3+27q^2)$$ \n",
    "**Preuve.**  Voir calculs ci-dessous.\n",
    "\n",
    "**Corollaire.** *Le signe de $4p^3+27q^2$ permet de connaître le nombre de racines réelles de $x^3+px+q=0$.*\n",
    "- si $-(4p^3+27q^2) >0$ alors les 3 racines sont réelles\n",
    "- si $-(4p^3+27q^2) =0$ alors il existe une racine d'ordre au moins 2\n",
    "- si $-(4p^3+27q^2) <0$ alors l'équation $x^3+px=q=0$  admet une seule racine réelle et 2 racines complexes conjuguées.\n",
    "  \n",
    "**Preuve.** Si les 3 racines sont réelles, l'expression $((x_1-x_2)(x_1-x_3)(x_2-x_3))^2$ est de signe positif (comme carré d'un nombre réel) donc $4p^3+27q^2 \\le 0$ (avec égalité lorsqu'au moins deux des racines sont égales).\n",
    "  S'il existe deux racines complexes conjuguées du type $x_1:=u+iv$ et $x_2:=u-iv$ où $u,v$ sont réels avec $v \\neq 0$, et si on note $x_3$ l'unique racine réelle, alors l'expression $((x_1-x_2)(x_1-x_3)(x_2-x_3))$ s'écrit $2iv(u+iv-x_3)(u-iv-x_3)$ où la sous-expression\n",
    "  $(u+iv-x_3)(u-iv-x_3)$ est réelle positive (puisque du type $z \\overline{z}=|z|^2$). Il s'ensuit que le signe de $((x_1-x_2)(x_1-x_3)(x_2-x_3))^2$ est celui de $(2iv)^2=-4v^2<0$."
   ]
  },
  {
   "cell_type": "code",
   "execution_count": null,
   "id": "8ca6d17b-95b1-41e5-a2dd-c2074e93688c",
   "metadata": {},
   "outputs": [],
   "source": [
    "K.<p>=FunctionField(QQ) #corps Q(p) des fractions rationnelles à coefficients dans Q et d'indéterminée p\n",
    "K1.<q>=FunctionField(K) #corps Q(p)(q) des fractions rationnelles à coefficients dans Q(p) et d'indéterminée q\n",
    "PRK1.<X>=PolynomialRing(K1) #anneau Q(p)(q)[X]\n",
    "I=PRK1.ideal(X^2-(q^2/4+p^3/27))  # X^2-(q^2/4+p^3/27) est irréductible \n",
    "K2.<d>=PRK1.quotient(I)  #K2=Q(p,q)(d) où d^2=q^2/4+p^3/27\n",
    "\n",
    "PRK2.<Y>=PolynomialRing(K2)\n",
    "J=PRK2.ideal(Y^3-(-q/2+d))\n",
    "K3.<u>=PRK2.quotient(J) #K3=K2((-q/2+d)^(1/3))\n",
    "\n",
    "PRK3.<Z>=PolynomialRing(K3)\n",
    "idK=PRK3.ideal(Z^2+Z+1)\n",
    "K4.<jj>=PRK3.quotient(idK) #K4=K3(j)\n",
    "#v=-p/3/u où 1/u = u^2/(d-q/2)\n",
    "u_inv=  u^2/(d-q/2) #l'inverse de u\n",
    "v=-p/3*u_inv; v\n",
    "x1=u+v\n",
    "x2=jj*u+jj^2*v\n",
    "x3=jj^2*u+jj*v\n",
    "((x1-x2)*(x1-x3)*(x2-x3))^2\n",
    "\n"
   ]
  },
  {
   "cell_type": "markdown",
   "id": "f2335b39-6000-4c97-9835-2faec0ea6ee7",
   "metadata": {},
   "source": [
    "# 5. Un exemple:  $x^3-3/4 x+1/8=0$."
   ]
  },
  {
   "cell_type": "code",
   "execution_count": null,
   "id": "1e11d830-745c-464d-bcc3-81c6ea17d346",
   "metadata": {},
   "outputs": [],
   "source": [
    "p,q=QQ(-0.75), QQ(1/8)\n",
    "Delta=(4*p^3+27*q^2)\n",
    "print(\"4p^3+27q^2:\",Delta,\" : Si de signe négatif, alors 3 racines réelles, sinon, 1 seule racine réelle\")\n",
    "\n",
    "var('t')\n",
    "plot(t^3 +p*t+q,(t,-2,2))  # a priori, trois racines réelles app. égales à -0.95, 0.2 et 0.75"
   ]
  },
  {
   "cell_type": "code",
   "execution_count": null,
   "id": "bc74e95d-1aa9-45a2-a571-c91ae10d2ac0",
   "metadata": {},
   "outputs": [],
   "source": [
    "PRX.<X>=PolynomialRing(QQ)\n",
    "P=X^3+p*X+q\n",
    "factor(P) # P est irréductible"
   ]
  },
  {
   "cell_type": "code",
   "execution_count": null,
   "id": "8a28de88-4362-4a50-a055-5ba4ef20d841",
   "metadata": {},
   "outputs": [],
   "source": [
    "Delta=4*p^3+27*q^2 \n",
    "print(Delta) # Delta<0 donc 3 racines réelles"
   ]
  },
  {
   "cell_type": "markdown",
   "id": "64188a59-f737-4187-b75e-dba25b6e7f58",
   "metadata": {},
   "source": [
    "## Approximations des racines dans `CC`.\n",
    "\n",
    "L'objet `CC`  permet d'accéder à des approximations numériques de nombres complexes."
   ]
  },
  {
   "cell_type": "code",
   "execution_count": null,
   "id": "fba71e4e-34ca-4f76-8063-a5f7d92880fd",
   "metadata": {},
   "outputs": [],
   "source": [
    "d=(q^2/4+p^3/27)\n",
    "rac_d=CC(sqrt(d)) #extraction de la racine carrée de d \n",
    "print(rac_d)\n",
    "u1=CC((-q/2 + rac_d)^(1/3)) #extraction de la racine cubique de   -q/2+rac_d\n",
    "v1=CC((-q/2 - rac_d)^(1/3))   #extraction de la racine cubique de   -q/2-rac_d\n",
    "print(u1, v1)\n",
    "x1=u1+v1\n",
    "\"x1=\",x1, P(x1) # P(x_1) est à peu près nul"
   ]
  },
  {
   "cell_type": "code",
   "execution_count": null,
   "id": "d35e5cbf-fc25-4471-bbf3-5c89bbadb362",
   "metadata": {},
   "outputs": [],
   "source": [
    "jj=CC(-1/2+sqrt(3)*0.5j)   # jj est une approximation de j:=-1/2 +i racine(3)/2\n",
    "print(jj^3)"
   ]
  },
  {
   "cell_type": "code",
   "execution_count": null,
   "id": "e143e83d-3b76-40ec-af45-38153dc2d322",
   "metadata": {},
   "outputs": [],
   "source": [
    "u2=CC(jj*(-q/2 +rac_d)^(1/3))\n",
    "v2=CC(jj^2* (-q/2 -rac_d)^(1/3))\n",
    "print(u2, v2)\n",
    "x2=u2+v2\n",
    "\"x2=\",x2, P(x2)  # P(x_2) est à peu près nul"
   ]
  },
  {
   "cell_type": "code",
   "execution_count": null,
   "id": "e5c48c49-ece5-4b52-a6f5-2acfe782aec4",
   "metadata": {},
   "outputs": [],
   "source": [
    "u3=CC(jj^2*(-q/2 + rac_d)^(1/3))\n",
    "v3=CC(jj* (-q/2 - rac_d)^(1/3))\n",
    "print(u3, v3)\n",
    "x3=u3+v3\n",
    "\"x3=\",x3, P(x3)   # P(x_3) est à peu près nul"
   ]
  },
  {
   "cell_type": "code",
   "execution_count": null,
   "id": "3455c43e-a5d4-4081-b5ec-33fbbefd2949",
   "metadata": {},
   "outputs": [],
   "source": []
  }
 ],
 "metadata": {
  "kernelspec": {
   "display_name": "SageMath 10.4",
   "language": "sage",
   "name": "sagemath"
  },
  "language_info": {
   "codemirror_mode": {
    "name": "ipython",
    "version": 3
   },
   "file_extension": ".py",
   "mimetype": "text/x-python",
   "name": "python",
   "nbconvert_exporter": "python",
   "pygments_lexer": "ipython3",
   "version": "3.10.12"
  }
 },
 "nbformat": 4,
 "nbformat_minor": 5
}
