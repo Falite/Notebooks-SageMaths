{
 "cells": [
  {
   "cell_type": "markdown",
   "id": "0e39265f-e2cf-460c-a9c7-1f74eeeec0ea",
   "metadata": {},
   "source": [
    "# TD03 "
   ]
  },
  {
   "cell_type": "code",
   "execution_count": 2,
   "id": "ba7ca3e7-4e33-43f6-90fe-47c2a7a79de0",
   "metadata": {},
   "outputs": [],
   "source": [
    "%display latex"
   ]
  },
  {
   "cell_type": "markdown",
   "id": "3af88f30-0c46-46dc-abd7-331651842495",
   "metadata": {},
   "source": [
    "## Exercice 2 \n",
    "On a $P\\in \\mathbb Q [X] $ tel que $P(X)=X^4 -7$.         \n",
    "<u>question 1</u> : Montrons qu'elle est irréductible"
   ]
  },
  {
   "cell_type": "code",
   "execution_count": 3,
   "id": "14b957cd-ed43-48c4-8a6b-725507223ba8",
   "metadata": {},
   "outputs": [
    {
     "data": {
      "text/html": [
       "<html>\\(\\displaystyle \\left[\\right]\\)</html>"
      ],
      "text/latex": [
       "$\\displaystyle \\left[\\right]$"
      ],
      "text/plain": [
       "[]"
      ]
     },
     "execution_count": 3,
     "metadata": {},
     "output_type": "execute_result"
    }
   ],
   "source": [
    "K = QQ\n",
    "X = polygen(K)\n",
    "P = X^4-7\n",
    "P.roots()"
   ]
  },
  {
   "cell_type": "markdown",
   "id": "9356f661-6f8e-4220-88f5-7f991848c78c",
   "metadata": {},
   "source": [
    "<u> question 2 : </u> Cherchons ses racines dans $\\mathbb C$"
   ]
  },
  {
   "cell_type": "code",
   "execution_count": 8,
   "id": "003f1603-4a6b-4151-a9c6-eb29e9a0e215",
   "metadata": {},
   "outputs": [
    {
     "data": {
      "text/html": [
       "<html>\\(\\displaystyle \\left[\\left(-1.62657656169779, 1\\right), \\left(1.62657656169779, 1\\right), \\left(-1.62657656169779i, 1\\right), \\left(1.62657656169779i, 1\\right)\\right]\\)</html>"
      ],
      "text/latex": [
       "$\\displaystyle \\left[\\left(-1.62657656169779, 1\\right), \\left(1.62657656169779, 1\\right), \\left(-1.62657656169779i, 1\\right), \\left(1.62657656169779i, 1\\right)\\right]$"
      ],
      "text/plain": [
       "[(-1.62657656169779, 1),\n",
       " (1.62657656169779, 1),\n",
       " (-1.62657656169779*I, 1),\n",
       " (1.62657656169779*I, 1)]"
      ]
     },
     "execution_count": 8,
     "metadata": {},
     "output_type": "execute_result"
    }
   ],
   "source": [
    "Kc = CC\n",
    "Y = polygen(Kc)\n",
    "Pc = Y^4 - 7\n",
    "Pc.roots()"
   ]
  },
  {
   "cell_type": "code",
   "execution_count": 9,
   "id": "bc6694f8-054f-4443-8c18-b2704719262b",
   "metadata": {},
   "outputs": [
    {
     "data": {
      "text/html": [
       "<html>\\(\\displaystyle \\langle (1,2,3,4), (1,3) \\rangle\\)</html>"
      ],
      "text/latex": [
       "$\\displaystyle \\langle (1,2,3,4), (1,3) \\rangle$"
      ],
      "text/plain": [
       "Transitive group number 3 of degree 4"
      ]
     },
     "execution_count": 9,
     "metadata": {},
     "output_type": "execute_result"
    }
   ],
   "source": [
    "G = P.galois_group()\n",
    "G"
   ]
  },
  {
   "cell_type": "code",
   "execution_count": 10,
   "id": "0fb90c11-629b-4989-ba33-bb088c52989a",
   "metadata": {},
   "outputs": [
    {
     "name": "stdout",
     "output_type": "stream",
     "text": [
      "Variable   Type                                                Data/Info\n",
      "------------------------------------------------------------------------\n",
      "G          TransitiveGroup_with_category                       Transitive group number 3 of degree 4\n",
      "K          RationalField_with_category                         Rational Field\n",
      "Kc         ComplexField_class_with_category                    Complex Field with 53 bits of precision\n",
      "P          Polynomial_rational_flint                           x^4 - 7\n",
      "Pc         PolynomialRing_field_with_category.element_class    x^4 - 7.00000000000000\n",
      "X          Polynomial_rational_flint                           x\n",
      "Y          PolynomialRing_field_with_category.element_class    x\n"
     ]
    }
   ],
   "source": [
    "whos"
   ]
  },
  {
   "cell_type": "code",
   "execution_count": 11,
   "id": "05bd9112-6d8c-43d5-abe9-740093e0156c",
   "metadata": {},
   "outputs": [],
   "source": [
    "L.<a> = NumberField(P)"
   ]
  },
  {
   "cell_type": "code",
   "execution_count": 12,
   "id": "eedad226-03e3-420a-8319-20086b9de30b",
   "metadata": {},
   "outputs": [
    {
     "name": "stdout",
     "output_type": "stream",
     "text": [
      "Galois group 4T3 (D(4)) with order 8 of x^4 - 7\n"
     ]
    }
   ],
   "source": [
    "G = L.galois_group()\n",
    "print(G)"
   ]
  },
  {
   "cell_type": "code",
   "execution_count": null,
   "id": "1a88f710-3ecf-400f-adf3-d3474e839fa1",
   "metadata": {},
   "outputs": [],
   "source": []
  }
 ],
 "metadata": {
  "kernelspec": {
   "display_name": "SageMath 10.4",
   "language": "sage",
   "name": "sagemath-10.4"
  },
  "language_info": {
   "codemirror_mode": {
    "name": "ipython",
    "version": 3
   },
   "file_extension": ".py",
   "mimetype": "text/x-python",
   "name": "python",
   "nbconvert_exporter": "python",
   "pygments_lexer": "ipython3",
   "version": "3.12.4"
  }
 },
 "nbformat": 4,
 "nbformat_minor": 5
}
