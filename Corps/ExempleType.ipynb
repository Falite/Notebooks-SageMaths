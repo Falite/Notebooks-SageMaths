{
 "cells": [
  {
   "cell_type": "markdown",
   "id": "59b3f61e-75a7-47d8-990e-6133c79ed44e",
   "metadata": {},
   "source": [
    "# Exemple type"
   ]
  },
  {
   "cell_type": "markdown",
   "id": "f3215b9c-47f3-4e3a-9e2a-b2f55497995d",
   "metadata": {},
   "source": [
    "Prenons un polynôme au hasard $P$ et cherchons son groupe de Galois."
   ]
  },
  {
   "cell_type": "markdown",
   "id": "e9428a73-ea52-42ce-87a1-fc58257015da",
   "metadata": {},
   "source": [
    "### Préambule : Ajout de bibliothèques, de fonctions utiles et écriture de l'environnement"
   ]
  },
  {
   "cell_type": "code",
   "execution_count": null,
   "id": "1fecc857-83f9-4d90-83bd-c5ab58321449",
   "metadata": {},
   "outputs": [],
   "source": [
    "import networkx as nx\n",
    "import haslib "
   ]
  },
  {
   "cell_type": "code",
   "execution_count": null,
   "id": "852122f7-8634-4746-ac6c-bb0128c3a4c0",
   "metadata": {},
   "outputs": [],
   "source": [
    "#génarateur de couleurs \n",
    "def generateurcouleurs(i):\n",
    "    hex_dig=hashlib.md5(str(i).encode()).hexdigest()\n",
    "    return f\"#{hex_dig[:6]}\""
   ]
  },
  {
   "cell_type": "code",
   "execution_count": null,
   "id": "9e9a1038-7800-46b6-af44-d23fd3851e92",
   "metadata": {},
   "outputs": [],
   "source": [
    "PRQ.<X>=PolynomialRing(QQ)\n",
    "PRQ.<Y>=PolynomialRing(RR)"
   ]
  },
  {
   "cell_type": "markdown",
   "id": "5a183f3b-aad5-48ad-9e7e-e8e4af496ea7",
   "metadata": {},
   "source": [
    "## Etape 1 : Affichage du polynôme et recherche des racines réelles"
   ]
  },
  {
   "cell_type": "markdown",
   "id": "ea724eac-c78a-4691-8bfa-a74fb7711677",
   "metadata": {},
   "source": [
    "### Affichage"
   ]
  },
  {
   "cell_type": "code",
   "execution_count": null,
   "id": "7e96c851-b831-44a0-a7d6-c9021b405a6c",
   "metadata": {},
   "outputs": [],
   "source": [
    "plot( ,(x,-10,10),\n",
    "    ymin=-10,ymax=10)"
   ]
  },
  {
   "cell_type": "code",
   "execution_count": null,
   "id": "8da38077-f8a8-4ea1-8f8f-4d899d088f60",
   "metadata": {},
   "outputs": [],
   "source": [
    "P=\n",
    "Pr=\n",
    "#écrire P dans R et dans Q"
   ]
  },
  {
   "cell_type": "code",
   "execution_count": null,
   "id": "444e8b5b-4131-45f7-b2b0-b3cb82e4671b",
   "metadata": {},
   "outputs": [],
   "source": [
    "Pr.roots()"
   ]
  },
  {
   "cell_type": "markdown",
   "id": "f52a454e-62f5-4967-967e-0046a2a65e10",
   "metadata": {},
   "source": [
    "Si $P$ admet trois racines réelles et donc deux racines complexes conjuguées, alors on peut déjà déduire qu'il n'est pas résoluble par radicaux."
   ]
  },
  {
   "cell_type": "markdown",
   "id": "880b7277-3244-420a-ba18-ae8562e65d20",
   "metadata": {},
   "source": [
    "## Etape 2: Irreductibilité"
   ]
  },
  {
   "cell_type": "code",
   "execution_count": null,
   "id": "731157ba-c8fe-4013-b13a-c01fbf64e433",
   "metadata": {},
   "outputs": [],
   "source": [
    "if P.is_irreducible():\n",
    "    print(P,\" est irréductible\")\n",
    "else:\n",
    "    print(P,\" n'est pas irréductible\")"
   ]
  },
  {
   "cell_type": "markdown",
   "id": "18f9c18a-a5dd-4366-92f8-617b8f03eee3",
   "metadata": {},
   "source": [
    "Si $P$ est irréductible, on peut construire le corps de rupture et le groupe de Galois."
   ]
  },
  {
   "cell_type": "code",
   "execution_count": null,
   "id": "8628e1b8-7ead-4138-a945-6cc67d2393d3",
   "metadata": {},
   "outputs": [],
   "source": [
    "P.factor()"
   ]
  },
  {
   "cell_type": "markdown",
   "id": "868921e8-6af4-43b4-92bd-81d74222f131",
   "metadata": {},
   "source": [
    "sinon on peut considérer ses facteurs premiers."
   ]
  },
  {
   "cell_type": "markdown",
   "id": "d11604de-5ebe-4a65-8efd-75282ef54042",
   "metadata": {},
   "source": [
    "## Etape 3: Travaux sur le Groupe de Galois"
   ]
  },
  {
   "cell_type": "code",
   "execution_count": null,
   "id": "a59c655b-8b62-4f70-905d-5e815f6f0990",
   "metadata": {},
   "outputs": [],
   "source": [
    "#Si P est irréductible :\n",
    "K.<alpha> = NumberField(P)\n",
    "print(K)"
   ]
  },
  {
   "cell_type": "code",
   "execution_count": null,
   "id": "f7df6aef-8dda-4e6c-88e9-12936a16c001",
   "metadata": {},
   "outputs": [],
   "source": [
    "G = K.galois_group()"
   ]
  },
  {
   "cell_type": "markdown",
   "id": "529f23fe-949d-4ed5-ba1c-7e3d74f3162e",
   "metadata": {},
   "source": [
    "On obtient le grouupe de Galois, on doit maintenant vérifier s'il est résoluble :"
   ]
  },
  {
   "cell_type": "code",
   "execution_count": null,
   "id": "21c030aa-255a-46f7-9ea6-a0cc102cc0da",
   "metadata": {},
   "outputs": [],
   "source": [
    "if G.is_solvable():\n",
    "    print(G,\" est un groupe résoluble\")\n",
    "else:\n",
    "    print(G,\" n'est pas un groupe résoluble\")"
   ]
  }
 ],
 "metadata": {
  "kernelspec": {
   "display_name": "SageMath 10.4",
   "language": "sage",
   "name": "sagemath-10.4"
  },
  "language_info": {
   "codemirror_mode": {
    "name": "ipython",
    "version": 3
   },
   "file_extension": ".py",
   "mimetype": "text/x-python",
   "name": "python",
   "nbconvert_exporter": "python",
   "pygments_lexer": "ipython3",
   "version": "3.12.4"
  }
 },
 "nbformat": 4,
 "nbformat_minor": 5
}
