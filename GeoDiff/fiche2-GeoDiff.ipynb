{
 "cells": [
  {
   "cell_type": "markdown",
   "id": "6ef6ca67-f3e8-4ac3-afa3-231e7e1fa636",
   "metadata": {},
   "source": [
    "# Fiche 2 Géométrie Différentielle ( Calculs )"
   ]
  },
  {
   "cell_type": "code",
   "execution_count": 24,
   "id": "d20fcbbf-5e5e-46e9-b1ce-3984554c1580",
   "metadata": {},
   "outputs": [],
   "source": [
    "%display latex"
   ]
  },
  {
   "cell_type": "code",
   "execution_count": 26,
   "id": "c631c769-5998-4d24-b2aa-3731536e2b3b",
   "metadata": {},
   "outputs": [
    {
     "data": {
      "text/html": [
       "<html>\\(\\displaystyle \\left(u, v\\right)\\)</html>"
      ],
      "text/latex": [
       "$\\displaystyle \\left(u, v\\right)$"
      ],
      "text/plain": [
       "(u, v)"
      ]
     },
     "execution_count": 26,
     "metadata": {},
     "output_type": "execute_result"
    }
   ],
   "source": [
    "var('u,v')"
   ]
  },
  {
   "cell_type": "markdown",
   "id": "dc253e85-21e5-41f6-8cf1-31701a9dd5fc",
   "metadata": {},
   "source": [
    "## Exercice 2 \n",
    "\n",
    "On a $S$ l'ensemble des points vérifiant $x^2-y^2-z=0$.          \n",
    "On veut montrer que $f:\\mathbb R^2 \\rightarrow \\mathbb R^3 $ qui à $(u,v)$ associe $f(u,v)=\\begin{pmatrix} \\frac 12 (u+v) \\\\ \\frac 12 (u-v) \\\\ uv \\end{pmatrix} $ est régulière.       "
   ]
  },
  {
   "cell_type": "code",
   "execution_count": 27,
   "id": "20106c0a-ae84-4338-a1b0-123f07b86219",
   "metadata": {},
   "outputs": [
    {
     "data": {
      "text/html": [
       "<html>\\(\\displaystyle \\left(\\left(\\frac{1}{2},\\,\\frac{1}{2},\\,v\\right), \\left(\\frac{1}{2},\\,-\\frac{1}{2},\\,u\\right), \\left(\\frac{u + v}{\\sqrt{4 \\, {\\left| \\frac{1}{2} \\, u + \\frac{1}{2} \\, v \\right|}^{2} + 4 \\, {\\left| -\\frac{1}{2} \\, u + \\frac{1}{2} \\, v \\right|}^{2} + 1}},\\,-\\frac{u - v}{\\sqrt{4 \\, {\\left| \\frac{1}{2} \\, u + \\frac{1}{2} \\, v \\right|}^{2} + 4 \\, {\\left| -\\frac{1}{2} \\, u + \\frac{1}{2} \\, v \\right|}^{2} + 1}},\\,-\\frac{1}{\\sqrt{4 \\, {\\left| \\frac{1}{2} \\, u + \\frac{1}{2} \\, v \\right|}^{2} + 4 \\, {\\left| -\\frac{1}{2} \\, u + \\frac{1}{2} \\, v \\right|}^{2} + 1}}\\right)\\right)\\)</html>"
      ],
      "text/latex": [
       "$\\displaystyle \\left(\\left(\\frac{1}{2},\\,\\frac{1}{2},\\,v\\right), \\left(\\frac{1}{2},\\,-\\frac{1}{2},\\,u\\right), \\left(\\frac{u + v}{\\sqrt{4 \\, {\\left| \\frac{1}{2} \\, u + \\frac{1}{2} \\, v \\right|}^{2} + 4 \\, {\\left| -\\frac{1}{2} \\, u + \\frac{1}{2} \\, v \\right|}^{2} + 1}},\\,-\\frac{u - v}{\\sqrt{4 \\, {\\left| \\frac{1}{2} \\, u + \\frac{1}{2} \\, v \\right|}^{2} + 4 \\, {\\left| -\\frac{1}{2} \\, u + \\frac{1}{2} \\, v \\right|}^{2} + 1}},\\,-\\frac{1}{\\sqrt{4 \\, {\\left| \\frac{1}{2} \\, u + \\frac{1}{2} \\, v \\right|}^{2} + 4 \\, {\\left| -\\frac{1}{2} \\, u + \\frac{1}{2} \\, v \\right|}^{2} + 1}}\\right)\\right)$"
      ],
      "text/plain": [
       "((1/2, 1/2, v),\n",
       " (1/2, -1/2, u),\n",
       " ((u + v)/sqrt(4*abs(1/2*u + 1/2*v)^2 + 4*abs(-1/2*u + 1/2*v)^2 + 1), -(u - v)/sqrt(4*abs(1/2*u + 1/2*v)^2 + 4*abs(-1/2*u + 1/2*v)^2 + 1), -1/sqrt(4*abs(1/2*u + 1/2*v)^2 + 4*abs(-1/2*u + 1/2*v)^2 + 1)))"
      ]
     },
     "execution_count": 27,
     "metadata": {},
     "output_type": "execute_result"
    }
   ],
   "source": [
    "f=vector([1/2 * (u+v) , 1/2 * (u-v) , u*v ])\n",
    "df_u=diff(f,u) \n",
    "df_v=diff(f,v)\n",
    "normal= df_u.cross_product(df_v)\n",
    "norm_normal= normal.norm()\n",
    "n= 1/norm_normal * normal \n",
    "\n",
    "df_u, df_v, n"
   ]
  },
  {
   "cell_type": "markdown",
   "id": "8759e286-730c-4246-aa0d-885e66c39525",
   "metadata": {},
   "source": [
    "On trouve :         \n",
    "$f'_u(u,v)=\\begin{pmatrix} \\frac 12 \\\\ \\frac 12 \\\\ v \\end{pmatrix} $.         \n",
    "$f'_v(u,v)=\\begin{pmatrix} \\frac 12 \\\\ - \\frac 12 \\\\ u \\end{pmatrix} $.          \n",
    "\n",
    "De plus, le produit vectoriel des deux est :          \n",
    "$f'_u \\wedge f'_v = \\frac 12 \\begin{pmatrix} u+v \\\\ u-v \\\\ -2 \\end{pmatrix}$"
   ]
  },
  {
   "cell_type": "code",
   "execution_count": 28,
   "id": "2ac0220a-da0a-424e-9b62-a0734405208c",
   "metadata": {},
   "outputs": [
    {
     "data": {
      "text/html": [
       "<html>\\(\\displaystyle \\left({\\left| v \\right|}^{2} + \\frac{1}{2}, {\\left| u \\right|}^{2} + \\frac{1}{2}, u v\\right)\\)</html>"
      ],
      "text/latex": [
       "$\\displaystyle \\left({\\left| v \\right|}^{2} + \\frac{1}{2}, {\\left| u \\right|}^{2} + \\frac{1}{2}, u v\\right)$"
      ],
      "text/plain": [
       "(abs(v)^2 + 1/2, abs(u)^2 + 1/2, u*v)"
      ]
     },
     "execution_count": 28,
     "metadata": {},
     "output_type": "execute_result"
    }
   ],
   "source": [
    "E = df_u.norm()^2 \n",
    "F = df_v.norm()^2 \n",
    "G = df_u.dot_product(df_v)\n",
    "\n",
    "E,F,G"
   ]
  },
  {
   "cell_type": "markdown",
   "id": "4eec0a27-7efd-43dc-bc61-64a929016bc8",
   "metadata": {},
   "source": [
    "la matrice $I_p$ s'écrit donc : $\\begin{pmatrix} \\frac 12 + v^2 & uv \\\\ uv & \\frac 12 + u^2 \\end{pmatrix} $"
   ]
  },
  {
   "cell_type": "markdown",
   "id": "98f7b7d0-e149-4a36-b36a-ce27548f3fcd",
   "metadata": {},
   "source": [
    "## Exercice 5 "
   ]
  },
  {
   "cell_type": "markdown",
   "id": "7f42d34d-8bd8-46d7-85e4-b80ec208b2a9",
   "metadata": {},
   "source": [
    "On a $f(u,v) = \\begin{pmatrix} u \\\\ v \\\\ \\ln  \\frac{ \\cos u }{ \\cos v } \\end{pmatrix} $.              \n",
    "Calculons les dérivées en $u$ et en $v$ de sa 3 ème composante : "
   ]
  },
  {
   "cell_type": "code",
   "execution_count": 29,
   "id": "19bdafff-5bac-4d9c-9577-57a9252b529e",
   "metadata": {},
   "outputs": [
    {
     "data": {
      "text/html": [
       "<html>\\(\\displaystyle -\\frac{\\sin\\left(u\\right)}{\\cos\\left(u\\right)}\\)</html>"
      ],
      "text/latex": [
       "$\\displaystyle -\\frac{\\sin\\left(u\\right)}{\\cos\\left(u\\right)}$"
      ],
      "text/plain": [
       "-sin(u)/cos(u)"
      ]
     },
     "execution_count": 29,
     "metadata": {},
     "output_type": "execute_result"
    }
   ],
   "source": [
    "f = ln(cos(u) / cos(v) )\n",
    "diff(f,u)"
   ]
  },
  {
   "cell_type": "code",
   "execution_count": 30,
   "id": "71b062a4-7a0b-4d44-ae1b-858c140a2e08",
   "metadata": {},
   "outputs": [
    {
     "data": {
      "text/html": [
       "<html>\\(\\displaystyle \\frac{\\sin\\left(v\\right)}{\\cos\\left(v\\right)}\\)</html>"
      ],
      "text/latex": [
       "$\\displaystyle \\frac{\\sin\\left(v\\right)}{\\cos\\left(v\\right)}$"
      ],
      "text/plain": [
       "sin(v)/cos(v)"
      ]
     },
     "execution_count": 30,
     "metadata": {},
     "output_type": "execute_result"
    }
   ],
   "source": [
    "diff(f,v)"
   ]
  },
  {
   "cell_type": "markdown",
   "id": "6f97f726-7f57-4362-9b83-947a9fac0d82",
   "metadata": {},
   "source": [
    "Codons la fonction $f$ et faisons tous les calculs : "
   ]
  },
  {
   "cell_type": "code",
   "execution_count": 31,
   "id": "af50ec57-098a-4fd9-83a3-d2873ba57445",
   "metadata": {},
   "outputs": [],
   "source": [
    "f = vector([u,v,ln(cos(u)/cos(v))])"
   ]
  },
  {
   "cell_type": "code",
   "execution_count": 32,
   "id": "df27bee7-c528-4449-b857-2ab4ae499135",
   "metadata": {},
   "outputs": [
    {
     "data": {
      "text/html": [
       "<html>\\(\\displaystyle \\left(1,\\,0,\\,-\\frac{\\sin\\left(u\\right)}{\\cos\\left(u\\right)}\\right)\\)</html>"
      ],
      "text/latex": [
       "$\\displaystyle \\left(1,\\,0,\\,-\\frac{\\sin\\left(u\\right)}{\\cos\\left(u\\right)}\\right)$"
      ],
      "text/plain": [
       "(1, 0, -sin(u)/cos(u))"
      ]
     },
     "execution_count": 32,
     "metadata": {},
     "output_type": "execute_result"
    }
   ],
   "source": [
    "df_u = diff(f,u)\n",
    "df_u"
   ]
  },
  {
   "cell_type": "code",
   "execution_count": 33,
   "id": "ce180356-8f01-4bf3-9e84-64912400f57e",
   "metadata": {},
   "outputs": [
    {
     "data": {
      "text/html": [
       "<html>\\(\\displaystyle \\left(0,\\,1,\\,\\frac{\\sin\\left(v\\right)}{\\cos\\left(v\\right)}\\right)\\)</html>"
      ],
      "text/latex": [
       "$\\displaystyle \\left(0,\\,1,\\,\\frac{\\sin\\left(v\\right)}{\\cos\\left(v\\right)}\\right)$"
      ],
      "text/plain": [
       "(0, 1, sin(v)/cos(v))"
      ]
     },
     "execution_count": 33,
     "metadata": {},
     "output_type": "execute_result"
    }
   ],
   "source": [
    "df_v = diff(f,v)\n",
    "df_v"
   ]
  },
  {
   "cell_type": "markdown",
   "id": "47a47fee-3b1b-4e23-89eb-92aeab9989f6",
   "metadata": {},
   "source": [
    "On a les deux dérivées partielles :           \n",
    "$f'_u (u,v) = \\begin{pmatrix} 1 \\\\ 0 \\\\ \\frac{- \\sin u }{ \\cos u} \\end{pmatrix} $           \n",
    "$f'_v (u,v) = \\begin{pmatrix} 0 \\\\ 1 \\\\ \\frac{ \\sin v }{ \\cos v} \\end{pmatrix} $"
   ]
  },
  {
   "cell_type": "code",
   "execution_count": 34,
   "id": "e4b7a363-46c0-40e0-8277-d613c29680be",
   "metadata": {},
   "outputs": [
    {
     "data": {
      "text/html": [
       "<html>\\(\\displaystyle \\left(\\frac{\\sin\\left(u\\right)}{\\cos\\left(u\\right)},\\,-\\frac{\\sin\\left(v\\right)}{\\cos\\left(v\\right)},\\,1\\right)\\)</html>"
      ],
      "text/latex": [
       "$\\displaystyle \\left(\\frac{\\sin\\left(u\\right)}{\\cos\\left(u\\right)},\\,-\\frac{\\sin\\left(v\\right)}{\\cos\\left(v\\right)},\\,1\\right)$"
      ],
      "text/plain": [
       "(sin(u)/cos(u), -sin(v)/cos(v), 1)"
      ]
     },
     "execution_count": 34,
     "metadata": {},
     "output_type": "execute_result"
    }
   ],
   "source": [
    "normal = df_u.cross_product(df_v)\n",
    "normal"
   ]
  },
  {
   "cell_type": "code",
   "execution_count": 35,
   "id": "473fe699-8d59-4ee8-858a-a5c847e64ba1",
   "metadata": {},
   "outputs": [
    {
     "data": {
      "text/html": [
       "<html>\\(\\displaystyle \\sqrt{\\frac{\\sin\\left(u\\right)^{2}}{\\cos\\left(u\\right)^{2}} + \\frac{\\sin\\left(v\\right)^{2}}{\\cos\\left(v\\right)^{2}} + 1}\\)</html>"
      ],
      "text/latex": [
       "$\\displaystyle \\sqrt{\\frac{\\sin\\left(u\\right)^{2}}{\\cos\\left(u\\right)^{2}} + \\frac{\\sin\\left(v\\right)^{2}}{\\cos\\left(v\\right)^{2}} + 1}$"
      ],
      "text/plain": [
       "sqrt(sin(u)^2/cos(u)^2 + sin(v)^2/cos(v)^2 + 1)"
      ]
     },
     "execution_count": 35,
     "metadata": {},
     "output_type": "execute_result"
    }
   ],
   "source": [
    "norm_normal = normal.norm()\n",
    "norm_normal.simplify()"
   ]
  },
  {
   "cell_type": "code",
   "execution_count": 36,
   "id": "ff49a7bc-33f8-4491-ae06-14bc83095d9f",
   "metadata": {},
   "outputs": [
    {
     "data": {
      "text/html": [
       "<html>\\(\\displaystyle \\left(\\sqrt{{\\left| \\frac{\\sin\\left(u\\right)}{\\cos\\left(u\\right)} \\right|}^{2} + 1}, \\sqrt{{\\left| \\frac{\\sin\\left(v\\right)}{\\cos\\left(v\\right)} \\right|}^{2} + 1}\\right)\\)</html>"
      ],
      "text/latex": [
       "$\\displaystyle \\left(\\sqrt{{\\left| \\frac{\\sin\\left(u\\right)}{\\cos\\left(u\\right)} \\right|}^{2} + 1}, \\sqrt{{\\left| \\frac{\\sin\\left(v\\right)}{\\cos\\left(v\\right)} \\right|}^{2} + 1}\\right)$"
      ],
      "text/plain": [
       "(sqrt(abs(sin(u)/cos(u))^2 + 1), sqrt(abs(sin(v)/cos(v))^2 + 1))"
      ]
     },
     "execution_count": 36,
     "metadata": {},
     "output_type": "execute_result"
    }
   ],
   "source": [
    "norm_df_u = df_u.norm()\n",
    "norm_df_v = df_v.norm()\n",
    "\n",
    "norm_df_u , norm_df_v "
   ]
  },
  {
   "cell_type": "code",
   "execution_count": 37,
   "id": "5a0f0e72-7f27-4368-bed8-a5543a921e75",
   "metadata": {},
   "outputs": [
    {
     "data": {
      "text/html": [
       "<html>\\(\\displaystyle \\left({\\left| \\frac{\\sin\\left(u\\right)}{\\cos\\left(u\\right)} \\right|}^{2} + 1, {\\left| \\frac{\\sin\\left(v\\right)}{\\cos\\left(v\\right)} \\right|}^{2} + 1\\right)\\)</html>"
      ],
      "text/latex": [
       "$\\displaystyle \\left({\\left| \\frac{\\sin\\left(u\\right)}{\\cos\\left(u\\right)} \\right|}^{2} + 1, {\\left| \\frac{\\sin\\left(v\\right)}{\\cos\\left(v\\right)} \\right|}^{2} + 1\\right)$"
      ],
      "text/plain": [
       "(abs(sin(u)/cos(u))^2 + 1, abs(sin(v)/cos(v))^2 + 1)"
      ]
     },
     "execution_count": 37,
     "metadata": {},
     "output_type": "execute_result"
    }
   ],
   "source": [
    "E = norm_df_u ^2 \n",
    "F = norm_df_v ^2 \n",
    "E , F "
   ]
  },
  {
   "cell_type": "code",
   "execution_count": 38,
   "id": "8899b572-97c3-42df-ba00-6a552b35093c",
   "metadata": {},
   "outputs": [
    {
     "data": {
      "text/html": [
       "<html>\\(\\displaystyle -\\frac{2 \\, \\sin\\left(u\\right) \\sin\\left(v\\right)}{\\cos\\left(u\\right) \\cos\\left(v\\right)}\\)</html>"
      ],
      "text/latex": [
       "$\\displaystyle -\\frac{2 \\, \\sin\\left(u\\right) \\sin\\left(v\\right)}{\\cos\\left(u\\right) \\cos\\left(v\\right)}$"
      ],
      "text/plain": [
       "-2*sin(u)*sin(v)/(cos(u)*cos(v))"
      ]
     },
     "execution_count": 38,
     "metadata": {},
     "output_type": "execute_result"
    }
   ],
   "source": [
    "G = 2 * df_u.dot_product(df_v)\n",
    "G"
   ]
  },
  {
   "cell_type": "code",
   "execution_count": 39,
   "id": "f9437fc5-ab09-4944-810e-075db6d0f103",
   "metadata": {},
   "outputs": [
    {
     "data": {
      "text/html": [
       "<html>\\(\\displaystyle \\left(\\frac{\\sin\\left(u\\right)}{\\sqrt{{\\left| \\frac{\\sin\\left(u\\right)}{\\cos\\left(u\\right)} \\right|}^{2} + {\\left| \\frac{\\sin\\left(v\\right)}{\\cos\\left(v\\right)} \\right|}^{2} + 1} \\cos\\left(u\\right)},\\,-\\frac{\\sin\\left(v\\right)}{\\sqrt{{\\left| \\frac{\\sin\\left(u\\right)}{\\cos\\left(u\\right)} \\right|}^{2} + {\\left| \\frac{\\sin\\left(v\\right)}{\\cos\\left(v\\right)} \\right|}^{2} + 1} \\cos\\left(v\\right)},\\,\\frac{1}{\\sqrt{{\\left| \\frac{\\sin\\left(u\\right)}{\\cos\\left(u\\right)} \\right|}^{2} + {\\left| \\frac{\\sin\\left(v\\right)}{\\cos\\left(v\\right)} \\right|}^{2} + 1}}\\right)\\)</html>"
      ],
      "text/latex": [
       "$\\displaystyle \\left(\\frac{\\sin\\left(u\\right)}{\\sqrt{{\\left| \\frac{\\sin\\left(u\\right)}{\\cos\\left(u\\right)} \\right|}^{2} + {\\left| \\frac{\\sin\\left(v\\right)}{\\cos\\left(v\\right)} \\right|}^{2} + 1} \\cos\\left(u\\right)},\\,-\\frac{\\sin\\left(v\\right)}{\\sqrt{{\\left| \\frac{\\sin\\left(u\\right)}{\\cos\\left(u\\right)} \\right|}^{2} + {\\left| \\frac{\\sin\\left(v\\right)}{\\cos\\left(v\\right)} \\right|}^{2} + 1} \\cos\\left(v\\right)},\\,\\frac{1}{\\sqrt{{\\left| \\frac{\\sin\\left(u\\right)}{\\cos\\left(u\\right)} \\right|}^{2} + {\\left| \\frac{\\sin\\left(v\\right)}{\\cos\\left(v\\right)} \\right|}^{2} + 1}}\\right)$"
      ],
      "text/plain": [
       "(sin(u)/(sqrt(abs(sin(u)/cos(u))^2 + abs(sin(v)/cos(v))^2 + 1)*cos(u)), -sin(v)/(sqrt(abs(sin(u)/cos(u))^2 + abs(sin(v)/cos(v))^2 + 1)*cos(v)), 1/sqrt(abs(sin(u)/cos(u))^2 + abs(sin(v)/cos(v))^2 + 1))"
      ]
     },
     "execution_count": 39,
     "metadata": {},
     "output_type": "execute_result"
    }
   ],
   "source": [
    "n = 1/norm_normal * normal\n",
    "n"
   ]
  },
  {
   "cell_type": "markdown",
   "id": "955d761b-f768-442b-a3c5-0d3aa752c20d",
   "metadata": {},
   "source": [
    "On obtient les résultats suivants :           \n",
    "$n(u,v) = \\frac 1{\\sqrt{ \\frac{\\sin^2 u }{\\cos^2 u} + \\frac{\\sin^2 v}{\\cos^2 v} +1}} \\begin{pmatrix} \\frac{\\sin u}{\\cos u} \\\\ - \\frac{\\sin v}{\\cos v} \\\\ 1\\end{pmatrix} \n",
    "=  \\frac 1{\\sqrt{ \\tan^2 u + \\tan^2 v +1}}  \\begin{pmatrix} \\frac{\\sin u}{\\cos u} \\\\ - \\frac{\\sin v}{\\cos v} \\\\ 1\\end{pmatrix}  $                \n",
    "$E= \\| f'_u (u,v) \\| =  \\Big(\\frac{\\sin u}{\\cos u} \\Big)^2 + 1 = \\tan^2(u)+1$       \n",
    "$F= \\| f'_u(u,v) \\| =  \\Big(\\frac{\\sin v}{\\cos v} \\Big)^2 + 1 = \\tan^2(v)+1$         \n",
    "$G= \\langle f'_u , f'_v \\rangle = -2 \\frac{ \\sin u \\sin v }{\\cos u \\cos v } $"
   ]
  },
  {
   "cell_type": "code",
   "execution_count": 40,
   "id": "994a0166-5482-4fc9-8e5f-4bdd43cc5fc2",
   "metadata": {},
   "outputs": [
    {
     "data": {
      "text/html": [
       "<html>\\(\\displaystyle \\left(\\left(0,\\,0,\\,-\\frac{\\sin\\left(u\\right)^{2}}{\\cos\\left(u\\right)^{2}} - 1\\right), \\left(0,\\,0,\\,\\frac{\\sin\\left(v\\right)^{2}}{\\cos\\left(v\\right)^{2}} + 1\\right), \\left(0,\\,0,\\,0\\right)\\right)\\)</html>"
      ],
      "text/latex": [
       "$\\displaystyle \\left(\\left(0,\\,0,\\,-\\frac{\\sin\\left(u\\right)^{2}}{\\cos\\left(u\\right)^{2}} - 1\\right), \\left(0,\\,0,\\,\\frac{\\sin\\left(v\\right)^{2}}{\\cos\\left(v\\right)^{2}} + 1\\right), \\left(0,\\,0,\\,0\\right)\\right)$"
      ],
      "text/plain": [
       "((0, 0, -sin(u)^2/cos(u)^2 - 1), (0, 0, sin(v)^2/cos(v)^2 + 1), (0, 0, 0))"
      ]
     },
     "execution_count": 40,
     "metadata": {},
     "output_type": "execute_result"
    }
   ],
   "source": [
    "d2f_u = diff(df_u, u)\n",
    "d2f_v = diff(df_v , v)\n",
    "d2f_uv = diff(df_u, v)\n",
    "d2f_u , d2f_v , d2f_uv"
   ]
  },
  {
   "cell_type": "code",
   "execution_count": 41,
   "id": "930dddf8-2896-4f16-aba9-a0ee4a0bea8e",
   "metadata": {},
   "outputs": [
    {
     "data": {
      "text/html": [
       "<html>\\(\\displaystyle \\left(-\\frac{\\frac{\\sin\\left(u\\right)^{2}}{\\cos\\left(u\\right)^{2}} + 1}{\\sqrt{{\\left| \\frac{\\sin\\left(u\\right)}{\\cos\\left(u\\right)} \\right|}^{2} + {\\left| \\frac{\\sin\\left(v\\right)}{\\cos\\left(v\\right)} \\right|}^{2} + 1}}, 0, \\frac{\\frac{\\sin\\left(v\\right)^{2}}{\\cos\\left(v\\right)^{2}} + 1}{\\sqrt{{\\left| \\frac{\\sin\\left(u\\right)}{\\cos\\left(u\\right)} \\right|}^{2} + {\\left| \\frac{\\sin\\left(v\\right)}{\\cos\\left(v\\right)} \\right|}^{2} + 1}}\\right)\\)</html>"
      ],
      "text/latex": [
       "$\\displaystyle \\left(-\\frac{\\frac{\\sin\\left(u\\right)^{2}}{\\cos\\left(u\\right)^{2}} + 1}{\\sqrt{{\\left| \\frac{\\sin\\left(u\\right)}{\\cos\\left(u\\right)} \\right|}^{2} + {\\left| \\frac{\\sin\\left(v\\right)}{\\cos\\left(v\\right)} \\right|}^{2} + 1}}, 0, \\frac{\\frac{\\sin\\left(v\\right)^{2}}{\\cos\\left(v\\right)^{2}} + 1}{\\sqrt{{\\left| \\frac{\\sin\\left(u\\right)}{\\cos\\left(u\\right)} \\right|}^{2} + {\\left| \\frac{\\sin\\left(v\\right)}{\\cos\\left(v\\right)} \\right|}^{2} + 1}}\\right)$"
      ],
      "text/plain": [
       "(-(sin(u)^2/cos(u)^2 + 1)/sqrt(abs(sin(u)/cos(u))^2 + abs(sin(v)/cos(v))^2 + 1),\n",
       " 0,\n",
       " (sin(v)^2/cos(v)^2 + 1)/sqrt(abs(sin(u)/cos(u))^2 + abs(sin(v)/cos(v))^2 + 1))"
      ]
     },
     "execution_count": 41,
     "metadata": {},
     "output_type": "execute_result"
    }
   ],
   "source": [
    "L = n.dot_product(d2f_u)\n",
    "M = n.dot_product(d2f_uv)\n",
    "N = n.dot_product(d2f_v)\n",
    "\n",
    "L, M, N"
   ]
  },
  {
   "cell_type": "markdown",
   "id": "c686db5d-1617-4e3d-8a59-f896bdca3237",
   "metadata": {},
   "source": [
    "On obtient ensuite les résutats suivants concernant la deuxième forme fondamentale :       \n",
    "$L=\\langle n, f''_u \\rangle = \\frac{-\\tan^2 u+1}{\\sqrt{\\tan^2 u + \\tan^2 v + 1}} $        \n",
    "$M=\\langle n , f''_{uv}  \\rangle = 0$          \n",
    "$N=\\langle n, f''_v \\rangle = \\frac{-\\tan^2 v+1}{\\sqrt{\\tan^2 u + \\tan^2 v + 1}}$"
   ]
  },
  {
   "cell_type": "markdown",
   "id": "117b4c0f-23b7-47b6-98ba-038ae5ce992f",
   "metadata": {},
   "source": [
    "## Exercice 6"
   ]
  },
  {
   "cell_type": "markdown",
   "id": "cf711c0e-f96c-48a9-a364-1daca3b853d9",
   "metadata": {},
   "source": [
    "On a $ S \\subset \\mathbb R^3 $ la surface d'équation $ z = xy^2 $           \n",
    "paramétrée par $ f = (u,v) \\rightarrow ( u , v , u •v^2 )$ avec $(u,v) \\in \\mathbb R^2 $"
   ]
  },
  {
   "cell_type": "code",
   "execution_count": 42,
   "id": "76b723bd-ed28-4f85-a8fa-c3e5cffecae3",
   "metadata": {},
   "outputs": [
    {
     "data": {
      "text/html": [
       "<html>\\(\\displaystyle \\left(\\left(1,\\,0,\\,v^{2}\\right), \\left(0,\\,1,\\,2 \\, u v\\right)\\right)\\)</html>"
      ],
      "text/latex": [
       "$\\displaystyle \\left(\\left(1,\\,0,\\,v^{2}\\right), \\left(0,\\,1,\\,2 \\, u v\\right)\\right)$"
      ],
      "text/plain": [
       "((1, 0, v^2), (0, 1, 2*u*v))"
      ]
     },
     "execution_count": 42,
     "metadata": {},
     "output_type": "execute_result"
    }
   ],
   "source": [
    "f = vector([u,v,u*v^2])\n",
    "df_u = diff(f,u)\n",
    "df_v = diff(f,v)\n",
    "\n",
    "df_u , df_v "
   ]
  },
  {
   "cell_type": "markdown",
   "id": "06c7f4c4-9c4a-464e-9349-de57b672a60b",
   "metadata": {},
   "source": [
    "On a :        \n",
    "$ f'_u (u,v) = \\begin{pmatrix}1 \\\\ 0 \\\\ v^2 \\end{pmatrix} $\n",
    "$ f'_v(u,v) = \\begin{pmatrix} 0 \\\\ 1 \\\\ 2 u v \\end{pmatrix} $"
   ]
  },
  {
   "cell_type": "code",
   "execution_count": 43,
   "id": "4eb368e9-ae22-47e4-913f-3349fffa180e",
   "metadata": {},
   "outputs": [
    {
     "data": {
      "text/html": [
       "<html>\\(\\displaystyle \\left(\\left(-v^{2},\\,-2 \\, u v,\\,1\\right), \\sqrt{{\\left| v \\right|}^{4} + 4 \\, {\\left| u v \\right|}^{2} + 1}\\right)\\)</html>"
      ],
      "text/latex": [
       "$\\displaystyle \\left(\\left(-v^{2},\\,-2 \\, u v,\\,1\\right), \\sqrt{{\\left| v \\right|}^{4} + 4 \\, {\\left| u v \\right|}^{2} + 1}\\right)$"
      ],
      "text/plain": [
       "((-v^2, -2*u*v, 1), sqrt(abs(v)^4 + 4*abs(u*v)^2 + 1))"
      ]
     },
     "execution_count": 43,
     "metadata": {},
     "output_type": "execute_result"
    }
   ],
   "source": [
    "normal = df_u.cross_product(df_v)\n",
    "norm_normal = normal.norm()\n",
    "normal , norm_normal"
   ]
  },
  {
   "cell_type": "code",
   "execution_count": 44,
   "id": "68a78a8c-fa49-4ceb-8e64-da024ad55af2",
   "metadata": {},
   "outputs": [
    {
     "data": {
      "text/html": [
       "<html>\\(\\displaystyle \\left(-\\frac{v^{2}}{\\sqrt{{\\left| v \\right|}^{4} + 4 \\, {\\left| u v \\right|}^{2} + 1}},\\,-\\frac{2 \\, u v}{\\sqrt{{\\left| v \\right|}^{4} + 4 \\, {\\left| u v \\right|}^{2} + 1}},\\,\\frac{1}{\\sqrt{{\\left| v \\right|}^{4} + 4 \\, {\\left| u v \\right|}^{2} + 1}}\\right)\\)</html>"
      ],
      "text/latex": [
       "$\\displaystyle \\left(-\\frac{v^{2}}{\\sqrt{{\\left| v \\right|}^{4} + 4 \\, {\\left| u v \\right|}^{2} + 1}},\\,-\\frac{2 \\, u v}{\\sqrt{{\\left| v \\right|}^{4} + 4 \\, {\\left| u v \\right|}^{2} + 1}},\\,\\frac{1}{\\sqrt{{\\left| v \\right|}^{4} + 4 \\, {\\left| u v \\right|}^{2} + 1}}\\right)$"
      ],
      "text/plain": [
       "(-v^2/sqrt(abs(v)^4 + 4*abs(u*v)^2 + 1), -2*u*v/sqrt(abs(v)^4 + 4*abs(u*v)^2 + 1), 1/sqrt(abs(v)^4 + 4*abs(u*v)^2 + 1))"
      ]
     },
     "execution_count": 44,
     "metadata": {},
     "output_type": "execute_result"
    }
   ],
   "source": [
    "n = 1/norm_normal * normal\n",
    "n"
   ]
  },
  {
   "cell_type": "markdown",
   "id": "479c7a77-0aa4-40f5-af9e-b24f0872a869",
   "metadata": {},
   "source": [
    "Le vecteur normal est :               \n",
    "$n(u,v)= \\frac 1{\\sqrt{v^4 + 4 (uv)^2 +1}} \\begin{pmatrix} -v^2 \\\\ -2 uv \\\\ 1 \\end{pmatrix} $"
   ]
  },
  {
   "cell_type": "code",
   "execution_count": 45,
   "id": "fc084cd0-03dc-400f-9eae-0adffc4a8d50",
   "metadata": {},
   "outputs": [
    {
     "data": {
      "text/html": [
       "<html>\\(\\displaystyle \\left({\\left| v \\right|}^{4} + 1, 4 \\, {\\left| u v \\right|}^{2} + 1\\right)\\)</html>"
      ],
      "text/latex": [
       "$\\displaystyle \\left({\\left| v \\right|}^{4} + 1, 4 \\, {\\left| u v \\right|}^{2} + 1\\right)$"
      ],
      "text/plain": [
       "(abs(v)^4 + 1, 4*abs(u*v)^2 + 1)"
      ]
     },
     "execution_count": 45,
     "metadata": {},
     "output_type": "execute_result"
    }
   ],
   "source": [
    "E = df_u.norm()^2\n",
    "F = df_v.norm()^2\n",
    "\n",
    "E,F"
   ]
  },
  {
   "cell_type": "code",
   "execution_count": 46,
   "id": "2ccf66c3-4ced-4077-b8b9-4077a6e2d1e2",
   "metadata": {},
   "outputs": [
    {
     "data": {
      "text/html": [
       "<html>\\(\\displaystyle 4 \\, u v^{3}\\)</html>"
      ],
      "text/latex": [
       "$\\displaystyle 4 \\, u v^{3}$"
      ],
      "text/plain": [
       "4*u*v^3"
      ]
     },
     "execution_count": 46,
     "metadata": {},
     "output_type": "execute_result"
    }
   ],
   "source": [
    "G = 2* df_u.dot_product(df_v)\n",
    "G"
   ]
  },
  {
   "cell_type": "markdown",
   "id": "8e71550c-d82b-4c66-8afe-589dd15a9caa",
   "metadata": {},
   "source": [
    "Pour la première forme fondamentale :        \n",
    "On trouve $ E = v^4 + 1 ,~~F = 4 (uv)^2 + 1,~~G = 4 uv^3$         \n",
    "Ce qui nous donne :          \n",
    "$I_p = \\begin{pmatrix}1+v^4 & 2 uv^3 \\\\ 2uv^3 & 1+ 4 u^2 v^2 \\end{pmatrix} $"
   ]
  },
  {
   "cell_type": "code",
   "execution_count": 47,
   "id": "1036eea7-eb45-4d0d-9985-16bd2353618d",
   "metadata": {},
   "outputs": [
    {
     "data": {
      "text/html": [
       "<html>\\(\\displaystyle \\left(\\left(0,\\,0,\\,0\\right), \\left(0,\\,0,\\,2 \\, u\\right), \\left(0,\\,0,\\,2 \\, v\\right)\\right)\\)</html>"
      ],
      "text/latex": [
       "$\\displaystyle \\left(\\left(0,\\,0,\\,0\\right), \\left(0,\\,0,\\,2 \\, u\\right), \\left(0,\\,0,\\,2 \\, v\\right)\\right)$"
      ],
      "text/plain": [
       "((0, 0, 0), (0, 0, 2*u), (0, 0, 2*v))"
      ]
     },
     "execution_count": 47,
     "metadata": {},
     "output_type": "execute_result"
    }
   ],
   "source": [
    "d2f_u = diff(df_u, u)\n",
    "d2f_v = diff(df_v , v)\n",
    "d2f_uv = diff(df_u, v)\n",
    "\n",
    "d2f_u , d2f_v , d2f_uv"
   ]
  },
  {
   "cell_type": "code",
   "execution_count": 48,
   "id": "43061362-b506-4cac-861d-a418d4118cad",
   "metadata": {},
   "outputs": [
    {
     "data": {
      "text/html": [
       "<html>\\(\\displaystyle \\left(0, \\frac{2 \\, v}{\\sqrt{{\\left| v \\right|}^{4} + 4 \\, {\\left| u v \\right|}^{2} + 1}}, \\frac{2 \\, u}{\\sqrt{{\\left| v \\right|}^{4} + 4 \\, {\\left| u v \\right|}^{2} + 1}}\\right)\\)</html>"
      ],
      "text/latex": [
       "$\\displaystyle \\left(0, \\frac{2 \\, v}{\\sqrt{{\\left| v \\right|}^{4} + 4 \\, {\\left| u v \\right|}^{2} + 1}}, \\frac{2 \\, u}{\\sqrt{{\\left| v \\right|}^{4} + 4 \\, {\\left| u v \\right|}^{2} + 1}}\\right)$"
      ],
      "text/plain": [
       "(0,\n",
       " 2*v/sqrt(abs(v)^4 + 4*abs(u*v)^2 + 1),\n",
       " 2*u/sqrt(abs(v)^4 + 4*abs(u*v)^2 + 1))"
      ]
     },
     "execution_count": 48,
     "metadata": {},
     "output_type": "execute_result"
    }
   ],
   "source": [
    "L = n.dot_product(d2f_u)\n",
    "M = n.dot_product(d2f_uv)\n",
    "N = n.dot_product(d2f_v)\n",
    "\n",
    "L, M, N"
   ]
  },
  {
   "cell_type": "markdown",
   "id": "bd08a2fa-8a6f-4523-847c-38b9e133f503",
   "metadata": {},
   "source": [
    "Pour la deuxième forme fondamentale, on trouve :        \n",
    "$L = 0,~~M = \\frac{2v}{\\sqrt{v^4 + 4 (uv)^2 + 1}},~~N =\\frac{2u}{\\sqrt{v^4 + 4 (uv)^2 + 1}} $       \n",
    "               \n",
    "$ II_p = \\frac 2{\\sqrt{v^4 + 4 uv^2 + 1}}  \\begin{pmatrix} 0 & v \\\\ v & u \\end{pmatrix} $"
   ]
  },
  {
   "cell_type": "code",
   "execution_count": 49,
   "id": "83b26ef8-89bf-4d3f-8d75-444360b18b7e",
   "metadata": {},
   "outputs": [
    {
     "data": {
      "text/html": [
       "<html>\\(\\displaystyle -\\frac{4 \\, v^{2}}{{\\left(4 \\, {\\left({\\left| v \\right|}^{4} + 1\\right)} u v^{3} - {\\left(4 \\, {\\left| u v \\right|}^{2} + 1\\right)}^{2}\\right)} {\\left({\\left| v \\right|}^{4} + 4 \\, {\\left| u v \\right|}^{2} + 1\\right)}}\\)</html>"
      ],
      "text/latex": [
       "$\\displaystyle -\\frac{4 \\, v^{2}}{{\\left(4 \\, {\\left({\\left| v \\right|}^{4} + 1\\right)} u v^{3} - {\\left(4 \\, {\\left| u v \\right|}^{2} + 1\\right)}^{2}\\right)} {\\left({\\left| v \\right|}^{4} + 4 \\, {\\left| u v \\right|}^{2} + 1\\right)}}$"
      ],
      "text/plain": [
       "-4*v^2/((4*(abs(v)^4 + 1)*u*v^3 - (4*abs(u*v)^2 + 1)^2)*(abs(v)^4 + 4*abs(u*v)^2 + 1))"
      ]
     },
     "execution_count": 49,
     "metadata": {},
     "output_type": "execute_result"
    }
   ],
   "source": [
    "K = (L*N-M^2)/(E*G-F^2)\n",
    "K"
   ]
  },
  {
   "cell_type": "markdown",
   "id": "ec0604c2-643f-4949-877b-fe5812a9ac61",
   "metadata": {},
   "source": [
    "## Exercice 7 "
   ]
  },
  {
   "cell_type": "code",
   "execution_count": 50,
   "id": "9cd8cc7c-ff72-4bb4-a4d8-a2f9677094c9",
   "metadata": {},
   "outputs": [
    {
     "data": {
      "text/html": [
       "<html>\\(\\displaystyle \\left(\\rho \\cos\\left(\\theta\\right),\\,\\rho \\sin\\left(\\theta\\right),\\,z\\right)\\)</html>"
      ],
      "text/latex": [
       "$\\displaystyle \\left(\\rho \\cos\\left(\\theta\\right),\\,\\rho \\sin\\left(\\theta\\right),\\,z\\right)$"
      ],
      "text/plain": [
       "(rho*cos(theta), rho*sin(theta), z)"
      ]
     },
     "execution_count": 50,
     "metadata": {},
     "output_type": "execute_result"
    }
   ],
   "source": [
    "var('z,theta,rho')\n",
    "\n",
    "f = vector([rho*cos(theta),rho*sin(theta),z])\n",
    "f"
   ]
  },
  {
   "cell_type": "code",
   "execution_count": 51,
   "id": "1e70fdc4-a473-4413-9f73-4765aa5ab506",
   "metadata": {},
   "outputs": [
    {
     "data": {
      "text/html": [
       "<html>\\(\\displaystyle \\left(\\cos\\left(\\theta\\right) \\rho\\left(z\\right),\\,\\rho\\left(z\\right) \\sin\\left(\\theta\\right),\\,z\\right)\\)</html>"
      ],
      "text/latex": [
       "$\\displaystyle \\left(\\cos\\left(\\theta\\right) \\rho\\left(z\\right),\\,\\rho\\left(z\\right) \\sin\\left(\\theta\\right),\\,z\\right)$"
      ],
      "text/plain": [
       "(cos(theta)*rho(z), rho(z)*sin(theta), z)"
      ]
     },
     "execution_count": 51,
     "metadata": {},
     "output_type": "execute_result"
    }
   ],
   "source": [
    "rho = function('rho')(z)\n",
    "phi = f.subs(rho=rho)\n",
    "phi"
   ]
  },
  {
   "cell_type": "code",
   "execution_count": 52,
   "id": "50e230dc-a9c6-42e3-ae85-ba4c387bcf9a",
   "metadata": {},
   "outputs": [
    {
     "data": {
      "text/html": [
       "<html>\\(\\displaystyle \\left(\\cos\\left(\\theta\\right) \\frac{\\partial}{\\partial z}\\rho\\left(z\\right),\\,\\sin\\left(\\theta\\right) \\frac{\\partial}{\\partial z}\\rho\\left(z\\right),\\,1\\right)\\)</html>"
      ],
      "text/latex": [
       "$\\displaystyle \\left(\\cos\\left(\\theta\\right) \\frac{\\partial}{\\partial z}\\rho\\left(z\\right),\\,\\sin\\left(\\theta\\right) \\frac{\\partial}{\\partial z}\\rho\\left(z\\right),\\,1\\right)$"
      ],
      "text/plain": [
       "(cos(theta)*diff(rho(z), z), sin(theta)*diff(rho(z), z), 1)"
      ]
     },
     "execution_count": 52,
     "metadata": {},
     "output_type": "execute_result"
    }
   ],
   "source": [
    "dphi_z = diff(phi,z)\n",
    "dphi_z"
   ]
  },
  {
   "cell_type": "code",
   "execution_count": 53,
   "id": "82b2a1fe-a62f-45fe-bc3c-c59d4f0bf75a",
   "metadata": {},
   "outputs": [
    {
     "data": {
      "text/html": [
       "<html>\\(\\displaystyle \\left(-\\rho\\left(z\\right) \\sin\\left(\\theta\\right),\\,\\cos\\left(\\theta\\right) \\rho\\left(z\\right),\\,0\\right)\\)</html>"
      ],
      "text/latex": [
       "$\\displaystyle \\left(-\\rho\\left(z\\right) \\sin\\left(\\theta\\right),\\,\\cos\\left(\\theta\\right) \\rho\\left(z\\right),\\,0\\right)$"
      ],
      "text/plain": [
       "(-rho(z)*sin(theta), cos(theta)*rho(z), 0)"
      ]
     },
     "execution_count": 53,
     "metadata": {},
     "output_type": "execute_result"
    }
   ],
   "source": [
    "dphi_theta = diff(phi,theta)\n",
    "dphi_theta"
   ]
  },
  {
   "cell_type": "code",
   "execution_count": 54,
   "id": "213f17fe-3212-476e-8500-4cadd18fe311",
   "metadata": {},
   "outputs": [],
   "source": [
    "normal = dphi_z.cross_product(dphi_theta)\n",
    "norm_normal = normal.norm()\n",
    "n = normal / norm_normal"
   ]
  },
  {
   "cell_type": "code",
   "execution_count": 55,
   "id": "cd341af8-a304-43fb-b1ab-6d7e4bfb8bda",
   "metadata": {},
   "outputs": [],
   "source": [
    "E = dphi_z.norm()\n",
    "G = dphi_theta.norm()\n",
    "F = dphi_z.dot_product(dphi_theta)"
   ]
  },
  {
   "cell_type": "code",
   "execution_count": 56,
   "id": "3edbcf24-b271-44d2-836d-85b5c2345c73",
   "metadata": {},
   "outputs": [
    {
     "data": {
      "text/html": [
       "<html>\\(\\displaystyle \\left(\\sqrt{{\\left| \\cos\\left(\\theta\\right) \\frac{\\partial}{\\partial z}\\rho\\left(z\\right) \\right|}^{2} + {\\left| \\sin\\left(\\theta\\right) \\frac{\\partial}{\\partial z}\\rho\\left(z\\right) \\right|}^{2} + 1}, 0, \\sqrt{{\\left| \\cos\\left(\\theta\\right) \\rho\\left(z\\right) \\right|}^{2} + {\\left| \\rho\\left(z\\right) \\sin\\left(\\theta\\right) \\right|}^{2}}\\right)\\)</html>"
      ],
      "text/latex": [
       "$\\displaystyle \\left(\\sqrt{{\\left| \\cos\\left(\\theta\\right) \\frac{\\partial}{\\partial z}\\rho\\left(z\\right) \\right|}^{2} + {\\left| \\sin\\left(\\theta\\right) \\frac{\\partial}{\\partial z}\\rho\\left(z\\right) \\right|}^{2} + 1}, 0, \\sqrt{{\\left| \\cos\\left(\\theta\\right) \\rho\\left(z\\right) \\right|}^{2} + {\\left| \\rho\\left(z\\right) \\sin\\left(\\theta\\right) \\right|}^{2}}\\right)$"
      ],
      "text/plain": [
       "(sqrt(abs(cos(theta)*diff(rho(z), z))^2 + abs(sin(theta)*diff(rho(z), z))^2 + 1),\n",
       " 0,\n",
       " sqrt(abs(cos(theta)*rho(z))^2 + abs(rho(z)*sin(theta))^2))"
      ]
     },
     "execution_count": 56,
     "metadata": {},
     "output_type": "execute_result"
    }
   ],
   "source": [
    "E , F ,  G"
   ]
  },
  {
   "cell_type": "code",
   "execution_count": 57,
   "id": "44565853-7cfe-4bf2-b6bf-43478d8e2457",
   "metadata": {},
   "outputs": [],
   "source": [
    "dphi_2z = diff(dphi_z, z)\n",
    "dphi_2theta = diff(dphi_theta, theta)\n",
    "dphi_ztheta = diff(dphi_z, theta)"
   ]
  },
  {
   "cell_type": "code",
   "execution_count": 58,
   "id": "ce1e23ff-0fbe-445b-80e1-1fbe9ca1fce7",
   "metadata": {},
   "outputs": [
    {
     "data": {
      "text/html": [
       "<html>\\(\\displaystyle \\left(-\\frac{\\cos\\left(\\theta\\right)^{2} \\rho\\left(z\\right) \\frac{\\partial^{2}}{(\\partial z)^{2}}\\rho\\left(z\\right)}{\\sqrt{{\\left| \\cos\\left(\\theta\\right)^{2} \\rho\\left(z\\right) \\frac{\\partial}{\\partial z}\\rho\\left(z\\right) + \\rho\\left(z\\right) \\sin\\left(\\theta\\right)^{2} \\frac{\\partial}{\\partial z}\\rho\\left(z\\right) \\right|}^{2} + {\\left| \\cos\\left(\\theta\\right) \\rho\\left(z\\right) \\right|}^{2} + {\\left| \\rho\\left(z\\right) \\sin\\left(\\theta\\right) \\right|}^{2}}} - \\frac{\\rho\\left(z\\right) \\sin\\left(\\theta\\right)^{2} \\frac{\\partial^{2}}{(\\partial z)^{2}}\\rho\\left(z\\right)}{\\sqrt{{\\left| \\cos\\left(\\theta\\right)^{2} \\rho\\left(z\\right) \\frac{\\partial}{\\partial z}\\rho\\left(z\\right) + \\rho\\left(z\\right) \\sin\\left(\\theta\\right)^{2} \\frac{\\partial}{\\partial z}\\rho\\left(z\\right) \\right|}^{2} + {\\left| \\cos\\left(\\theta\\right) \\rho\\left(z\\right) \\right|}^{2} + {\\left| \\rho\\left(z\\right) \\sin\\left(\\theta\\right) \\right|}^{2}}}, 0, \\frac{\\cos\\left(\\theta\\right)^{2} \\rho\\left(z\\right)^{2}}{\\sqrt{{\\left| \\cos\\left(\\theta\\right)^{2} \\rho\\left(z\\right) \\frac{\\partial}{\\partial z}\\rho\\left(z\\right) + \\rho\\left(z\\right) \\sin\\left(\\theta\\right)^{2} \\frac{\\partial}{\\partial z}\\rho\\left(z\\right) \\right|}^{2} + {\\left| \\cos\\left(\\theta\\right) \\rho\\left(z\\right) \\right|}^{2} + {\\left| \\rho\\left(z\\right) \\sin\\left(\\theta\\right) \\right|}^{2}}} + \\frac{\\rho\\left(z\\right)^{2} \\sin\\left(\\theta\\right)^{2}}{\\sqrt{{\\left| \\cos\\left(\\theta\\right)^{2} \\rho\\left(z\\right) \\frac{\\partial}{\\partial z}\\rho\\left(z\\right) + \\rho\\left(z\\right) \\sin\\left(\\theta\\right)^{2} \\frac{\\partial}{\\partial z}\\rho\\left(z\\right) \\right|}^{2} + {\\left| \\cos\\left(\\theta\\right) \\rho\\left(z\\right) \\right|}^{2} + {\\left| \\rho\\left(z\\right) \\sin\\left(\\theta\\right) \\right|}^{2}}}\\right)\\)</html>"
      ],
      "text/latex": [
       "$\\displaystyle \\left(-\\frac{\\cos\\left(\\theta\\right)^{2} \\rho\\left(z\\right) \\frac{\\partial^{2}}{(\\partial z)^{2}}\\rho\\left(z\\right)}{\\sqrt{{\\left| \\cos\\left(\\theta\\right)^{2} \\rho\\left(z\\right) \\frac{\\partial}{\\partial z}\\rho\\left(z\\right) + \\rho\\left(z\\right) \\sin\\left(\\theta\\right)^{2} \\frac{\\partial}{\\partial z}\\rho\\left(z\\right) \\right|}^{2} + {\\left| \\cos\\left(\\theta\\right) \\rho\\left(z\\right) \\right|}^{2} + {\\left| \\rho\\left(z\\right) \\sin\\left(\\theta\\right) \\right|}^{2}}} - \\frac{\\rho\\left(z\\right) \\sin\\left(\\theta\\right)^{2} \\frac{\\partial^{2}}{(\\partial z)^{2}}\\rho\\left(z\\right)}{\\sqrt{{\\left| \\cos\\left(\\theta\\right)^{2} \\rho\\left(z\\right) \\frac{\\partial}{\\partial z}\\rho\\left(z\\right) + \\rho\\left(z\\right) \\sin\\left(\\theta\\right)^{2} \\frac{\\partial}{\\partial z}\\rho\\left(z\\right) \\right|}^{2} + {\\left| \\cos\\left(\\theta\\right) \\rho\\left(z\\right) \\right|}^{2} + {\\left| \\rho\\left(z\\right) \\sin\\left(\\theta\\right) \\right|}^{2}}}, 0, \\frac{\\cos\\left(\\theta\\right)^{2} \\rho\\left(z\\right)^{2}}{\\sqrt{{\\left| \\cos\\left(\\theta\\right)^{2} \\rho\\left(z\\right) \\frac{\\partial}{\\partial z}\\rho\\left(z\\right) + \\rho\\left(z\\right) \\sin\\left(\\theta\\right)^{2} \\frac{\\partial}{\\partial z}\\rho\\left(z\\right) \\right|}^{2} + {\\left| \\cos\\left(\\theta\\right) \\rho\\left(z\\right) \\right|}^{2} + {\\left| \\rho\\left(z\\right) \\sin\\left(\\theta\\right) \\right|}^{2}}} + \\frac{\\rho\\left(z\\right)^{2} \\sin\\left(\\theta\\right)^{2}}{\\sqrt{{\\left| \\cos\\left(\\theta\\right)^{2} \\rho\\left(z\\right) \\frac{\\partial}{\\partial z}\\rho\\left(z\\right) + \\rho\\left(z\\right) \\sin\\left(\\theta\\right)^{2} \\frac{\\partial}{\\partial z}\\rho\\left(z\\right) \\right|}^{2} + {\\left| \\cos\\left(\\theta\\right) \\rho\\left(z\\right) \\right|}^{2} + {\\left| \\rho\\left(z\\right) \\sin\\left(\\theta\\right) \\right|}^{2}}}\\right)$"
      ],
      "text/plain": [
       "(-cos(theta)^2*rho(z)*diff(rho(z), z, z)/sqrt(abs(cos(theta)^2*rho(z)*diff(rho(z), z) + rho(z)*sin(theta)^2*diff(rho(z), z))^2 + abs(cos(theta)*rho(z))^2 + abs(rho(z)*sin(theta))^2) - rho(z)*sin(theta)^2*diff(rho(z), z, z)/sqrt(abs(cos(theta)^2*rho(z)*diff(rho(z), z) + rho(z)*sin(theta)^2*diff(rho(z), z))^2 + abs(cos(theta)*rho(z))^2 + abs(rho(z)*sin(theta))^2),\n",
       " 0,\n",
       " cos(theta)^2*rho(z)^2/sqrt(abs(cos(theta)^2*rho(z)*diff(rho(z), z) + rho(z)*sin(theta)^2*diff(rho(z), z))^2 + abs(cos(theta)*rho(z))^2 + abs(rho(z)*sin(theta))^2) + rho(z)^2*sin(theta)^2/sqrt(abs(cos(theta)^2*rho(z)*diff(rho(z), z) + rho(z)*sin(theta)^2*diff(rho(z), z))^2 + abs(cos(theta)*rho(z))^2 + abs(rho(z)*sin(theta))^2))"
      ]
     },
     "execution_count": 58,
     "metadata": {},
     "output_type": "execute_result"
    }
   ],
   "source": [
    "L = n.dot_product(dphi_2z)\n",
    "M = n.dot_product(dphi_ztheta)\n",
    "N = n.dot_product(dphi_2theta)\n",
    "\n",
    "L, M, N"
   ]
  }
 ],
 "metadata": {
  "kernelspec": {
   "display_name": "SageMath 10.4",
   "language": "sage",
   "name": "sagemath-10.4"
  },
  "language_info": {
   "codemirror_mode": {
    "name": "ipython",
    "version": 3
   },
   "file_extension": ".py",
   "mimetype": "text/x-python",
   "name": "python",
   "nbconvert_exporter": "python",
   "pygments_lexer": "ipython3",
   "version": "3.12.4"
  }
 },
 "nbformat": 4,
 "nbformat_minor": 5
}
