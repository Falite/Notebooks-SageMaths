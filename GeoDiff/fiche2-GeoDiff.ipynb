{
 "cells": [
  {
   "cell_type": "markdown",
   "id": "6ef6ca67-f3e8-4ac3-afa3-231e7e1fa636",
   "metadata": {},
   "source": [
    "# Fiche 2 Géométrie Différentielle ( Calculs )"
   ]
  },
  {
   "cell_type": "code",
   "execution_count": null,
   "id": "c631c769-5998-4d24-b2aa-3731536e2b3b",
   "metadata": {},
   "outputs": [],
   "source": [
    "var('u,v')"
   ]
  },
  {
   "cell_type": "markdown",
   "id": "dc253e85-21e5-41f6-8cf1-31701a9dd5fc",
   "metadata": {},
   "source": [
    "# Exercice 2 \n",
    "\n",
    "On a $S$ l'ensemble des points vérifiant $x^2-y^2-z=0$.          \n",
    "On veut montrer que $f:\\mathbb R^2 \\rightarrow \\mathbb R^3 $ qui à $(u,v)$ associe $f(u,v)=\\begin{pmatrix} \\frac 12 (u+v) \\\\ \\frac 12 (u-v) \\\\ uv \\end{pmatrix} $ est régulière.       "
   ]
  },
  {
   "cell_type": "code",
   "execution_count": 42,
   "id": "20106c0a-ae84-4338-a1b0-123f07b86219",
   "metadata": {},
   "outputs": [
    {
     "data": {
      "text/plain": [
       "((1/2, 1/2, v),\n",
       " (1/2, -1/2, u),\n",
       " ((u + v)/sqrt(4*abs(1/2*u + 1/2*v)^2 + 4*abs(-1/2*u + 1/2*v)^2 + 1), -(u - v)/sqrt(4*abs(1/2*u + 1/2*v)^2 + 4*abs(-1/2*u + 1/2*v)^2 + 1), -1/sqrt(4*abs(1/2*u + 1/2*v)^2 + 4*abs(-1/2*u + 1/2*v)^2 + 1)))"
      ]
     },
     "execution_count": 42,
     "metadata": {},
     "output_type": "execute_result"
    }
   ],
   "source": [
    "f=vector([1/2 * (u+v) , 1/2 * (u-v) , u*v ])\n",
    "df_u=diff(f,u) \n",
    "df_v=diff(f,v)\n",
    "normal= df_u.cross_product(df_v)\n",
    "norm_normal= normal.norm()\n",
    "n= 1/norm_normal * normal \n",
    "\n",
    "df_u,df_v , n"
   ]
  },
  {
   "cell_type": "markdown",
   "id": "8759e286-730c-4246-aa0d-885e66c39525",
   "metadata": {},
   "source": [
    "On trouve :         \n",
    "$f'_u(u,v)=\\begin{pmatrix} \\frac 12 \\\\ \\frac 12 \\\\ v \\end{pmatrix} $.         \n",
    "$f'_v(u,v)=\\begin{pmatrix} \\frac 12 \\\\ - \\frac 12 \\\\ u \\end{pmatrix} $.          \n",
    "\n",
    "De plus, le produit vectoriel des deux est :          \n",
    "$f'_u \\wedge f'_v = \\frac 12 \\begin{pmatrix} u+v \\\\ u-v \\\\ -2 \\end{pmatrix}$"
   ]
  },
  {
   "cell_type": "code",
   "execution_count": 43,
   "id": "2ac0220a-da0a-424e-9b62-a0734405208c",
   "metadata": {},
   "outputs": [
    {
     "data": {
      "text/plain": [
       "(abs(v)^2 + 1/2, abs(u)^2 + 1/2, u*v)"
      ]
     },
     "execution_count": 43,
     "metadata": {},
     "output_type": "execute_result"
    }
   ],
   "source": [
    "E = df_u.norm()^2 \n",
    "F = df_v.norm()^2 \n",
    "G = df_u.dot_product(df_v)\n",
    "\n",
    "E,F,G"
   ]
  },
  {
   "cell_type": "markdown",
   "id": "4eec0a27-7efd-43dc-bc61-64a929016bc8",
   "metadata": {},
   "source": [
    "la matrice $I_p$ s'écrit donc : $\\begin{pmatrix} \\frac 12 + v^2 & uv \\\\ uv & \\frac 12 + u^2 \\end{pmatrix} $"
   ]
  },
  {
   "cell_type": "markdown",
   "id": "98f7b7d0-e149-4a36-b36a-ce27548f3fcd",
   "metadata": {},
   "source": [
    "### Exercice 5 "
   ]
  },
  {
   "cell_type": "markdown",
   "id": "7f42d34d-8bd8-46d7-85e4-b80ec208b2a9",
   "metadata": {},
   "source": [
    "On a $f(u,v) = \\begin{pmatrix} u \\\\ v \\\\ \\ln  \\frac{ \\cos u }{ \\cos v } \\end{pmatrix} $.              \n",
    "Calculons les dérivées en $u$ et en $v$ de sa 3 ème composante : "
   ]
  },
  {
   "cell_type": "code",
   "execution_count": 13,
   "id": "19bdafff-5bac-4d9c-9577-57a9252b529e",
   "metadata": {},
   "outputs": [
    {
     "data": {
      "text/plain": [
       "-sin(u)/cos(u)"
      ]
     },
     "execution_count": 13,
     "metadata": {},
     "output_type": "execute_result"
    }
   ],
   "source": [
    "f = ln(cos(u) / cos(v) )\n",
    "diff(f,u)"
   ]
  },
  {
   "cell_type": "code",
   "execution_count": 4,
   "id": "71b062a4-7a0b-4d44-ae1b-858c140a2e08",
   "metadata": {},
   "outputs": [
    {
     "data": {
      "text/plain": [
       "sin(v)/cos(v)"
      ]
     },
     "execution_count": 4,
     "metadata": {},
     "output_type": "execute_result"
    }
   ],
   "source": [
    "diff(f,v)"
   ]
  },
  {
   "cell_type": "markdown",
   "id": "6f97f726-7f57-4362-9b83-947a9fac0d82",
   "metadata": {},
   "source": [
    "Codons la fonction $f$ et faisons tous les calculs : "
   ]
  },
  {
   "cell_type": "code",
   "execution_count": 9,
   "id": "af50ec57-098a-4fd9-83a3-d2873ba57445",
   "metadata": {},
   "outputs": [],
   "source": [
    "f = vector([u,v,ln(cos(u)/cos(v))])"
   ]
  },
  {
   "cell_type": "code",
   "execution_count": 11,
   "id": "df27bee7-c528-4449-b857-2ab4ae499135",
   "metadata": {},
   "outputs": [
    {
     "data": {
      "text/plain": [
       "(1, 0, -sin(u)/cos(u))"
      ]
     },
     "execution_count": 11,
     "metadata": {},
     "output_type": "execute_result"
    }
   ],
   "source": [
    "df_u = diff(f,u)\n",
    "df_u"
   ]
  },
  {
   "cell_type": "code",
   "execution_count": 12,
   "id": "ce180356-8f01-4bf3-9e84-64912400f57e",
   "metadata": {},
   "outputs": [
    {
     "data": {
      "text/plain": [
       "(0, 1, sin(v)/cos(v))"
      ]
     },
     "execution_count": 12,
     "metadata": {},
     "output_type": "execute_result"
    }
   ],
   "source": [
    "df_v = diff(f,v)\n",
    "df_v"
   ]
  },
  {
   "cell_type": "markdown",
   "id": "47a47fee-3b1b-4e23-89eb-92aeab9989f6",
   "metadata": {},
   "source": [
    "On a les deux dérivées partielles :           \n",
    "$f'_u (u,v) = \\begin{pmatrix} 1 \\\\ 0 \\\\ \\frac{- \\sin u }{ \\cos u} \\end{pmatrix} $           \n",
    "$f'_v (u,v) = \\begin{pmatrix} 0 \\\\ 1 \\\\ \\frac{ \\sin v }{ \\cos v} \\end{pmatrix} $"
   ]
  },
  {
   "cell_type": "code",
   "execution_count": 16,
   "id": "e4b7a363-46c0-40e0-8277-d613c29680be",
   "metadata": {},
   "outputs": [
    {
     "data": {
      "text/plain": [
       "(sin(u)/cos(u), -sin(v)/cos(v), 1)"
      ]
     },
     "execution_count": 16,
     "metadata": {},
     "output_type": "execute_result"
    }
   ],
   "source": [
    "normal = df_u.cross_product(df_v)\n",
    "normal"
   ]
  },
  {
   "cell_type": "code",
   "execution_count": 19,
   "id": "473fe699-8d59-4ee8-858a-a5c847e64ba1",
   "metadata": {},
   "outputs": [
    {
     "data": {
      "text/plain": [
       "sqrt(sin(u)^2/cos(u)^2 + sin(v)^2/cos(v)^2 + 1)"
      ]
     },
     "execution_count": 19,
     "metadata": {},
     "output_type": "execute_result"
    }
   ],
   "source": [
    "norm_normal = normal.norm()\n",
    "norm_normal.simplify()"
   ]
  },
  {
   "cell_type": "code",
   "execution_count": 20,
   "id": "ff49a7bc-33f8-4491-ae06-14bc83095d9f",
   "metadata": {},
   "outputs": [
    {
     "data": {
      "text/plain": [
       "(sqrt(abs(sin(u)/cos(u))^2 + 1), sqrt(abs(sin(v)/cos(v))^2 + 1))"
      ]
     },
     "execution_count": 20,
     "metadata": {},
     "output_type": "execute_result"
    }
   ],
   "source": [
    "norm_df_u = df_u.norm()\n",
    "norm_df_v = df_v.norm()\n",
    "\n",
    "norm_df_u , norm_df_v "
   ]
  },
  {
   "cell_type": "code",
   "execution_count": 21,
   "id": "5a0f0e72-7f27-4368-bed8-a5543a921e75",
   "metadata": {},
   "outputs": [
    {
     "data": {
      "text/plain": [
       "(abs(sin(u)/cos(u))^2 + 1, abs(sin(v)/cos(v))^2 + 1)"
      ]
     },
     "execution_count": 21,
     "metadata": {},
     "output_type": "execute_result"
    }
   ],
   "source": [
    "E = norm_df_u ^2 \n",
    "F = norm_df_v ^2 \n",
    "E , F "
   ]
  },
  {
   "cell_type": "code",
   "execution_count": 22,
   "id": "8899b572-97c3-42df-ba00-6a552b35093c",
   "metadata": {},
   "outputs": [
    {
     "data": {
      "text/plain": [
       "-2*sin(u)*sin(v)/(cos(u)*cos(v))"
      ]
     },
     "execution_count": 22,
     "metadata": {},
     "output_type": "execute_result"
    }
   ],
   "source": [
    "G = 2 * df_u.dot_product(df_v)\n",
    "G"
   ]
  },
  {
   "cell_type": "code",
   "execution_count": 23,
   "id": "f9437fc5-ab09-4944-810e-075db6d0f103",
   "metadata": {},
   "outputs": [
    {
     "data": {
      "text/plain": [
       "(sin(u)/(sqrt(abs(sin(u)/cos(u))^2 + abs(sin(v)/cos(v))^2 + 1)*cos(u)), -sin(v)/(sqrt(abs(sin(u)/cos(u))^2 + abs(sin(v)/cos(v))^2 + 1)*cos(v)), 1/sqrt(abs(sin(u)/cos(u))^2 + abs(sin(v)/cos(v))^2 + 1))"
      ]
     },
     "execution_count": 23,
     "metadata": {},
     "output_type": "execute_result"
    }
   ],
   "source": [
    "n = 1/norm_normal * normal\n",
    "n"
   ]
  },
  {
   "cell_type": "markdown",
   "id": "955d761b-f768-442b-a3c5-0d3aa752c20d",
   "metadata": {},
   "source": [
    "On obtient les résultats suivants :           \n",
    "$n(u,v) = \\frac 1{\\sqrt{ \\frac{\\sin^2 u }{\\cos^2 u} + \\frac{\\sin^2 v}{\\cos^2 v} +1}} \\begin{pmatrix} \\frac{\\sin u}{\\cos u} \\\\ - \\frac{\\sin v}{\\cos v} \\\\ 1\\end{pmatrix} \n",
    "=  \\frac 1{\\sqrt{ \\tan^2 u + \\tan^2 v +1}}  \\begin{pmatrix} \\frac{\\sin u}{\\cos u} \\\\ - \\frac{\\sin v}{\\cos v} \\\\ 1\\end{pmatrix}  $                \n",
    "$E= \\| f'_u (u,v) \\| =  \\Big(\\frac{\\sin u}{\\cos u} \\Big)^2 + 1 = \\tan^2(u)+1$       \n",
    "$F= \\| f'_u(u,v) \\| =  \\Big(\\frac{\\sin v}{\\cos v} \\Big)^2 + 1 = \\tan^2(v)+1$         \n",
    "$G= \\langle f'_u , f'_v \\rangle = -2 \\frac{ \\sin u \\sin v }{\\cos u \\cos v } $"
   ]
  },
  {
   "cell_type": "code",
   "execution_count": 25,
   "id": "994a0166-5482-4fc9-8e5f-4bdd43cc5fc2",
   "metadata": {},
   "outputs": [
    {
     "data": {
      "text/plain": [
       "((0, 0, -sin(u)^2/cos(u)^2 - 1), (0, 0, sin(v)^2/cos(v)^2 + 1), (0, 0, 0))"
      ]
     },
     "execution_count": 25,
     "metadata": {},
     "output_type": "execute_result"
    }
   ],
   "source": [
    "d2f_u = diff(df_u, u)\n",
    "d2f_v = diff(df_v , v)\n",
    "d2f_uv = diff(df_u, v)\n",
    "d2f_u , d2f_v , d2f_uv"
   ]
  },
  {
   "cell_type": "code",
   "execution_count": 26,
   "id": "930dddf8-2896-4f16-aba9-a0ee4a0bea8e",
   "metadata": {},
   "outputs": [
    {
     "data": {
      "text/plain": [
       "(-(sin(u)^2/cos(u)^2 + 1)/sqrt(abs(sin(u)/cos(u))^2 + abs(sin(v)/cos(v))^2 + 1),\n",
       " 0,\n",
       " (sin(v)^2/cos(v)^2 + 1)/sqrt(abs(sin(u)/cos(u))^2 + abs(sin(v)/cos(v))^2 + 1))"
      ]
     },
     "execution_count": 26,
     "metadata": {},
     "output_type": "execute_result"
    }
   ],
   "source": [
    "L = n.dot_product(d2f_u)\n",
    "M = n.dot_product(d2f_uv)\n",
    "N = n.dot_product(d2f_v)\n",
    "\n",
    "L, M, N"
   ]
  },
  {
   "cell_type": "markdown",
   "id": "c686db5d-1617-4e3d-8a59-f896bdca3237",
   "metadata": {},
   "source": [
    "On obtient ensuite les résutats suivants concernant la deuxième forme fondamentale :       \n",
    "$L=\\langle n, f''_u \\rangle = \\frac{-\\tan^2 u+1}{\\sqrt{\\tan^2 u + \\tan^2 v + 1}} $        \n",
    "$M=\\langle n , f''_{uv}  \\rangle = 0$          \n",
    "$N=\\langle n, f''_v \\rangle = \\frac{-\\tan^2 v+1}{\\sqrt{\\tan^2 u + \\tan^2 v + 1}}$"
   ]
  },
  {
   "cell_type": "markdown",
   "id": "117b4c0f-23b7-47b6-98ba-038ae5ce992f",
   "metadata": {},
   "source": [
    "## Exercice 6"
   ]
  },
  {
   "cell_type": "markdown",
   "id": "cf711c0e-f96c-48a9-a364-1daca3b853d9",
   "metadata": {},
   "source": [
    "On a $ S \\subset \\mathbb R^3 $ la surface d'équation $ z = xy^2 $           \n",
    "paramétrée par $ f = (u,v) \\rightarrow ( u , v , u •v^2 )$ avec $(u,v) \\in \\mathbb R^2 $"
   ]
  },
  {
   "cell_type": "code",
   "execution_count": 31,
   "id": "76b723bd-ed28-4f85-a8fa-c3e5cffecae3",
   "metadata": {},
   "outputs": [
    {
     "data": {
      "text/plain": [
       "((1, 0, v^2), (0, 1, 2*u*v))"
      ]
     },
     "execution_count": 31,
     "metadata": {},
     "output_type": "execute_result"
    }
   ],
   "source": [
    "f = vector([u,v,u*v^2])\n",
    "df_u = diff(f,u)\n",
    "df_v = diff(f,v)\n",
    "\n",
    "df_u , df_v "
   ]
  },
  {
   "cell_type": "markdown",
   "id": "06c7f4c4-9c4a-464e-9349-de57b672a60b",
   "metadata": {},
   "source": [
    "On a :        \n",
    "$ f'_u (u,v) = \\begin{pmatrix}1 \\\\ 0 \\\\ v^2 \\end{pmatrix} $\n",
    "$ f'_v(u,v) = \\begin{pmatrix} 0 \\\\ 1 \\\\ 2 u v \\end{pmatrix} $"
   ]
  },
  {
   "cell_type": "code",
   "execution_count": 32,
   "id": "4eb368e9-ae22-47e4-913f-3349fffa180e",
   "metadata": {},
   "outputs": [
    {
     "data": {
      "text/plain": [
       "((-v^2, -2*u*v, 1), sqrt(abs(v)^4 + 4*abs(u*v)^2 + 1))"
      ]
     },
     "execution_count": 32,
     "metadata": {},
     "output_type": "execute_result"
    }
   ],
   "source": [
    "normal = df_u.cross_product(df_v)\n",
    "norm_normal = normal.norm()\n",
    "normal , norm_normal"
   ]
  },
  {
   "cell_type": "code",
   "execution_count": 34,
   "id": "68a78a8c-fa49-4ceb-8e64-da024ad55af2",
   "metadata": {},
   "outputs": [
    {
     "data": {
      "text/plain": [
       "(-v^2/sqrt(abs(v)^4 + 4*abs(u*v)^2 + 1), -2*u*v/sqrt(abs(v)^4 + 4*abs(u*v)^2 + 1), 1/sqrt(abs(v)^4 + 4*abs(u*v)^2 + 1))"
      ]
     },
     "execution_count": 34,
     "metadata": {},
     "output_type": "execute_result"
    }
   ],
   "source": [
    "n = 1/norm_normal * normal\n",
    "n"
   ]
  },
  {
   "cell_type": "markdown",
   "id": "479c7a77-0aa4-40f5-af9e-b24f0872a869",
   "metadata": {},
   "source": [
    "Le vecteur normal est :               \n",
    "$n(u,v)= \\frac 1{\\sqrt{v^4 + 4 (uv)^2 +1}} \\begin{pmatrix} -v^2 \\\\ -2 uv \\\\ 1 \\end{pmatrix} $"
   ]
  },
  {
   "cell_type": "code",
   "execution_count": 36,
   "id": "fc084cd0-03dc-400f-9eae-0adffc4a8d50",
   "metadata": {},
   "outputs": [
    {
     "data": {
      "text/plain": [
       "(abs(v)^4 + 1, 4*abs(u*v)^2 + 1)"
      ]
     },
     "execution_count": 36,
     "metadata": {},
     "output_type": "execute_result"
    }
   ],
   "source": [
    "E = df_u.norm()^2\n",
    "F = df_v.norm()^2\n",
    "\n",
    "E,F"
   ]
  },
  {
   "cell_type": "code",
   "execution_count": 37,
   "id": "2ccf66c3-4ced-4077-b8b9-4077a6e2d1e2",
   "metadata": {},
   "outputs": [
    {
     "data": {
      "text/plain": [
       "4*u*v^3"
      ]
     },
     "execution_count": 37,
     "metadata": {},
     "output_type": "execute_result"
    }
   ],
   "source": [
    "G = 2* df_u.dot_product(df_v)\n",
    "G"
   ]
  },
  {
   "cell_type": "markdown",
   "id": "8e71550c-d82b-4c66-8afe-589dd15a9caa",
   "metadata": {},
   "source": [
    "Pour la première forme fondamentale :        \n",
    "On trouve $ E = v^4 + 1 ,~~F = 4 (uv)^2 + 1,~~G = 4 uv^3$         \n",
    "Ce qui nous donne :          \n",
    "$I_p = \\begin{pmatrix}1+v^4 & 2 uv^3 \\\\ 2uv^3 & 1+ 4 u^2 v^2 \\end{pmatrix} $"
   ]
  },
  {
   "cell_type": "code",
   "execution_count": 38,
   "id": "1036eea7-eb45-4d0d-9985-16bd2353618d",
   "metadata": {},
   "outputs": [
    {
     "data": {
      "text/plain": [
       "((0, 0, 0), (0, 0, 2*u), (0, 0, 2*v))"
      ]
     },
     "execution_count": 38,
     "metadata": {},
     "output_type": "execute_result"
    }
   ],
   "source": [
    "d2f_u = diff(df_u, u)\n",
    "d2f_v = diff(df_v , v)\n",
    "d2f_uv = diff(df_u, v)\n",
    "\n",
    "d2f_u , d2f_v , d2f_uv"
   ]
  },
  {
   "cell_type": "code",
   "execution_count": 39,
   "id": "43061362-b506-4cac-861d-a418d4118cad",
   "metadata": {},
   "outputs": [
    {
     "data": {
      "text/plain": [
       "(0,\n",
       " 2*v/sqrt(abs(v)^4 + 4*abs(u*v)^2 + 1),\n",
       " 2*u/sqrt(abs(v)^4 + 4*abs(u*v)^2 + 1))"
      ]
     },
     "execution_count": 39,
     "metadata": {},
     "output_type": "execute_result"
    }
   ],
   "source": [
    "L = n.dot_product(d2f_u)\n",
    "M = n.dot_product(d2f_uv)\n",
    "N = n.dot_product(d2f_v)\n",
    "\n",
    "L, M, N"
   ]
  },
  {
   "cell_type": "markdown",
   "id": "bd08a2fa-8a6f-4523-847c-38b9e133f503",
   "metadata": {},
   "source": [
    "Pour la deuxième forme fondamentale, on trouve :        \n",
    "$L = 0,~~M = \\frac{2v}{\\sqrt{v^4 + 4 (uv)^2 + 1}},~~N =\\frac{2u}{\\sqrt{v^4 + 4 (uv)^2 + 1}} $       \n",
    "               \n",
    "$ II_p = \\frac 2{\\sqrt{v^4 + 4 uv^2 + 1}}  \\begin{pmatrix} 0 & v \\\\ v & u \\end{pmatrix} $"
   ]
  },
  {
   "cell_type": "code",
   "execution_count": 41,
   "id": "83b26ef8-89bf-4d3f-8d75-444360b18b7e",
   "metadata": {},
   "outputs": [
    {
     "data": {
      "text/plain": [
       "-4*v^2/((4*(abs(v)^4 + 1)*u*v^3 - (4*abs(u*v)^2 + 1)^2)*(abs(v)^4 + 4*abs(u*v)^2 + 1))"
      ]
     },
     "execution_count": 41,
     "metadata": {},
     "output_type": "execute_result"
    }
   ],
   "source": [
    "K = (L*N-M^2)/(E*G-F^2)\n",
    "K"
   ]
  }
 ],
 "metadata": {
  "kernelspec": {
   "display_name": "SageMath 10.4",
   "language": "sage",
   "name": "sagemath-10.4"
  },
  "language_info": {
   "codemirror_mode": {
    "name": "ipython",
    "version": 3
   },
   "file_extension": ".py",
   "mimetype": "text/x-python",
   "name": "python",
   "nbconvert_exporter": "python",
   "pygments_lexer": "ipython3",
   "version": "3.12.4"
  }
 },
 "nbformat": 4,
 "nbformat_minor": 5
}
