{
 "cells": [
  {
   "cell_type": "markdown",
   "id": "29af1217-aaa4-4292-abb8-05006437a606",
   "metadata": {},
   "source": [
    "# Projet De Géométrie Différentielle : PseudoSphères\n",
    "https://mathcurve.com/surfaces/pseudosphere/pseudosphere.shtml"
   ]
  },
  {
   "cell_type": "markdown",
   "id": "a0ff20e8-047f-4765-a6e1-5d59eba70bee",
   "metadata": {},
   "source": [
    "Une paramétrisation de pseudosphère est l'application suivante :\n",
    "\n",
    "On fixe $R \\in \\mathbb R$ le pseudo rayon\n",
    "\n",
    "et on pose $\\varphi:\\mathbb R^2 \\longrightarrow \\mathbb R^3$\n",
    "$(u,v)\\longrightarrow \\begin{pmatrix} R•\\frac{\\cos(v)}{\\cosh(v)} \\\\ R• \\frac{\\sin(v)}{\\cosh(u)} \\\\ R•(u-\\tanh(u))\\end{pmatrix}$"
   ]
  },
  {
   "cell_type": "code",
   "execution_count": 1,
   "id": "b615ea64-7418-4dd7-b8fe-b373a3f98b89",
   "metadata": {},
   "outputs": [],
   "source": [
    "%display latex"
   ]
  },
  {
   "cell_type": "code",
   "execution_count": 3,
   "id": "483bed43-3706-42b1-aa55-d4ebc817e21f",
   "metadata": {},
   "outputs": [
    {
     "data": {
      "text/html": [
       "<html>\\(\\displaystyle \\left(\\frac{R \\cos\\left(v\\right)}{\\cosh\\left(u\\right)},\\,\\frac{R \\sin\\left(v\\right)}{\\cosh\\left(u\\right)},\\,R {\\left(u - \\tanh\\left(u\\right)\\right)}\\right)\\)</html>"
      ],
      "text/latex": [
       "$\\displaystyle \\left(\\frac{R \\cos\\left(v\\right)}{\\cosh\\left(u\\right)},\\,\\frac{R \\sin\\left(v\\right)}{\\cosh\\left(u\\right)},\\,R {\\left(u - \\tanh\\left(u\\right)\\right)}\\right)$"
      ],
      "text/plain": [
       "(R*cos(v)/cosh(u), R*sin(v)/cosh(u), R*(u - tanh(u)))"
      ]
     },
     "execution_count": 3,
     "metadata": {},
     "output_type": "execute_result"
    }
   ],
   "source": [
    "var('R')\n",
    "assume(R!=0)\n",
    "\n",
    "var('u','v')\n",
    "f = vector([R*(cos(v)/cosh(u)), \n",
    "            R*(sin(v)/cosh(u)), \n",
    "            R*(u-tanh(u))])\n",
    "f"
   ]
  },
  {
   "cell_type": "code",
   "execution_count": 8,
   "id": "c4da8e1a-a399-483a-89df-9e1528b9fcfa",
   "metadata": {},
   "outputs": [],
   "source": [
    "df_u = diff(f,u)\n",
    "df_v = diff(f,v)"
   ]
  },
  {
   "cell_type": "code",
   "execution_count": 9,
   "id": "0eb5fa34-ed7a-4505-8795-1398a861e57e",
   "metadata": {},
   "outputs": [
    {
     "data": {
      "text/html": [
       "<html>\\(\\displaystyle \\left(-\\frac{a \\cos\\left(v\\right) \\sinh\\left(u\\right)}{\\cosh\\left(u\\right)^{2}},\\,-\\frac{a \\sin\\left(v\\right) \\sinh\\left(u\\right)}{\\cosh\\left(u\\right)^{2}},\\,a \\tanh\\left(u\\right)^{2}\\right)\\)</html>"
      ],
      "text/latex": [
       "$\\displaystyle \\left(-\\frac{a \\cos\\left(v\\right) \\sinh\\left(u\\right)}{\\cosh\\left(u\\right)^{2}},\\,-\\frac{a \\sin\\left(v\\right) \\sinh\\left(u\\right)}{\\cosh\\left(u\\right)^{2}},\\,a \\tanh\\left(u\\right)^{2}\\right)$"
      ],
      "text/plain": [
       "(-a*cos(v)*sinh(u)/cosh(u)^2, -a*sin(v)*sinh(u)/cosh(u)^2, a*tanh(u)^2)"
      ]
     },
     "execution_count": 9,
     "metadata": {},
     "output_type": "execute_result"
    }
   ],
   "source": [
    "df_u"
   ]
  },
  {
   "cell_type": "code",
   "execution_count": 10,
   "id": "b93a55f5-75bc-4a68-854a-74e5fc525e33",
   "metadata": {},
   "outputs": [
    {
     "data": {
      "text/html": [
       "<html>\\(\\displaystyle \\left(-\\frac{a \\sin\\left(v\\right)}{\\cosh\\left(u\\right)},\\,\\frac{a \\cos\\left(v\\right)}{\\cosh\\left(u\\right)},\\,0\\right)\\)</html>"
      ],
      "text/latex": [
       "$\\displaystyle \\left(-\\frac{a \\sin\\left(v\\right)}{\\cosh\\left(u\\right)},\\,\\frac{a \\cos\\left(v\\right)}{\\cosh\\left(u\\right)},\\,0\\right)$"
      ],
      "text/plain": [
       "(-a*sin(v)/cosh(u), a*cos(v)/cosh(u), 0)"
      ]
     },
     "execution_count": 10,
     "metadata": {},
     "output_type": "execute_result"
    }
   ],
   "source": [
    "df_v"
   ]
  },
  {
   "cell_type": "code",
   "execution_count": 11,
   "id": "5291c481-79c0-4314-b3d8-2d4c624b30c2",
   "metadata": {},
   "outputs": [],
   "source": [
    "hat_dfu_dfv = df_u.cross_product(df_v)\n",
    "norm = hat_dfu_dfv.norm()\n",
    "normal = hat_dfu_dfv / norm"
   ]
  },
  {
   "cell_type": "code",
   "execution_count": 12,
   "id": "3d91f8e7-70ab-4d62-8f4f-b459e37c5459",
   "metadata": {},
   "outputs": [
    {
     "data": {
      "text/html": [
       "<html>\\(\\displaystyle \\left(-\\frac{a^{2} \\cos\\left(v\\right) \\tanh\\left(u\\right)^{2}}{\\cosh\\left(u\\right)},\\,-\\frac{a^{2} \\sin\\left(v\\right) \\tanh\\left(u\\right)^{2}}{\\cosh\\left(u\\right)},\\,-\\frac{a^{2} \\cos\\left(v\\right)^{2} \\sinh\\left(u\\right)}{\\cosh\\left(u\\right)^{3}} - \\frac{a^{2} \\sin\\left(v\\right)^{2} \\sinh\\left(u\\right)}{\\cosh\\left(u\\right)^{3}}\\right)\\)</html>"
      ],
      "text/latex": [
       "$\\displaystyle \\left(-\\frac{a^{2} \\cos\\left(v\\right) \\tanh\\left(u\\right)^{2}}{\\cosh\\left(u\\right)},\\,-\\frac{a^{2} \\sin\\left(v\\right) \\tanh\\left(u\\right)^{2}}{\\cosh\\left(u\\right)},\\,-\\frac{a^{2} \\cos\\left(v\\right)^{2} \\sinh\\left(u\\right)}{\\cosh\\left(u\\right)^{3}} - \\frac{a^{2} \\sin\\left(v\\right)^{2} \\sinh\\left(u\\right)}{\\cosh\\left(u\\right)^{3}}\\right)$"
      ],
      "text/plain": [
       "(-a^2*cos(v)*tanh(u)^2/cosh(u), -a^2*sin(v)*tanh(u)^2/cosh(u), -a^2*cos(v)^2*sinh(u)/cosh(u)^3 - a^2*sin(v)^2*sinh(u)/cosh(u)^3)"
      ]
     },
     "execution_count": 12,
     "metadata": {},
     "output_type": "execute_result"
    }
   ],
   "source": [
    "hat_dfu_dfv"
   ]
  },
  {
   "cell_type": "code",
   "execution_count": 13,
   "id": "118f9d40-0131-4a51-bf51-ca233830eb28",
   "metadata": {},
   "outputs": [
    {
     "data": {
      "text/html": [
       "<html>\\(\\displaystyle \\sqrt{{\\left| \\frac{a^{2} \\cos\\left(v\\right) \\tanh\\left(u\\right)^{2}}{\\cosh\\left(u\\right)} \\right|}^{2} + {\\left| \\frac{a^{2} \\sin\\left(v\\right) \\tanh\\left(u\\right)^{2}}{\\cosh\\left(u\\right)} \\right|}^{2} + {\\left| -\\frac{a^{2} \\cos\\left(v\\right)^{2} \\sinh\\left(u\\right)}{\\cosh\\left(u\\right)^{3}} - \\frac{a^{2} \\sin\\left(v\\right)^{2} \\sinh\\left(u\\right)}{\\cosh\\left(u\\right)^{3}} \\right|}^{2}}\\)</html>"
      ],
      "text/latex": [
       "$\\displaystyle \\sqrt{{\\left| \\frac{a^{2} \\cos\\left(v\\right) \\tanh\\left(u\\right)^{2}}{\\cosh\\left(u\\right)} \\right|}^{2} + {\\left| \\frac{a^{2} \\sin\\left(v\\right) \\tanh\\left(u\\right)^{2}}{\\cosh\\left(u\\right)} \\right|}^{2} + {\\left| -\\frac{a^{2} \\cos\\left(v\\right)^{2} \\sinh\\left(u\\right)}{\\cosh\\left(u\\right)^{3}} - \\frac{a^{2} \\sin\\left(v\\right)^{2} \\sinh\\left(u\\right)}{\\cosh\\left(u\\right)^{3}} \\right|}^{2}}$"
      ],
      "text/plain": [
       "sqrt(abs(a^2*cos(v)*tanh(u)^2/cosh(u))^2 + abs(a^2*sin(v)*tanh(u)^2/cosh(u))^2 + abs(-a^2*cos(v)^2*sinh(u)/cosh(u)^3 - a^2*sin(v)^2*sinh(u)/cosh(u)^3)^2)"
      ]
     },
     "execution_count": 13,
     "metadata": {},
     "output_type": "execute_result"
    }
   ],
   "source": [
    "norm"
   ]
  },
  {
   "cell_type": "code",
   "execution_count": 14,
   "id": "29aae39c-57cc-43ed-a3c8-787d3f64c3ee",
   "metadata": {},
   "outputs": [
    {
     "data": {
      "text/html": [
       "<html>\\(\\displaystyle \\left(-\\frac{a^{2} \\cos\\left(v\\right) \\tanh\\left(u\\right)^{2}}{\\sqrt{\\frac{a^{4} \\cos\\left(v\\right)^{2} \\tanh\\left(u\\right)^{4}}{\\cosh\\left(u\\right)^{2}} + \\frac{a^{4} \\sin\\left(v\\right)^{2} \\tanh\\left(u\\right)^{4}}{\\cosh\\left(u\\right)^{2}} + {\\left(\\frac{a^{2} \\cos\\left(v\\right)^{2} \\sinh\\left(u\\right)}{\\cosh\\left(u\\right)^{3}} + \\frac{a^{2} \\sin\\left(v\\right)^{2} \\sinh\\left(u\\right)}{\\cosh\\left(u\\right)^{3}}\\right)}^{2}} \\cosh\\left(u\\right)},\\,-\\frac{a^{2} \\sin\\left(v\\right) \\tanh\\left(u\\right)^{2}}{\\sqrt{\\frac{a^{4} \\cos\\left(v\\right)^{2} \\tanh\\left(u\\right)^{4}}{\\cosh\\left(u\\right)^{2}} + \\frac{a^{4} \\sin\\left(v\\right)^{2} \\tanh\\left(u\\right)^{4}}{\\cosh\\left(u\\right)^{2}} + {\\left(\\frac{a^{2} \\cos\\left(v\\right)^{2} \\sinh\\left(u\\right)}{\\cosh\\left(u\\right)^{3}} + \\frac{a^{2} \\sin\\left(v\\right)^{2} \\sinh\\left(u\\right)}{\\cosh\\left(u\\right)^{3}}\\right)}^{2}} \\cosh\\left(u\\right)},\\,-\\frac{\\frac{a^{2} \\cos\\left(v\\right)^{2} \\sinh\\left(u\\right)}{\\cosh\\left(u\\right)^{3}} + \\frac{a^{2} \\sin\\left(v\\right)^{2} \\sinh\\left(u\\right)}{\\cosh\\left(u\\right)^{3}}}{\\sqrt{\\frac{a^{4} \\cos\\left(v\\right)^{2} \\tanh\\left(u\\right)^{4}}{\\cosh\\left(u\\right)^{2}} + \\frac{a^{4} \\sin\\left(v\\right)^{2} \\tanh\\left(u\\right)^{4}}{\\cosh\\left(u\\right)^{2}} + {\\left(\\frac{a^{2} \\cos\\left(v\\right)^{2} \\sinh\\left(u\\right)}{\\cosh\\left(u\\right)^{3}} + \\frac{a^{2} \\sin\\left(v\\right)^{2} \\sinh\\left(u\\right)}{\\cosh\\left(u\\right)^{3}}\\right)}^{2}}}\\right)\\)</html>"
      ],
      "text/latex": [
       "$\\displaystyle \\left(-\\frac{a^{2} \\cos\\left(v\\right) \\tanh\\left(u\\right)^{2}}{\\sqrt{\\frac{a^{4} \\cos\\left(v\\right)^{2} \\tanh\\left(u\\right)^{4}}{\\cosh\\left(u\\right)^{2}} + \\frac{a^{4} \\sin\\left(v\\right)^{2} \\tanh\\left(u\\right)^{4}}{\\cosh\\left(u\\right)^{2}} + {\\left(\\frac{a^{2} \\cos\\left(v\\right)^{2} \\sinh\\left(u\\right)}{\\cosh\\left(u\\right)^{3}} + \\frac{a^{2} \\sin\\left(v\\right)^{2} \\sinh\\left(u\\right)}{\\cosh\\left(u\\right)^{3}}\\right)}^{2}} \\cosh\\left(u\\right)},\\,-\\frac{a^{2} \\sin\\left(v\\right) \\tanh\\left(u\\right)^{2}}{\\sqrt{\\frac{a^{4} \\cos\\left(v\\right)^{2} \\tanh\\left(u\\right)^{4}}{\\cosh\\left(u\\right)^{2}} + \\frac{a^{4} \\sin\\left(v\\right)^{2} \\tanh\\left(u\\right)^{4}}{\\cosh\\left(u\\right)^{2}} + {\\left(\\frac{a^{2} \\cos\\left(v\\right)^{2} \\sinh\\left(u\\right)}{\\cosh\\left(u\\right)^{3}} + \\frac{a^{2} \\sin\\left(v\\right)^{2} \\sinh\\left(u\\right)}{\\cosh\\left(u\\right)^{3}}\\right)}^{2}} \\cosh\\left(u\\right)},\\,-\\frac{\\frac{a^{2} \\cos\\left(v\\right)^{2} \\sinh\\left(u\\right)}{\\cosh\\left(u\\right)^{3}} + \\frac{a^{2} \\sin\\left(v\\right)^{2} \\sinh\\left(u\\right)}{\\cosh\\left(u\\right)^{3}}}{\\sqrt{\\frac{a^{4} \\cos\\left(v\\right)^{2} \\tanh\\left(u\\right)^{4}}{\\cosh\\left(u\\right)^{2}} + \\frac{a^{4} \\sin\\left(v\\right)^{2} \\tanh\\left(u\\right)^{4}}{\\cosh\\left(u\\right)^{2}} + {\\left(\\frac{a^{2} \\cos\\left(v\\right)^{2} \\sinh\\left(u\\right)}{\\cosh\\left(u\\right)^{3}} + \\frac{a^{2} \\sin\\left(v\\right)^{2} \\sinh\\left(u\\right)}{\\cosh\\left(u\\right)^{3}}\\right)}^{2}}}\\right)$"
      ],
      "text/plain": [
       "(-a^2*cos(v)*tanh(u)^2/(sqrt(a^4*cos(v)^2*tanh(u)^4/cosh(u)^2 + a^4*sin(v)^2*tanh(u)^4/cosh(u)^2 + (a^2*cos(v)^2*sinh(u)/cosh(u)^3 + a^2*sin(v)^2*sinh(u)/cosh(u)^3)^2)*cosh(u)), -a^2*sin(v)*tanh(u)^2/(sqrt(a^4*cos(v)^2*tanh(u)^4/cosh(u)^2 + a^4*sin(v)^2*tanh(u)^4/cosh(u)^2 + (a^2*cos(v)^2*sinh(u)/cosh(u)^3 + a^2*sin(v)^2*sinh(u)/cosh(u)^3)^2)*cosh(u)), -(a^2*cos(v)^2*sinh(u)/cosh(u)^3 + a^2*sin(v)^2*sinh(u)/cosh(u)^3)/sqrt(a^4*cos(v)^2*tanh(u)^4/cosh(u)^2 + a^4*sin(v)^2*tanh(u)^4/cosh(u)^2 + (a^2*cos(v)^2*sinh(u)/cosh(u)^3 + a^2*sin(v)^2*sinh(u)/cosh(u)^3)^2))"
      ]
     },
     "execution_count": 14,
     "metadata": {},
     "output_type": "execute_result"
    }
   ],
   "source": [
    "normal.simplify()"
   ]
  },
  {
   "cell_type": "code",
   "execution_count": 15,
   "id": "e9c6041c-8550-449c-bb19-0981d8d7627f",
   "metadata": {},
   "outputs": [
    {
     "data": {
      "text/html": [
       "<html>\\(\\displaystyle \\left({\\left| a \\tanh\\left(u\\right)^{2} \\right|}^{2} + {\\left| \\frac{a \\cos\\left(v\\right) \\sinh\\left(u\\right)}{\\cosh\\left(u\\right)^{2}} \\right|}^{2} + {\\left| \\frac{a \\sin\\left(v\\right) \\sinh\\left(u\\right)}{\\cosh\\left(u\\right)^{2}} \\right|}^{2}, {\\left| \\frac{a \\cos\\left(v\\right)}{\\cosh\\left(u\\right)} \\right|}^{2} + {\\left| \\frac{a \\sin\\left(v\\right)}{\\cosh\\left(u\\right)} \\right|}^{2}, 0\\right)\\)</html>"
      ],
      "text/latex": [
       "$\\displaystyle \\left({\\left| a \\tanh\\left(u\\right)^{2} \\right|}^{2} + {\\left| \\frac{a \\cos\\left(v\\right) \\sinh\\left(u\\right)}{\\cosh\\left(u\\right)^{2}} \\right|}^{2} + {\\left| \\frac{a \\sin\\left(v\\right) \\sinh\\left(u\\right)}{\\cosh\\left(u\\right)^{2}} \\right|}^{2}, {\\left| \\frac{a \\cos\\left(v\\right)}{\\cosh\\left(u\\right)} \\right|}^{2} + {\\left| \\frac{a \\sin\\left(v\\right)}{\\cosh\\left(u\\right)} \\right|}^{2}, 0\\right)$"
      ],
      "text/plain": [
       "(abs(a*tanh(u)^2)^2 + abs(a*cos(v)*sinh(u)/cosh(u)^2)^2 + abs(a*sin(v)*sinh(u)/cosh(u)^2)^2,\n",
       " abs(a*cos(v)/cosh(u))^2 + abs(a*sin(v)/cosh(u))^2,\n",
       " 0)"
      ]
     },
     "execution_count": 15,
     "metadata": {},
     "output_type": "execute_result"
    }
   ],
   "source": [
    "E = df_u.norm()^2 \n",
    "F = df_v.norm()^2 \n",
    "G = df_u.dot_product(df_v)\n",
    "\n",
    "E,F,G"
   ]
  },
  {
   "cell_type": "code",
   "execution_count": 17,
   "id": "2d1a3ab3-b03c-49e9-84a0-7a08b238d362",
   "metadata": {},
   "outputs": [],
   "source": [
    "d2f_u = diff(df_u, u)\n",
    "d2f_v = diff(df_v , v)\n",
    "d2f_uv = diff(df_u, v)"
   ]
  },
  {
   "cell_type": "code",
   "execution_count": 18,
   "id": "a71e01e5-439f-4354-a359-bd359a93f7f3",
   "metadata": {},
   "outputs": [
    {
     "data": {
      "text/html": [
       "<html>\\(\\displaystyle \\left(-\\frac{a \\cos\\left(v\\right)}{\\cosh\\left(u\\right)} + \\frac{2 \\, a \\cos\\left(v\\right) \\sinh\\left(u\\right)^{2}}{\\cosh\\left(u\\right)^{3}},\\,-\\frac{a \\sin\\left(v\\right)}{\\cosh\\left(u\\right)} + \\frac{2 \\, a \\sin\\left(v\\right) \\sinh\\left(u\\right)^{2}}{\\cosh\\left(u\\right)^{3}},\\,-2 \\, {\\left(\\tanh\\left(u\\right)^{2} - 1\\right)} a \\tanh\\left(u\\right)\\right)\\)</html>"
      ],
      "text/latex": [
       "$\\displaystyle \\left(-\\frac{a \\cos\\left(v\\right)}{\\cosh\\left(u\\right)} + \\frac{2 \\, a \\cos\\left(v\\right) \\sinh\\left(u\\right)^{2}}{\\cosh\\left(u\\right)^{3}},\\,-\\frac{a \\sin\\left(v\\right)}{\\cosh\\left(u\\right)} + \\frac{2 \\, a \\sin\\left(v\\right) \\sinh\\left(u\\right)^{2}}{\\cosh\\left(u\\right)^{3}},\\,-2 \\, {\\left(\\tanh\\left(u\\right)^{2} - 1\\right)} a \\tanh\\left(u\\right)\\right)$"
      ],
      "text/plain": [
       "(-a*cos(v)/cosh(u) + 2*a*cos(v)*sinh(u)^2/cosh(u)^3, -a*sin(v)/cosh(u) + 2*a*sin(v)*sinh(u)^2/cosh(u)^3, -2*(tanh(u)^2 - 1)*a*tanh(u))"
      ]
     },
     "execution_count": 18,
     "metadata": {},
     "output_type": "execute_result"
    }
   ],
   "source": [
    "d2f_u"
   ]
  },
  {
   "cell_type": "code",
   "execution_count": 19,
   "id": "ad3b36ef-cbbb-4ec0-9fc4-e3d0a1ece3d3",
   "metadata": {},
   "outputs": [
    {
     "data": {
      "text/html": [
       "<html>\\(\\displaystyle \\left(-\\frac{a \\cos\\left(v\\right)}{\\cosh\\left(u\\right)},\\,-\\frac{a \\sin\\left(v\\right)}{\\cosh\\left(u\\right)},\\,0\\right)\\)</html>"
      ],
      "text/latex": [
       "$\\displaystyle \\left(-\\frac{a \\cos\\left(v\\right)}{\\cosh\\left(u\\right)},\\,-\\frac{a \\sin\\left(v\\right)}{\\cosh\\left(u\\right)},\\,0\\right)$"
      ],
      "text/plain": [
       "(-a*cos(v)/cosh(u), -a*sin(v)/cosh(u), 0)"
      ]
     },
     "execution_count": 19,
     "metadata": {},
     "output_type": "execute_result"
    }
   ],
   "source": [
    "d2f_v"
   ]
  },
  {
   "cell_type": "code",
   "execution_count": 20,
   "id": "b148e164-6c75-4ba7-b17b-2340ec30fabf",
   "metadata": {},
   "outputs": [
    {
     "data": {
      "text/html": [
       "<html>\\(\\displaystyle \\left(\\frac{a \\sin\\left(v\\right) \\sinh\\left(u\\right)}{\\cosh\\left(u\\right)^{2}},\\,-\\frac{a \\cos\\left(v\\right) \\sinh\\left(u\\right)}{\\cosh\\left(u\\right)^{2}},\\,0\\right)\\)</html>"
      ],
      "text/latex": [
       "$\\displaystyle \\left(\\frac{a \\sin\\left(v\\right) \\sinh\\left(u\\right)}{\\cosh\\left(u\\right)^{2}},\\,-\\frac{a \\cos\\left(v\\right) \\sinh\\left(u\\right)}{\\cosh\\left(u\\right)^{2}},\\,0\\right)$"
      ],
      "text/plain": [
       "(a*sin(v)*sinh(u)/cosh(u)^2, -a*cos(v)*sinh(u)/cosh(u)^2, 0)"
      ]
     },
     "execution_count": 20,
     "metadata": {},
     "output_type": "execute_result"
    }
   ],
   "source": [
    "d2f_uv"
   ]
  },
  {
   "cell_type": "code",
   "execution_count": 22,
   "id": "371cfdac-ec9d-4f4d-8817-9076ce5a1692",
   "metadata": {},
   "outputs": [],
   "source": [
    "L = normal.dot_product(d2f_u)\n",
    "M = normal.dot_product(d2f_uv)\n",
    "N = normal.dot_product(d2f_v)"
   ]
  },
  {
   "cell_type": "code",
   "execution_count": 23,
   "id": "da06ce5d-eba5-4ba3-a500-593808886bc3",
   "metadata": {},
   "outputs": [
    {
     "data": {
      "text/html": [
       "<html>\\(\\displaystyle \\frac{a^{2} {\\left(\\frac{a \\cos\\left(v\\right)}{\\cosh\\left(u\\right)} - \\frac{2 \\, a \\cos\\left(v\\right) \\sinh\\left(u\\right)^{2}}{\\cosh\\left(u\\right)^{3}}\\right)} \\cos\\left(v\\right) \\tanh\\left(u\\right)^{2}}{\\sqrt{{\\left| \\frac{a^{2} \\cos\\left(v\\right) \\tanh\\left(u\\right)^{2}}{\\cosh\\left(u\\right)} \\right|}^{2} + {\\left| \\frac{a^{2} \\sin\\left(v\\right) \\tanh\\left(u\\right)^{2}}{\\cosh\\left(u\\right)} \\right|}^{2} + {\\left| -\\frac{a^{2} \\cos\\left(v\\right)^{2} \\sinh\\left(u\\right)}{\\cosh\\left(u\\right)^{3}} - \\frac{a^{2} \\sin\\left(v\\right)^{2} \\sinh\\left(u\\right)}{\\cosh\\left(u\\right)^{3}} \\right|}^{2}} \\cosh\\left(u\\right)} + \\frac{a^{2} {\\left(\\frac{a \\sin\\left(v\\right)}{\\cosh\\left(u\\right)} - \\frac{2 \\, a \\sin\\left(v\\right) \\sinh\\left(u\\right)^{2}}{\\cosh\\left(u\\right)^{3}}\\right)} \\sin\\left(v\\right) \\tanh\\left(u\\right)^{2}}{\\sqrt{{\\left| \\frac{a^{2} \\cos\\left(v\\right) \\tanh\\left(u\\right)^{2}}{\\cosh\\left(u\\right)} \\right|}^{2} + {\\left| \\frac{a^{2} \\sin\\left(v\\right) \\tanh\\left(u\\right)^{2}}{\\cosh\\left(u\\right)} \\right|}^{2} + {\\left| -\\frac{a^{2} \\cos\\left(v\\right)^{2} \\sinh\\left(u\\right)}{\\cosh\\left(u\\right)^{3}} - \\frac{a^{2} \\sin\\left(v\\right)^{2} \\sinh\\left(u\\right)}{\\cosh\\left(u\\right)^{3}} \\right|}^{2}} \\cosh\\left(u\\right)} + \\frac{2 \\, {\\left(\\frac{a^{2} \\cos\\left(v\\right)^{2} \\sinh\\left(u\\right)}{\\cosh\\left(u\\right)^{3}} + \\frac{a^{2} \\sin\\left(v\\right)^{2} \\sinh\\left(u\\right)}{\\cosh\\left(u\\right)^{3}}\\right)} {\\left(\\tanh\\left(u\\right)^{2} - 1\\right)} a \\tanh\\left(u\\right)}{\\sqrt{{\\left| \\frac{a^{2} \\cos\\left(v\\right) \\tanh\\left(u\\right)^{2}}{\\cosh\\left(u\\right)} \\right|}^{2} + {\\left| \\frac{a^{2} \\sin\\left(v\\right) \\tanh\\left(u\\right)^{2}}{\\cosh\\left(u\\right)} \\right|}^{2} + {\\left| -\\frac{a^{2} \\cos\\left(v\\right)^{2} \\sinh\\left(u\\right)}{\\cosh\\left(u\\right)^{3}} - \\frac{a^{2} \\sin\\left(v\\right)^{2} \\sinh\\left(u\\right)}{\\cosh\\left(u\\right)^{3}} \\right|}^{2}}}\\)</html>"
      ],
      "text/latex": [
       "$\\displaystyle \\frac{a^{2} {\\left(\\frac{a \\cos\\left(v\\right)}{\\cosh\\left(u\\right)} - \\frac{2 \\, a \\cos\\left(v\\right) \\sinh\\left(u\\right)^{2}}{\\cosh\\left(u\\right)^{3}}\\right)} \\cos\\left(v\\right) \\tanh\\left(u\\right)^{2}}{\\sqrt{{\\left| \\frac{a^{2} \\cos\\left(v\\right) \\tanh\\left(u\\right)^{2}}{\\cosh\\left(u\\right)} \\right|}^{2} + {\\left| \\frac{a^{2} \\sin\\left(v\\right) \\tanh\\left(u\\right)^{2}}{\\cosh\\left(u\\right)} \\right|}^{2} + {\\left| -\\frac{a^{2} \\cos\\left(v\\right)^{2} \\sinh\\left(u\\right)}{\\cosh\\left(u\\right)^{3}} - \\frac{a^{2} \\sin\\left(v\\right)^{2} \\sinh\\left(u\\right)}{\\cosh\\left(u\\right)^{3}} \\right|}^{2}} \\cosh\\left(u\\right)} + \\frac{a^{2} {\\left(\\frac{a \\sin\\left(v\\right)}{\\cosh\\left(u\\right)} - \\frac{2 \\, a \\sin\\left(v\\right) \\sinh\\left(u\\right)^{2}}{\\cosh\\left(u\\right)^{3}}\\right)} \\sin\\left(v\\right) \\tanh\\left(u\\right)^{2}}{\\sqrt{{\\left| \\frac{a^{2} \\cos\\left(v\\right) \\tanh\\left(u\\right)^{2}}{\\cosh\\left(u\\right)} \\right|}^{2} + {\\left| \\frac{a^{2} \\sin\\left(v\\right) \\tanh\\left(u\\right)^{2}}{\\cosh\\left(u\\right)} \\right|}^{2} + {\\left| -\\frac{a^{2} \\cos\\left(v\\right)^{2} \\sinh\\left(u\\right)}{\\cosh\\left(u\\right)^{3}} - \\frac{a^{2} \\sin\\left(v\\right)^{2} \\sinh\\left(u\\right)}{\\cosh\\left(u\\right)^{3}} \\right|}^{2}} \\cosh\\left(u\\right)} + \\frac{2 \\, {\\left(\\frac{a^{2} \\cos\\left(v\\right)^{2} \\sinh\\left(u\\right)}{\\cosh\\left(u\\right)^{3}} + \\frac{a^{2} \\sin\\left(v\\right)^{2} \\sinh\\left(u\\right)}{\\cosh\\left(u\\right)^{3}}\\right)} {\\left(\\tanh\\left(u\\right)^{2} - 1\\right)} a \\tanh\\left(u\\right)}{\\sqrt{{\\left| \\frac{a^{2} \\cos\\left(v\\right) \\tanh\\left(u\\right)^{2}}{\\cosh\\left(u\\right)} \\right|}^{2} + {\\left| \\frac{a^{2} \\sin\\left(v\\right) \\tanh\\left(u\\right)^{2}}{\\cosh\\left(u\\right)} \\right|}^{2} + {\\left| -\\frac{a^{2} \\cos\\left(v\\right)^{2} \\sinh\\left(u\\right)}{\\cosh\\left(u\\right)^{3}} - \\frac{a^{2} \\sin\\left(v\\right)^{2} \\sinh\\left(u\\right)}{\\cosh\\left(u\\right)^{3}} \\right|}^{2}}}$"
      ],
      "text/plain": [
       "a^2*(a*cos(v)/cosh(u) - 2*a*cos(v)*sinh(u)^2/cosh(u)^3)*cos(v)*tanh(u)^2/(sqrt(abs(a^2*cos(v)*tanh(u)^2/cosh(u))^2 + abs(a^2*sin(v)*tanh(u)^2/cosh(u))^2 + abs(-a^2*cos(v)^2*sinh(u)/cosh(u)^3 - a^2*sin(v)^2*sinh(u)/cosh(u)^3)^2)*cosh(u)) + a^2*(a*sin(v)/cosh(u) - 2*a*sin(v)*sinh(u)^2/cosh(u)^3)*sin(v)*tanh(u)^2/(sqrt(abs(a^2*cos(v)*tanh(u)^2/cosh(u))^2 + abs(a^2*sin(v)*tanh(u)^2/cosh(u))^2 + abs(-a^2*cos(v)^2*sinh(u)/cosh(u)^3 - a^2*sin(v)^2*sinh(u)/cosh(u)^3)^2)*cosh(u)) + 2*(a^2*cos(v)^2*sinh(u)/cosh(u)^3 + a^2*sin(v)^2*sinh(u)/cosh(u)^3)*(tanh(u)^2 - 1)*a*tanh(u)/sqrt(abs(a^2*cos(v)*tanh(u)^2/cosh(u))^2 + abs(a^2*sin(v)*tanh(u)^2/cosh(u))^2 + abs(-a^2*cos(v)^2*sinh(u)/cosh(u)^3 - a^2*sin(v)^2*sinh(u)/cosh(u)^3)^2)"
      ]
     },
     "execution_count": 23,
     "metadata": {},
     "output_type": "execute_result"
    }
   ],
   "source": [
    "L"
   ]
  },
  {
   "cell_type": "code",
   "execution_count": 24,
   "id": "59e9e6a0-9452-4b0b-84d4-cab570f01bf2",
   "metadata": {},
   "outputs": [
    {
     "data": {
      "text/html": [
       "<html>\\(\\displaystyle 0\\)</html>"
      ],
      "text/latex": [
       "$\\displaystyle 0$"
      ],
      "text/plain": [
       "0"
      ]
     },
     "execution_count": 24,
     "metadata": {},
     "output_type": "execute_result"
    }
   ],
   "source": [
    "M "
   ]
  },
  {
   "cell_type": "code",
   "execution_count": 25,
   "id": "ad765829-90dc-4c7f-a0d4-c7b94134be1c",
   "metadata": {},
   "outputs": [
    {
     "data": {
      "text/html": [
       "<html>\\(\\displaystyle \\frac{a^{3} \\cos\\left(v\\right)^{2} \\tanh\\left(u\\right)^{2}}{\\sqrt{{\\left| \\frac{a^{2} \\cos\\left(v\\right) \\tanh\\left(u\\right)^{2}}{\\cosh\\left(u\\right)} \\right|}^{2} + {\\left| \\frac{a^{2} \\sin\\left(v\\right) \\tanh\\left(u\\right)^{2}}{\\cosh\\left(u\\right)} \\right|}^{2} + {\\left| -\\frac{a^{2} \\cos\\left(v\\right)^{2} \\sinh\\left(u\\right)}{\\cosh\\left(u\\right)^{3}} - \\frac{a^{2} \\sin\\left(v\\right)^{2} \\sinh\\left(u\\right)}{\\cosh\\left(u\\right)^{3}} \\right|}^{2}} \\cosh\\left(u\\right)^{2}} + \\frac{a^{3} \\sin\\left(v\\right)^{2} \\tanh\\left(u\\right)^{2}}{\\sqrt{{\\left| \\frac{a^{2} \\cos\\left(v\\right) \\tanh\\left(u\\right)^{2}}{\\cosh\\left(u\\right)} \\right|}^{2} + {\\left| \\frac{a^{2} \\sin\\left(v\\right) \\tanh\\left(u\\right)^{2}}{\\cosh\\left(u\\right)} \\right|}^{2} + {\\left| -\\frac{a^{2} \\cos\\left(v\\right)^{2} \\sinh\\left(u\\right)}{\\cosh\\left(u\\right)^{3}} - \\frac{a^{2} \\sin\\left(v\\right)^{2} \\sinh\\left(u\\right)}{\\cosh\\left(u\\right)^{3}} \\right|}^{2}} \\cosh\\left(u\\right)^{2}}\\)</html>"
      ],
      "text/latex": [
       "$\\displaystyle \\frac{a^{3} \\cos\\left(v\\right)^{2} \\tanh\\left(u\\right)^{2}}{\\sqrt{{\\left| \\frac{a^{2} \\cos\\left(v\\right) \\tanh\\left(u\\right)^{2}}{\\cosh\\left(u\\right)} \\right|}^{2} + {\\left| \\frac{a^{2} \\sin\\left(v\\right) \\tanh\\left(u\\right)^{2}}{\\cosh\\left(u\\right)} \\right|}^{2} + {\\left| -\\frac{a^{2} \\cos\\left(v\\right)^{2} \\sinh\\left(u\\right)}{\\cosh\\left(u\\right)^{3}} - \\frac{a^{2} \\sin\\left(v\\right)^{2} \\sinh\\left(u\\right)}{\\cosh\\left(u\\right)^{3}} \\right|}^{2}} \\cosh\\left(u\\right)^{2}} + \\frac{a^{3} \\sin\\left(v\\right)^{2} \\tanh\\left(u\\right)^{2}}{\\sqrt{{\\left| \\frac{a^{2} \\cos\\left(v\\right) \\tanh\\left(u\\right)^{2}}{\\cosh\\left(u\\right)} \\right|}^{2} + {\\left| \\frac{a^{2} \\sin\\left(v\\right) \\tanh\\left(u\\right)^{2}}{\\cosh\\left(u\\right)} \\right|}^{2} + {\\left| -\\frac{a^{2} \\cos\\left(v\\right)^{2} \\sinh\\left(u\\right)}{\\cosh\\left(u\\right)^{3}} - \\frac{a^{2} \\sin\\left(v\\right)^{2} \\sinh\\left(u\\right)}{\\cosh\\left(u\\right)^{3}} \\right|}^{2}} \\cosh\\left(u\\right)^{2}}$"
      ],
      "text/plain": [
       "a^3*cos(v)^2*tanh(u)^2/(sqrt(abs(a^2*cos(v)*tanh(u)^2/cosh(u))^2 + abs(a^2*sin(v)*tanh(u)^2/cosh(u))^2 + abs(-a^2*cos(v)^2*sinh(u)/cosh(u)^3 - a^2*sin(v)^2*sinh(u)/cosh(u)^3)^2)*cosh(u)^2) + a^3*sin(v)^2*tanh(u)^2/(sqrt(abs(a^2*cos(v)*tanh(u)^2/cosh(u))^2 + abs(a^2*sin(v)*tanh(u)^2/cosh(u))^2 + abs(-a^2*cos(v)^2*sinh(u)/cosh(u)^3 - a^2*sin(v)^2*sinh(u)/cosh(u)^3)^2)*cosh(u)^2)"
      ]
     },
     "execution_count": 25,
     "metadata": {},
     "output_type": "execute_result"
    }
   ],
   "source": [
    "N"
   ]
  },
  {
   "cell_type": "code",
   "execution_count": null,
   "id": "a5310088-0d8e-491b-80b3-23ca66f86ebb",
   "metadata": {},
   "outputs": [],
   "source": []
  }
 ],
 "metadata": {
  "kernelspec": {
   "display_name": "SageMath 10.4",
   "language": "sage",
   "name": "sagemath-10.4"
  },
  "language_info": {
   "codemirror_mode": {
    "name": "ipython",
    "version": 3
   },
   "file_extension": ".py",
   "mimetype": "text/x-python",
   "name": "python",
   "nbconvert_exporter": "python",
   "pygments_lexer": "ipython3",
   "version": "3.12.4"
  }
 },
 "nbformat": 4,
 "nbformat_minor": 5
}
