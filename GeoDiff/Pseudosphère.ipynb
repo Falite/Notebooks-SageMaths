{
 "cells": [
  {
   "cell_type": "markdown",
   "id": "29af1217-aaa4-4292-abb8-05006437a606",
   "metadata": {},
   "source": [
    "# Projet De Géométrie Différentielle : PseudoSphères\n",
    "https://mathcurve.com/surfaces/pseudosphere/pseudosphere.shtml"
   ]
  },
  {
   "cell_type": "markdown",
   "id": "a0ff20e8-047f-4765-a6e1-5d59eba70bee",
   "metadata": {},
   "source": [
    "Une paramétrisation de la tracticoide, alias pseudosphère est l'application suivante :\n",
    "\n",
    "On fixe $R \\in \\mathbb R$ le pseudo rayon\n",
    "\n",
    "et on pose $\\mathfrak T:\\mathbb R^2 \\longrightarrow \\mathbb R^3$\n",
    "$(u,v)\\longrightarrow \\begin{pmatrix} R•\\frac{\\cos(v)}{\\cosh(v)} \\\\ R• \\frac{\\sin(v)}{\\cosh(u)} \\\\ R•(u-\\tanh(u))\\end{pmatrix}$"
   ]
  },
  {
   "cell_type": "code",
   "execution_count": 2,
   "id": "b615ea64-7418-4dd7-b8fe-b373a3f98b89",
   "metadata": {},
   "outputs": [],
   "source": [
    "%display latex"
   ]
  },
  {
   "cell_type": "code",
   "execution_count": 3,
   "id": "483bed43-3706-42b1-aa55-d4ebc817e21f",
   "metadata": {},
   "outputs": [
    {
     "data": {
      "text/html": [
       "<html>\\(\\displaystyle \\left(\\frac{R \\cos\\left(v\\right)}{\\cosh\\left(u\\right)},\\,\\frac{R \\sin\\left(v\\right)}{\\cosh\\left(u\\right)},\\,R {\\left(u - \\tanh\\left(u\\right)\\right)}\\right)\\)</html>"
      ],
      "text/latex": [
       "$\\displaystyle \\left(\\frac{R \\cos\\left(v\\right)}{\\cosh\\left(u\\right)},\\,\\frac{R \\sin\\left(v\\right)}{\\cosh\\left(u\\right)},\\,R {\\left(u - \\tanh\\left(u\\right)\\right)}\\right)$"
      ],
      "text/plain": [
       "(R*cos(v)/cosh(u), R*sin(v)/cosh(u), R*(u - tanh(u)))"
      ]
     },
     "execution_count": 3,
     "metadata": {},
     "output_type": "execute_result"
    }
   ],
   "source": [
    "var('R')\n",
    "assume(R!=0)\n",
    "\n",
    "var('u','v')\n",
    "f = vector([R*(cos(v)/cosh(u)), \n",
    "            R*(sin(v)/cosh(u)), \n",
    "            R*(u-tanh(u))])\n",
    "f"
   ]
  },
  {
   "cell_type": "markdown",
   "id": "a6713eab-782b-47c9-9308-6bf0e702701d",
   "metadata": {},
   "source": [
    "$~$\n",
    "\n",
    "$~$\n",
    "\n",
    "$~$\n",
    "\n",
    "$~$\n",
    "\n",
    "$~$"
   ]
  },
  {
   "cell_type": "markdown",
   "id": "ce7fcf62-3bfb-4014-9c10-aba9dd767f11",
   "metadata": {},
   "source": [
    "### Calcul des dérivées partielles\n",
    "\n",
    "On va calculer $\\mathfrak T'_u = \\frac{\\partial \\mathfrak T}{\\partial u}$ et $\\mathfrak T'_v = \\frac{\\partial \\mathfrak T}{\\partial v}$"
   ]
  },
  {
   "cell_type": "code",
   "execution_count": 4,
   "id": "c4da8e1a-a399-483a-89df-9e1528b9fcfa",
   "metadata": {},
   "outputs": [],
   "source": [
    "df_u = diff(f,u)\n",
    "df_v = diff(f,v)"
   ]
  },
  {
   "cell_type": "code",
   "execution_count": 5,
   "id": "0eb5fa34-ed7a-4505-8795-1398a861e57e",
   "metadata": {},
   "outputs": [
    {
     "data": {
      "text/html": [
       "<html>\\(\\displaystyle \\left(-\\frac{R \\cos\\left(v\\right) \\sinh\\left(u\\right)}{\\cosh\\left(u\\right)^{2}},\\,-\\frac{R \\sin\\left(v\\right) \\sinh\\left(u\\right)}{\\cosh\\left(u\\right)^{2}},\\,R \\tanh\\left(u\\right)^{2}\\right)\\)</html>"
      ],
      "text/latex": [
       "$\\displaystyle \\left(-\\frac{R \\cos\\left(v\\right) \\sinh\\left(u\\right)}{\\cosh\\left(u\\right)^{2}},\\,-\\frac{R \\sin\\left(v\\right) \\sinh\\left(u\\right)}{\\cosh\\left(u\\right)^{2}},\\,R \\tanh\\left(u\\right)^{2}\\right)$"
      ],
      "text/plain": [
       "(-R*cos(v)*sinh(u)/cosh(u)^2, -R*sin(v)*sinh(u)/cosh(u)^2, R*tanh(u)^2)"
      ]
     },
     "execution_count": 5,
     "metadata": {},
     "output_type": "execute_result"
    }
   ],
   "source": [
    "df_u"
   ]
  },
  {
   "cell_type": "code",
   "execution_count": 6,
   "id": "b93a55f5-75bc-4a68-854a-74e5fc525e33",
   "metadata": {},
   "outputs": [
    {
     "data": {
      "text/html": [
       "<html>\\(\\displaystyle \\left(-\\frac{R \\sin\\left(v\\right)}{\\cosh\\left(u\\right)},\\,\\frac{R \\cos\\left(v\\right)}{\\cosh\\left(u\\right)},\\,0\\right)\\)</html>"
      ],
      "text/latex": [
       "$\\displaystyle \\left(-\\frac{R \\sin\\left(v\\right)}{\\cosh\\left(u\\right)},\\,\\frac{R \\cos\\left(v\\right)}{\\cosh\\left(u\\right)},\\,0\\right)$"
      ],
      "text/plain": [
       "(-R*sin(v)/cosh(u), R*cos(v)/cosh(u), 0)"
      ]
     },
     "execution_count": 6,
     "metadata": {},
     "output_type": "execute_result"
    }
   ],
   "source": [
    "df_v"
   ]
  },
  {
   "cell_type": "markdown",
   "id": "30fdd801-1df0-4cf7-b1a2-3a188cc8de88",
   "metadata": {},
   "source": [
    "### Calcul du vecteur normal\n",
    "\n",
    "On veut calculer $\\mathfrak T'_u \\wedge \\mathfrak T'_v$ qu'on appelle \n",
    "\n",
    "Puis $n= \\frac{\\mathfrak T'_u \\wedge \\mathfrak T'_v}{\\| \\mathfrak T'_u \\wedge \\mathfrak T'_v \\| } $"
   ]
  },
  {
   "cell_type": "code",
   "execution_count": 26,
   "id": "5291c481-79c0-4314-b3d8-2d4c624b30c2",
   "metadata": {},
   "outputs": [],
   "source": [
    "hat_dfu_dfv = df_u.cross_product(df_v)"
   ]
  },
  {
   "cell_type": "code",
   "execution_count": 27,
   "id": "3d91f8e7-70ab-4d62-8f4f-b459e37c5459",
   "metadata": {},
   "outputs": [
    {
     "data": {
      "text/html": [
       "<html>\\(\\displaystyle \\left(-\\frac{R^{2} \\cos\\left(v\\right) \\tanh\\left(u\\right)^{2}}{\\cosh\\left(u\\right)},\\,-\\frac{R^{2} \\sin\\left(v\\right) \\tanh\\left(u\\right)^{2}}{\\cosh\\left(u\\right)},\\,-\\frac{R^{2} \\cos\\left(v\\right)^{2} \\sinh\\left(u\\right)}{\\cosh\\left(u\\right)^{3}} - \\frac{R^{2} \\sin\\left(v\\right)^{2} \\sinh\\left(u\\right)}{\\cosh\\left(u\\right)^{3}}\\right)\\)</html>"
      ],
      "text/latex": [
       "$\\displaystyle \\left(-\\frac{R^{2} \\cos\\left(v\\right) \\tanh\\left(u\\right)^{2}}{\\cosh\\left(u\\right)},\\,-\\frac{R^{2} \\sin\\left(v\\right) \\tanh\\left(u\\right)^{2}}{\\cosh\\left(u\\right)},\\,-\\frac{R^{2} \\cos\\left(v\\right)^{2} \\sinh\\left(u\\right)}{\\cosh\\left(u\\right)^{3}} - \\frac{R^{2} \\sin\\left(v\\right)^{2} \\sinh\\left(u\\right)}{\\cosh\\left(u\\right)^{3}}\\right)$"
      ],
      "text/plain": [
       "(-R^2*cos(v)*tanh(u)^2/cosh(u), -R^2*sin(v)*tanh(u)^2/cosh(u), -R^2*cos(v)^2*sinh(u)/cosh(u)^3 - R^2*sin(v)^2*sinh(u)/cosh(u)^3)"
      ]
     },
     "execution_count": 27,
     "metadata": {},
     "output_type": "execute_result"
    }
   ],
   "source": [
    "hat_dfu_dfv"
   ]
  },
  {
   "cell_type": "markdown",
   "id": "728ebecf-47f1-4507-a4b7-842e4789cf17",
   "metadata": {},
   "source": [
    "On le réécrit en simplifiant"
   ]
  },
  {
   "cell_type": "code",
   "execution_count": 28,
   "id": "099a1e9b-fe86-4b14-a777-93be44aea6b3",
   "metadata": {},
   "outputs": [
    {
     "data": {
      "text/html": [
       "<html>\\(\\displaystyle \\left(-\\frac{R^{2} \\cos\\left(v\\right) \\tanh\\left(u\\right)}{\\cosh\\left(u\\right)},\\,-\\frac{R^{2} \\sin\\left(v\\right) \\tanh\\left(u\\right)^{2}}{\\cosh\\left(u\\right)},\\,-\\frac{R^{2} \\sinh\\left(u\\right)}{\\cosh\\left(u\\right)^{3}}\\right)\\)</html>"
      ],
      "text/latex": [
       "$\\displaystyle \\left(-\\frac{R^{2} \\cos\\left(v\\right) \\tanh\\left(u\\right)}{\\cosh\\left(u\\right)},\\,-\\frac{R^{2} \\sin\\left(v\\right) \\tanh\\left(u\\right)^{2}}{\\cosh\\left(u\\right)},\\,-\\frac{R^{2} \\sinh\\left(u\\right)}{\\cosh\\left(u\\right)^{3}}\\right)$"
      ],
      "text/plain": [
       "(-R^2*cos(v)*tanh(u)/cosh(u), -R^2*sin(v)*tanh(u)^2/cosh(u), -R^2*sinh(u)/cosh(u)^3)"
      ]
     },
     "execution_count": 28,
     "metadata": {},
     "output_type": "execute_result"
    }
   ],
   "source": [
    "hat_dfu_dfv = vector([ (-R^2*cos(v)*tanh(u))/ cosh(u),\n",
    "                      (-R^2* sin(v)*tanh(u)^2)/cosh(u),\n",
    "                      (-R^2* sinh(u))/cosh(u)^3])\n",
    "hat_dfu_dfv"
   ]
  },
  {
   "cell_type": "code",
   "execution_count": 29,
   "id": "9c736508-4474-469b-913c-edb04f8d3a64",
   "metadata": {},
   "outputs": [],
   "source": [
    "norm = hat_dfu_dfv.norm()"
   ]
  },
  {
   "cell_type": "code",
   "execution_count": 30,
   "id": "118f9d40-0131-4a51-bf51-ca233830eb28",
   "metadata": {},
   "outputs": [
    {
     "data": {
      "text/html": [
       "<html>\\(\\displaystyle \\sqrt{{\\left| \\frac{R^{2} \\sin\\left(v\\right) \\tanh\\left(u\\right)^{2}}{\\cosh\\left(u\\right)} \\right|}^{2} + {\\left| \\frac{R^{2} \\cos\\left(v\\right) \\tanh\\left(u\\right)}{\\cosh\\left(u\\right)} \\right|}^{2} + {\\left| \\frac{R^{2} \\sinh\\left(u\\right)}{\\cosh\\left(u\\right)^{3}} \\right|}^{2}}\\)</html>"
      ],
      "text/latex": [
       "$\\displaystyle \\sqrt{{\\left| \\frac{R^{2} \\sin\\left(v\\right) \\tanh\\left(u\\right)^{2}}{\\cosh\\left(u\\right)} \\right|}^{2} + {\\left| \\frac{R^{2} \\cos\\left(v\\right) \\tanh\\left(u\\right)}{\\cosh\\left(u\\right)} \\right|}^{2} + {\\left| \\frac{R^{2} \\sinh\\left(u\\right)}{\\cosh\\left(u\\right)^{3}} \\right|}^{2}}$"
      ],
      "text/plain": [
       "sqrt(abs(R^2*sin(v)*tanh(u)^2/cosh(u))^2 + abs(R^2*cos(v)*tanh(u)/cosh(u))^2 + abs(R^2*sinh(u)/cosh(u)^3)^2)"
      ]
     },
     "execution_count": 30,
     "metadata": {},
     "output_type": "execute_result"
    }
   ],
   "source": [
    "norm "
   ]
  },
  {
   "cell_type": "code",
   "execution_count": 55,
   "id": "a374dda3-f95e-4bd2-99d4-ddbb6b6b4177",
   "metadata": {},
   "outputs": [
    {
     "data": {
      "text/html": [
       "<html>\\(\\displaystyle \\left(-\\cos\\left(v\\right) \\sinh\\left(u\\right),\\,-\\sin\\left(v\\right) \\sinh\\left(u\\right),\\,-1\\right)\\)</html>"
      ],
      "text/latex": [
       "$\\displaystyle \\left(-\\cos\\left(v\\right) \\sinh\\left(u\\right),\\,-\\sin\\left(v\\right) \\sinh\\left(u\\right),\\,-1\\right)$"
      ],
      "text/plain": [
       "(-cos(v)*sinh(u), -sin(v)*sinh(u), -1)"
      ]
     },
     "execution_count": 55,
     "metadata": {},
     "output_type": "execute_result"
    }
   ],
   "source": [
    "normal = vector([\n",
    "    -cos(v)*sinh(u),\n",
    "    -sin(v)*sinh(u),\n",
    "    -1])\n",
    "\n",
    "normal"
   ]
  },
  {
   "cell_type": "markdown",
   "id": "32390a37-2d95-4111-9da4-bbd163f6566e",
   "metadata": {},
   "source": [
    "## Calcul des formes fondamentales"
   ]
  },
  {
   "cell_type": "code",
   "execution_count": 35,
   "id": "e9c6041c-8550-449c-bb19-0981d8d7627f",
   "metadata": {},
   "outputs": [],
   "source": [
    "E = df_u.norm()^2 \n",
    "G = df_v.norm()^2 \n",
    "F = df_u.dot_product(df_v)"
   ]
  },
  {
   "cell_type": "code",
   "execution_count": 36,
   "id": "99479c9d-123c-46af-a4a3-ce271010bd00",
   "metadata": {},
   "outputs": [
    {
     "data": {
      "text/html": [
       "<html>\\(\\displaystyle {\\left| R \\tanh\\left(u\\right)^{2} \\right|}^{2} + {\\left| \\frac{R \\cos\\left(v\\right) \\sinh\\left(u\\right)}{\\cosh\\left(u\\right)^{2}} \\right|}^{2} + {\\left| \\frac{R \\sin\\left(v\\right) \\sinh\\left(u\\right)}{\\cosh\\left(u\\right)^{2}} \\right|}^{2}\\)</html>"
      ],
      "text/latex": [
       "$\\displaystyle {\\left| R \\tanh\\left(u\\right)^{2} \\right|}^{2} + {\\left| \\frac{R \\cos\\left(v\\right) \\sinh\\left(u\\right)}{\\cosh\\left(u\\right)^{2}} \\right|}^{2} + {\\left| \\frac{R \\sin\\left(v\\right) \\sinh\\left(u\\right)}{\\cosh\\left(u\\right)^{2}} \\right|}^{2}$"
      ],
      "text/plain": [
       "abs(R*tanh(u)^2)^2 + abs(R*cos(v)*sinh(u)/cosh(u)^2)^2 + abs(R*sin(v)*sinh(u)/cosh(u)^2)^2"
      ]
     },
     "execution_count": 36,
     "metadata": {},
     "output_type": "execute_result"
    }
   ],
   "source": [
    "E"
   ]
  },
  {
   "cell_type": "code",
   "execution_count": 37,
   "id": "fbf5e5bb-2e43-4e45-b849-8f0bd5be6e93",
   "metadata": {},
   "outputs": [
    {
     "data": {
      "text/html": [
       "<html>\\(\\displaystyle 0\\)</html>"
      ],
      "text/latex": [
       "$\\displaystyle 0$"
      ],
      "text/plain": [
       "0"
      ]
     },
     "execution_count": 37,
     "metadata": {},
     "output_type": "execute_result"
    }
   ],
   "source": [
    "F"
   ]
  },
  {
   "cell_type": "code",
   "execution_count": 38,
   "id": "e956005b-7429-4701-804c-a736f1086ba0",
   "metadata": {},
   "outputs": [
    {
     "data": {
      "text/html": [
       "<html>\\(\\displaystyle {\\left| \\frac{R \\cos\\left(v\\right)}{\\cosh\\left(u\\right)} \\right|}^{2} + {\\left| \\frac{R \\sin\\left(v\\right)}{\\cosh\\left(u\\right)} \\right|}^{2}\\)</html>"
      ],
      "text/latex": [
       "$\\displaystyle {\\left| \\frac{R \\cos\\left(v\\right)}{\\cosh\\left(u\\right)} \\right|}^{2} + {\\left| \\frac{R \\sin\\left(v\\right)}{\\cosh\\left(u\\right)} \\right|}^{2}$"
      ],
      "text/plain": [
       "abs(R*cos(v)/cosh(u))^2 + abs(R*sin(v)/cosh(u))^2"
      ]
     },
     "execution_count": 38,
     "metadata": {},
     "output_type": "execute_result"
    }
   ],
   "source": [
    "G"
   ]
  },
  {
   "cell_type": "markdown",
   "id": "33cb3994-3807-45b3-b382-9131f2b18194",
   "metadata": {},
   "source": [
    "## Calcul des secondes formes fondamentales\n",
    "### Calcul des différentielles secondes"
   ]
  },
  {
   "cell_type": "code",
   "execution_count": 39,
   "id": "2d1a3ab3-b03c-49e9-84a0-7a08b238d362",
   "metadata": {},
   "outputs": [],
   "source": [
    "d2f_u = diff(df_u, u)\n",
    "d2f_v = diff(df_v , v)\n",
    "d2f_uv = diff(df_u, v)"
   ]
  },
  {
   "cell_type": "code",
   "execution_count": 50,
   "id": "a71e01e5-439f-4354-a359-bd359a93f7f3",
   "metadata": {},
   "outputs": [
    {
     "data": {
      "text/html": [
       "<html>\\(\\displaystyle \\left(-\\frac{R \\cos\\left(v\\right)}{\\cosh\\left(u\\right)} + \\frac{2 \\, R \\cos\\left(v\\right) \\sinh\\left(u\\right)^{2}}{\\cosh\\left(u\\right)^{3}},\\,-\\frac{R \\sin\\left(v\\right)}{\\cosh\\left(u\\right)} + \\frac{2 \\, R \\sin\\left(v\\right) \\sinh\\left(u\\right)^{2}}{\\cosh\\left(u\\right)^{3}},\\,-2 \\, {\\left(\\tanh\\left(u\\right)^{2} - 1\\right)} R \\tanh\\left(u\\right)\\right)\\)</html>"
      ],
      "text/latex": [
       "$\\displaystyle \\left(-\\frac{R \\cos\\left(v\\right)}{\\cosh\\left(u\\right)} + \\frac{2 \\, R \\cos\\left(v\\right) \\sinh\\left(u\\right)^{2}}{\\cosh\\left(u\\right)^{3}},\\,-\\frac{R \\sin\\left(v\\right)}{\\cosh\\left(u\\right)} + \\frac{2 \\, R \\sin\\left(v\\right) \\sinh\\left(u\\right)^{2}}{\\cosh\\left(u\\right)^{3}},\\,-2 \\, {\\left(\\tanh\\left(u\\right)^{2} - 1\\right)} R \\tanh\\left(u\\right)\\right)$"
      ],
      "text/plain": [
       "(-R*cos(v)/cosh(u) + 2*R*cos(v)*sinh(u)^2/cosh(u)^3, -R*sin(v)/cosh(u) + 2*R*sin(v)*sinh(u)^2/cosh(u)^3, -2*(tanh(u)^2 - 1)*R*tanh(u))"
      ]
     },
     "execution_count": 50,
     "metadata": {},
     "output_type": "execute_result"
    }
   ],
   "source": [
    "d2f_u"
   ]
  },
  {
   "cell_type": "code",
   "execution_count": 41,
   "id": "ad3b36ef-cbbb-4ec0-9fc4-e3d0a1ece3d3",
   "metadata": {},
   "outputs": [
    {
     "data": {
      "text/html": [
       "<html>\\(\\displaystyle \\left(-\\frac{R \\cos\\left(v\\right)}{\\cosh\\left(u\\right)},\\,-\\frac{R \\sin\\left(v\\right)}{\\cosh\\left(u\\right)},\\,0\\right)\\)</html>"
      ],
      "text/latex": [
       "$\\displaystyle \\left(-\\frac{R \\cos\\left(v\\right)}{\\cosh\\left(u\\right)},\\,-\\frac{R \\sin\\left(v\\right)}{\\cosh\\left(u\\right)},\\,0\\right)$"
      ],
      "text/plain": [
       "(-R*cos(v)/cosh(u), -R*sin(v)/cosh(u), 0)"
      ]
     },
     "execution_count": 41,
     "metadata": {},
     "output_type": "execute_result"
    }
   ],
   "source": [
    "d2f_v"
   ]
  },
  {
   "cell_type": "code",
   "execution_count": 42,
   "id": "b148e164-6c75-4ba7-b17b-2340ec30fabf",
   "metadata": {},
   "outputs": [
    {
     "data": {
      "text/html": [
       "<html>\\(\\displaystyle \\left(\\frac{R \\sin\\left(v\\right) \\sinh\\left(u\\right)}{\\cosh\\left(u\\right)^{2}},\\,-\\frac{R \\cos\\left(v\\right) \\sinh\\left(u\\right)}{\\cosh\\left(u\\right)^{2}},\\,0\\right)\\)</html>"
      ],
      "text/latex": [
       "$\\displaystyle \\left(\\frac{R \\sin\\left(v\\right) \\sinh\\left(u\\right)}{\\cosh\\left(u\\right)^{2}},\\,-\\frac{R \\cos\\left(v\\right) \\sinh\\left(u\\right)}{\\cosh\\left(u\\right)^{2}},\\,0\\right)$"
      ],
      "text/plain": [
       "(R*sin(v)*sinh(u)/cosh(u)^2, -R*cos(v)*sinh(u)/cosh(u)^2, 0)"
      ]
     },
     "execution_count": 42,
     "metadata": {},
     "output_type": "execute_result"
    }
   ],
   "source": [
    "d2f_uv"
   ]
  },
  {
   "cell_type": "markdown",
   "id": "2e94d731-2492-48be-a1a0-964b3d7bafd2",
   "metadata": {},
   "source": [
    "#### Simplification"
   ]
  },
  {
   "cell_type": "code",
   "execution_count": 56,
   "id": "0889bb68-5de0-4092-bacb-28a194d00b23",
   "metadata": {},
   "outputs": [],
   "source": [
    "d2f_u = R*(2*tanh(u)/cosh(u))* vector([\n",
    "    - cos(v),\n",
    "    - sin(v),\n",
    "    2*sinh(u)])\n",
    "\n",
    "d2f_v = R*(1/cosh(u))*vector([\n",
    "    - cos(v),\n",
    "    - sin(v),\n",
    "    0])\n",
    "\n",
    "d2f_uv= R*(2*tanh(u)/cosh(u))*vector([\n",
    "    sin(v),\n",
    "    -cos(v),\n",
    "    0])"
   ]
  },
  {
   "cell_type": "code",
   "execution_count": 58,
   "id": "d73b64a5-6da2-4170-af67-ab17134cdfbe",
   "metadata": {},
   "outputs": [
    {
     "data": {
      "text/html": [
       "<html>\\(\\displaystyle \\left(-\\frac{2 \\, R \\cos\\left(v\\right) \\tanh\\left(u\\right)}{\\cosh\\left(u\\right)},\\,-\\frac{2 \\, R \\sin\\left(v\\right) \\tanh\\left(u\\right)}{\\cosh\\left(u\\right)},\\,\\frac{4 \\, R \\sinh\\left(u\\right) \\tanh\\left(u\\right)}{\\cosh\\left(u\\right)}\\right)\\)</html>"
      ],
      "text/latex": [
       "$\\displaystyle \\left(-\\frac{2 \\, R \\cos\\left(v\\right) \\tanh\\left(u\\right)}{\\cosh\\left(u\\right)},\\,-\\frac{2 \\, R \\sin\\left(v\\right) \\tanh\\left(u\\right)}{\\cosh\\left(u\\right)},\\,\\frac{4 \\, R \\sinh\\left(u\\right) \\tanh\\left(u\\right)}{\\cosh\\left(u\\right)}\\right)$"
      ],
      "text/plain": [
       "(-2*R*cos(v)*tanh(u)/cosh(u), -2*R*sin(v)*tanh(u)/cosh(u), 4*R*sinh(u)*tanh(u)/cosh(u))"
      ]
     },
     "execution_count": 58,
     "metadata": {},
     "output_type": "execute_result"
    }
   ],
   "source": [
    "d2f_u"
   ]
  },
  {
   "cell_type": "code",
   "execution_count": 59,
   "id": "d00c1603-93b0-42a2-bd78-31dfd7c77278",
   "metadata": {},
   "outputs": [
    {
     "data": {
      "text/html": [
       "<html>\\(\\displaystyle \\left(-\\frac{R \\cos\\left(v\\right)}{\\cosh\\left(u\\right)},\\,-\\frac{R \\sin\\left(v\\right)}{\\cosh\\left(u\\right)},\\,0\\right)\\)</html>"
      ],
      "text/latex": [
       "$\\displaystyle \\left(-\\frac{R \\cos\\left(v\\right)}{\\cosh\\left(u\\right)},\\,-\\frac{R \\sin\\left(v\\right)}{\\cosh\\left(u\\right)},\\,0\\right)$"
      ],
      "text/plain": [
       "(-R*cos(v)/cosh(u), -R*sin(v)/cosh(u), 0)"
      ]
     },
     "execution_count": 59,
     "metadata": {},
     "output_type": "execute_result"
    }
   ],
   "source": [
    "d2f_v"
   ]
  },
  {
   "cell_type": "code",
   "execution_count": 60,
   "id": "9de8b99f-4b77-43c4-874a-21e8a9ca3993",
   "metadata": {},
   "outputs": [
    {
     "data": {
      "text/html": [
       "<html>\\(\\displaystyle \\left(\\frac{2 \\, R \\sin\\left(v\\right) \\tanh\\left(u\\right)}{\\cosh\\left(u\\right)},\\,-\\frac{2 \\, R \\cos\\left(v\\right) \\tanh\\left(u\\right)}{\\cosh\\left(u\\right)},\\,0\\right)\\)</html>"
      ],
      "text/latex": [
       "$\\displaystyle \\left(\\frac{2 \\, R \\sin\\left(v\\right) \\tanh\\left(u\\right)}{\\cosh\\left(u\\right)},\\,-\\frac{2 \\, R \\cos\\left(v\\right) \\tanh\\left(u\\right)}{\\cosh\\left(u\\right)},\\,0\\right)$"
      ],
      "text/plain": [
       "(2*R*sin(v)*tanh(u)/cosh(u), -2*R*cos(v)*tanh(u)/cosh(u), 0)"
      ]
     },
     "execution_count": 60,
     "metadata": {},
     "output_type": "execute_result"
    }
   ],
   "source": [
    "d2f_uv"
   ]
  },
  {
   "cell_type": "markdown",
   "id": "3f5e776a-c336-44cc-a6d0-e5dbf056ee20",
   "metadata": {},
   "source": [
    "### Déduction des formes fondamentales"
   ]
  },
  {
   "cell_type": "code",
   "execution_count": 61,
   "id": "371cfdac-ec9d-4f4d-8817-9076ce5a1692",
   "metadata": {},
   "outputs": [],
   "source": [
    "L = normal.dot_product(d2f_u)\n",
    "M = normal.dot_product(d2f_uv)\n",
    "N = normal.dot_product(d2f_v)"
   ]
  },
  {
   "cell_type": "code",
   "execution_count": 62,
   "id": "da06ce5d-eba5-4ba3-a500-593808886bc3",
   "metadata": {},
   "outputs": [
    {
     "data": {
      "text/html": [
       "<html>\\(\\displaystyle \\frac{2 \\, R \\cos\\left(v\\right)^{2} \\sinh\\left(u\\right) \\tanh\\left(u\\right)}{\\cosh\\left(u\\right)} + \\frac{2 \\, R \\sin\\left(v\\right)^{2} \\sinh\\left(u\\right) \\tanh\\left(u\\right)}{\\cosh\\left(u\\right)} - \\frac{4 \\, R \\sinh\\left(u\\right) \\tanh\\left(u\\right)}{\\cosh\\left(u\\right)}\\)</html>"
      ],
      "text/latex": [
       "$\\displaystyle \\frac{2 \\, R \\cos\\left(v\\right)^{2} \\sinh\\left(u\\right) \\tanh\\left(u\\right)}{\\cosh\\left(u\\right)} + \\frac{2 \\, R \\sin\\left(v\\right)^{2} \\sinh\\left(u\\right) \\tanh\\left(u\\right)}{\\cosh\\left(u\\right)} - \\frac{4 \\, R \\sinh\\left(u\\right) \\tanh\\left(u\\right)}{\\cosh\\left(u\\right)}$"
      ],
      "text/plain": [
       "2*R*cos(v)^2*sinh(u)*tanh(u)/cosh(u) + 2*R*sin(v)^2*sinh(u)*tanh(u)/cosh(u) - 4*R*sinh(u)*tanh(u)/cosh(u)"
      ]
     },
     "execution_count": 62,
     "metadata": {},
     "output_type": "execute_result"
    }
   ],
   "source": [
    "L"
   ]
  },
  {
   "cell_type": "code",
   "execution_count": 63,
   "id": "59e9e6a0-9452-4b0b-84d4-cab570f01bf2",
   "metadata": {},
   "outputs": [
    {
     "data": {
      "text/html": [
       "<html>\\(\\displaystyle 0\\)</html>"
      ],
      "text/latex": [
       "$\\displaystyle 0$"
      ],
      "text/plain": [
       "0"
      ]
     },
     "execution_count": 63,
     "metadata": {},
     "output_type": "execute_result"
    }
   ],
   "source": [
    "M "
   ]
  },
  {
   "cell_type": "code",
   "execution_count": 64,
   "id": "ad765829-90dc-4c7f-a0d4-c7b94134be1c",
   "metadata": {},
   "outputs": [
    {
     "data": {
      "text/html": [
       "<html>\\(\\displaystyle \\frac{R \\cos\\left(v\\right)^{2} \\sinh\\left(u\\right)}{\\cosh\\left(u\\right)} + \\frac{R \\sin\\left(v\\right)^{2} \\sinh\\left(u\\right)}{\\cosh\\left(u\\right)}\\)</html>"
      ],
      "text/latex": [
       "$\\displaystyle \\frac{R \\cos\\left(v\\right)^{2} \\sinh\\left(u\\right)}{\\cosh\\left(u\\right)} + \\frac{R \\sin\\left(v\\right)^{2} \\sinh\\left(u\\right)}{\\cosh\\left(u\\right)}$"
      ],
      "text/plain": [
       "R*cos(v)^2*sinh(u)/cosh(u) + R*sin(v)^2*sinh(u)/cosh(u)"
      ]
     },
     "execution_count": 64,
     "metadata": {},
     "output_type": "execute_result"
    }
   ],
   "source": [
    "N"
   ]
  },
  {
   "cell_type": "markdown",
   "id": "f256957b-35ba-4abc-947a-0424e8bafe57",
   "metadata": {},
   "source": [
    "#### Simplifications des formes fondamentales"
   ]
  },
  {
   "cell_type": "code",
   "execution_count": 66,
   "id": "140891c7-a478-4e74-82df-1373fe1f0a1b",
   "metadata": {},
   "outputs": [],
   "source": [
    "#première formes fondamentales\n",
    "E = R^2*tanh(u)^2\n",
    "F = 0\n",
    "G = R^2 / (cosh(u)^2)\n",
    "\n",
    "#secondes formes fondamentales\n",
    "L = -2*R*tanh(u)^2\n",
    "M = 0\n",
    "N = R*tanh(u)"
   ]
  },
  {
   "cell_type": "code",
   "execution_count": 67,
   "id": "71aa222b-dbf0-4eac-92c3-7df8aed369ca",
   "metadata": {},
   "outputs": [
    {
     "data": {
      "text/html": [
       "<html>\\(\\displaystyle -\\frac{2 \\, \\cosh\\left(u\\right)^{2} \\tanh\\left(u\\right)}{R^{2}}\\)</html>"
      ],
      "text/latex": [
       "$\\displaystyle -\\frac{2 \\, \\cosh\\left(u\\right)^{2} \\tanh\\left(u\\right)}{R^{2}}$"
      ],
      "text/plain": [
       "-2*cosh(u)^2*tanh(u)/R^2"
      ]
     },
     "execution_count": 67,
     "metadata": {},
     "output_type": "execute_result"
    }
   ],
   "source": [
    "K = (L*N - M^2)/(E*G-F^2)\n",
    "K"
   ]
  },
  {
   "cell_type": "code",
   "execution_count": 69,
   "id": "7eba1772-b641-4364-9f2d-f9fa36235267",
   "metadata": {},
   "outputs": [
    {
     "data": {
      "text/html": [
       "<html>\\(\\displaystyle \\frac{{\\left(R^{3} \\tanh\\left(u\\right)^{3} - \\frac{2 \\, R^{3} \\tanh\\left(u\\right)^{2}}{\\cosh\\left(u\\right)^{2}}\\right)} \\cosh\\left(u\\right)^{2}}{2 \\, R^{4} \\tanh\\left(u\\right)^{2}}\\)</html>"
      ],
      "text/latex": [
       "$\\displaystyle \\frac{{\\left(R^{3} \\tanh\\left(u\\right)^{3} - \\frac{2 \\, R^{3} \\tanh\\left(u\\right)^{2}}{\\cosh\\left(u\\right)^{2}}\\right)} \\cosh\\left(u\\right)^{2}}{2 \\, R^{4} \\tanh\\left(u\\right)^{2}}$"
      ],
      "text/plain": [
       "1/2*(R^3*tanh(u)^3 - 2*R^3*tanh(u)^2/cosh(u)^2)*cosh(u)^2/(R^4*tanh(u)^2)"
      ]
     },
     "execution_count": 69,
     "metadata": {},
     "output_type": "execute_result"
    }
   ],
   "source": [
    "H = (1/2)*((E*N+G*L-2*F*M)/(E*G-F))\n",
    "H"
   ]
  },
  {
   "cell_type": "code",
   "execution_count": null,
   "id": "e365025f-e6ba-4ec1-87e8-6c2cef881535",
   "metadata": {},
   "outputs": [],
   "source": []
  }
 ],
 "metadata": {
  "kernelspec": {
   "display_name": "SageMath 10.4",
   "language": "sage",
   "name": "sagemath-10.4"
  },
  "language_info": {
   "codemirror_mode": {
    "name": "ipython",
    "version": 3
   },
   "file_extension": ".py",
   "mimetype": "text/x-python",
   "name": "python",
   "nbconvert_exporter": "python",
   "pygments_lexer": "ipython3",
   "version": "3.12.4"
  }
 },
 "nbformat": 4,
 "nbformat_minor": 5
}
