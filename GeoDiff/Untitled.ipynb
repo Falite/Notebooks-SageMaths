{
 "cells": [
  {
   "cell_type": "code",
   "execution_count": 1,
   "id": "1f199f60-7241-4fae-84e4-f7e506efbb42",
   "metadata": {},
   "outputs": [
    {
     "name": "stdout",
     "output_type": "stream",
     "text": [
      "u - tanh(u) tanh(u)^2\n"
     ]
    }
   ],
   "source": [
    "var('u')\n",
    "\n",
    "f = u - tanh(u)\n",
    "df = diff(f,u) \n",
    "\n",
    "print(f,df)"
   ]
  },
  {
   "cell_type": "code",
   "execution_count": 2,
   "id": "02813aa9-c3fd-4433-b1cf-411e26562d8f",
   "metadata": {},
   "outputs": [
    {
     "name": "stdout",
     "output_type": "stream",
     "text": [
      "cosh(u)^2        2*cosh(u)*sinh(u)\n"
     ]
    }
   ],
   "source": [
    "f = cosh(u)^2\n",
    "df=diff(f,u)\n",
    "\n",
    "print(f,\"      \",df)"
   ]
  },
  {
   "cell_type": "code",
   "execution_count": 3,
   "id": "9844c8ad-c03d-42cd-bd5f-b0dec48e518d",
   "metadata": {},
   "outputs": [
    {
     "name": "stdout",
     "output_type": "stream",
     "text": [
      "sinh(u)^2        2*cosh(u)*sinh(u)\n"
     ]
    }
   ],
   "source": [
    "f = sinh(u)^2\n",
    "df=diff(f,u)\n",
    "\n",
    "print(f,\"      \",df)"
   ]
  },
  {
   "cell_type": "code",
   "execution_count": null,
   "id": "6787d5d2-4899-41e3-8e03-e3c421b32683",
   "metadata": {},
   "outputs": [],
   "source": []
  }
 ],
 "metadata": {
  "kernelspec": {
   "display_name": "SageMath 10.4",
   "language": "sage",
   "name": "sagemath-10.4"
  },
  "language_info": {
   "codemirror_mode": {
    "name": "ipython",
    "version": 3
   },
   "file_extension": ".py",
   "mimetype": "text/x-python",
   "name": "python",
   "nbconvert_exporter": "python",
   "pygments_lexer": "ipython3",
   "version": "3.12.4"
  }
 },
 "nbformat": 4,
 "nbformat_minor": 5
}
