{
 "cells": [
  {
   "cell_type": "markdown",
   "id": "83ec8ea2-fe5e-4d52-977e-cf6ad2c652c8",
   "metadata": {},
   "source": [
    "# Tractrice\n",
    "\n",
    "https://www.mathcurve.com/courbes2d/tractrice/tractrice.shtml"
   ]
  },
  {
   "cell_type": "code",
   "execution_count": 2,
   "id": "235adcdd-81b0-4e56-9c00-3a509481eea0",
   "metadata": {},
   "outputs": [],
   "source": [
    "%display latex"
   ]
  },
  {
   "cell_type": "markdown",
   "id": "e858ec37-f59f-4432-9cf8-a157941589c9",
   "metadata": {},
   "source": [
    "Une paramétrisation de la tractrice est $\\mathcal T : \\mathbb  R_+^* \\longrightarrow \\mathbb R^2 $                   \n",
    "                                        $~~~~~~~~~~~~~~~~~~~~~~~~~~~~~~~~~~~~~~~~~~~~~~~~~~~~~~~~~t \\longrightarrow \\begin{pmatrix} t - \\tanh (t) \\\\ \\frac R{\\cosh (t)} \\end{pmatrix}$"
   ]
  },
  {
   "cell_type": "code",
   "execution_count": 3,
   "id": "6e479d54-00f3-4e84-a416-354197e3cad2",
   "metadata": {},
   "outputs": [],
   "source": [
    "var('R')\n",
    "assume(R!=0)"
   ]
  },
  {
   "cell_type": "code",
   "execution_count": 4,
   "id": "433dd15c-dae2-4332-9e7f-f3c2c4c60c06",
   "metadata": {},
   "outputs": [
    {
     "data": {
      "text/html": [
       "<html>\\(\\displaystyle \\left(R t - R \\tanh\\left(t\\right),\\,\\frac{R}{\\cosh\\left(t\\right)}\\right)\\)</html>"
      ],
      "text/latex": [
       "$\\displaystyle \\left(R t - R \\tanh\\left(t\\right),\\,\\frac{R}{\\cosh\\left(t\\right)}\\right)$"
      ],
      "text/plain": [
       "(R*t - R*tanh(t), R/cosh(t))"
      ]
     },
     "execution_count": 4,
     "metadata": {},
     "output_type": "execute_result"
    }
   ],
   "source": [
    "var('t')\n",
    "\n",
    "f = vector([R*t-R*tanh(t),\n",
    "           R/cosh(t)])\n",
    "f"
   ]
  },
  {
   "cell_type": "code",
   "execution_count": 5,
   "id": "8df9577e-ede9-4bfa-aa5e-c29334387299",
   "metadata": {},
   "outputs": [
    {
     "data": {
      "text/html": [
       "<html>\\(\\displaystyle \\left({\\left(\\tanh\\left(t\\right)^{2} - 1\\right)} R + R,\\,-\\frac{R \\sinh\\left(t\\right)}{\\cosh\\left(t\\right)^{2}}\\right)\\)</html>"
      ],
      "text/latex": [
       "$\\displaystyle \\left({\\left(\\tanh\\left(t\\right)^{2} - 1\\right)} R + R,\\,-\\frac{R \\sinh\\left(t\\right)}{\\cosh\\left(t\\right)^{2}}\\right)$"
      ],
      "text/plain": [
       "((tanh(t)^2 - 1)*R + R, -R*sinh(t)/cosh(t)^2)"
      ]
     },
     "execution_count": 5,
     "metadata": {},
     "output_type": "execute_result"
    }
   ],
   "source": [
    "df = diff(f,t)\n",
    "df"
   ]
  },
  {
   "cell_type": "code",
   "execution_count": 6,
   "id": "edfcf544-d8a4-4317-bad7-09693c96baa3",
   "metadata": {},
   "outputs": [
    {
     "data": {
      "text/html": [
       "<html>\\(\\displaystyle \\left(-2 \\, {\\left(\\tanh\\left(t\\right)^{2} - 1\\right)} R \\tanh\\left(t\\right),\\,-\\frac{R}{\\cosh\\left(t\\right)} + \\frac{2 \\, R \\sinh\\left(t\\right)^{2}}{\\cosh\\left(t\\right)^{3}}\\right)\\)</html>"
      ],
      "text/latex": [
       "$\\displaystyle \\left(-2 \\, {\\left(\\tanh\\left(t\\right)^{2} - 1\\right)} R \\tanh\\left(t\\right),\\,-\\frac{R}{\\cosh\\left(t\\right)} + \\frac{2 \\, R \\sinh\\left(t\\right)^{2}}{\\cosh\\left(t\\right)^{3}}\\right)$"
      ],
      "text/plain": [
       "(-2*(tanh(t)^2 - 1)*R*tanh(t), -R/cosh(t) + 2*R*sinh(t)^2/cosh(t)^3)"
      ]
     },
     "execution_count": 6,
     "metadata": {},
     "output_type": "execute_result"
    }
   ],
   "source": [
    "d2f = diff(df,t)\n",
    "d2f"
   ]
  },
  {
   "cell_type": "code",
   "execution_count": 11,
   "id": "d776ea5d-d55f-4f16-a57d-085285b64a7e",
   "metadata": {},
   "outputs": [
    {
     "data": {
      "text/html": [
       "<html>\\(\\displaystyle -\\frac{2 \\, {\\left(\\tanh\\left(t\\right)^{2} - 1\\right)} R^{2} \\sinh\\left(t\\right) \\tanh\\left(t\\right)}{\\cosh\\left(t\\right)^{2}} - {\\left({\\left(\\tanh\\left(t\\right)^{2} - 1\\right)} R + R\\right)} {\\left(\\frac{R}{\\cosh\\left(t\\right)} - \\frac{2 \\, R \\sinh\\left(t\\right)^{2}}{\\cosh\\left(t\\right)^{3}}\\right)}\\)</html>"
      ],
      "text/latex": [
       "$\\displaystyle -\\frac{2 \\, {\\left(\\tanh\\left(t\\right)^{2} - 1\\right)} R^{2} \\sinh\\left(t\\right) \\tanh\\left(t\\right)}{\\cosh\\left(t\\right)^{2}} - {\\left({\\left(\\tanh\\left(t\\right)^{2} - 1\\right)} R + R\\right)} {\\left(\\frac{R}{\\cosh\\left(t\\right)} - \\frac{2 \\, R \\sinh\\left(t\\right)^{2}}{\\cosh\\left(t\\right)^{3}}\\right)}$"
      ],
      "text/plain": [
       "-2*(tanh(t)^2 - 1)*R^2*sinh(t)*tanh(t)/cosh(t)^2 - ((tanh(t)^2 - 1)*R + R)*(R/cosh(t) - 2*R*sinh(t)^2/cosh(t)^3)"
      ]
     },
     "execution_count": 11,
     "metadata": {},
     "output_type": "execute_result"
    }
   ],
   "source": [
    "M = matrix([df,d2f])\n",
    "\n",
    "detM = M.det()\n",
    "detM"
   ]
  }
 ],
 "metadata": {
  "kernelspec": {
   "display_name": "SageMath 10.4",
   "language": "sage",
   "name": "sagemath-10.4"
  },
  "language_info": {
   "codemirror_mode": {
    "name": "ipython",
    "version": 3
   },
   "file_extension": ".py",
   "mimetype": "text/x-python",
   "name": "python",
   "nbconvert_exporter": "python",
   "pygments_lexer": "ipython3",
   "version": "3.12.4"
  }
 },
 "nbformat": 4,
 "nbformat_minor": 5
}
